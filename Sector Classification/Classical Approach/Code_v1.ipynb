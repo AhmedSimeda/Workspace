{
 "cells": [
  {
   "cell_type": "markdown",
   "metadata": {
    "id": "uT7OEo0sZbwm"
   },
   "source": [
    "# Exploring and Cleaning the data"
   ]
  },
  {
   "cell_type": "code",
   "execution_count": 1,
   "metadata": {
    "id": "t8-UEaOYSQ0p"
   },
   "outputs": [],
   "source": [
    "import pandas as pd\n",
    "import numpy as np\n",
    "\n",
    "import matplotlib.pyplot as plt\n",
    "import seaborn as sns\n",
    "\n",
    "pd.set_option('display.max_colwidth', None)"
   ]
  },
  {
   "cell_type": "code",
   "execution_count": 2,
   "metadata": {
    "id": "tUALIVo2ZfYR"
   },
   "outputs": [],
   "source": [
    "data = pd.read_csv('train_aug_in_kag_org.csv')"
   ]
  },
  {
   "cell_type": "code",
   "execution_count": 3,
   "metadata": {
    "colab": {
     "base_uri": "https://localhost:8080/",
     "height": 1000
    },
    "id": "UTp9GwGaaCDg",
    "outputId": "c8d30a49-9315-4726-c6cd-def4be7f9615"
   },
   "outputs": [
    {
     "data": {
      "text/html": [
       "\n",
       "  <div id=\"df-a3f71202-46df-409e-9170-33cb78fb572a\">\n",
       "    <div class=\"colab-df-container\">\n",
       "      <div>\n",
       "<style scoped>\n",
       "    .dataframe tbody tr th:only-of-type {\n",
       "        vertical-align: middle;\n",
       "    }\n",
       "\n",
       "    .dataframe tbody tr th {\n",
       "        vertical-align: top;\n",
       "    }\n",
       "\n",
       "    .dataframe thead th {\n",
       "        text-align: right;\n",
       "    }\n",
       "</style>\n",
       "<table border=\"1\" class=\"dataframe\">\n",
       "  <thead>\n",
       "    <tr style=\"text-align: right;\">\n",
       "      <th></th>\n",
       "      <th>title</th>\n",
       "      <th>text</th>\n",
       "      <th>title_text</th>\n",
       "      <th>label</th>\n",
       "    </tr>\n",
       "  </thead>\n",
       "  <tbody>\n",
       "    <tr>\n",
       "      <th>0</th>\n",
       "      <td>squirrel financial wellbeing</td>\n",
       "      <td>A Squirrel account makes it easy to stick to your budget and save. Start for free today!</td>\n",
       "      <td>squirrel financial wellbeing. A Squirrel account makes it easy to stick to your budget and save. Start for free today!</td>\n",
       "      <td>payment-credit-card-balance-euro-dollars-credit-debit-receipt-billing</td>\n",
       "    </tr>\n",
       "    <tr>\n",
       "      <th>1</th>\n",
       "      <td>senior insurance marketing</td>\n",
       "      <td>Welcome to the home page of Senior Insurance Marketing, a full service brokerage specializing in Medicare and senior insurance products.  Located in Lincoln, NE.</td>\n",
       "      <td>senior insurance marketing. Welcome to the home page of Senior Insurance Marketing, a full service brokerage specializing in Medicare and senior insurance products.  Located in Lincoln, NE.</td>\n",
       "      <td>payment-credit-card-balance-euro-dollars-credit-debit-receipt-billing</td>\n",
       "    </tr>\n",
       "    <tr>\n",
       "      <th>2</th>\n",
       "      <td>3i financial group inc.</td>\n",
       "      <td>A Small Boutique Firm Dedicated to Achieving Our Clients Goals.#sep#inform.invest.insure Get a Free, No Obligation Quote forAllYour Insurance Needs. 3i Financial offers a wide variety of insurance products to help suit your needs. Choose from individual, family, and group. GET A QUOTE TODAY Travel Insurance Get peace of mind with comprehensive travel insurance. Get a free quote today! Health &amp; Dental Get affordable health  Read more</td>\n",
       "      <td>3i financial group inc.. A Small Boutique Firm Dedicated to Achieving Our Clients Goals.#sep#inform.invest.insure Get a Free, No Obligation Quote forAllYour Insurance Needs. 3i Financial offers a wide variety of insurance products to help suit your needs. Choose from individual, family, and group. GET A QUOTE TODAY Travel Insurance Get peace of mind with comprehensive travel insurance. Get a free quote today! Health &amp; Dental Get affordable health  Read more</td>\n",
       "      <td>payment-credit-card-balance-euro-dollars-credit-debit-receipt-billing</td>\n",
       "    </tr>\n",
       "    <tr>\n",
       "      <th>3</th>\n",
       "      <td>brownstone insurance</td>\n",
       "      <td>Brownstone Insurance provides master insurance policies for multi-unit buildings throughout Massachusetts, as well as personal insurance products such as renter's insurance and homeowner's insurance.#sep#Brownstone Insurance provides master insurance policies for multi-unit \\nbuildings throughout Massachusetts, as well as personal insurance products \\nsuch as renter's insurance and homeowner's insurance.</td>\n",
       "      <td>brownstone insurance. Brownstone Insurance provides master insurance policies for multi-unit buildings throughout Massachusetts, as well as personal insurance products such as renter's insurance and homeowner's insurance.#sep#Brownstone Insurance provides master insurance policies for multi-unit \\nbuildings throughout Massachusetts, as well as personal insurance products \\nsuch as renter's insurance and homeowner's insurance.</td>\n",
       "      <td>payment-credit-card-balance-euro-dollars-credit-debit-receipt-billing</td>\n",
       "    </tr>\n",
       "    <tr>\n",
       "      <th>4</th>\n",
       "      <td>pacificwide lending</td>\n",
       "      <td>Learn more about Pacificwide Lending and our commercial &amp; residential loan services in California.</td>\n",
       "      <td>pacificwide lending. Learn more about Pacificwide Lending and our commercial &amp; residential loan services in California.</td>\n",
       "      <td>payment-credit-card-balance-euro-dollars-credit-debit-receipt-billing</td>\n",
       "    </tr>\n",
       "    <tr>\n",
       "      <th>5</th>\n",
       "      <td>city auto finance</td>\n",
       "      <td>City Auto Finance is the Southeast's most trusted used-car floor plan financing company with locations in Memphis, TN; Mobile, AL; Huntsville, AL and Murfreesboro, TN. We provide you with competitive rates and the capability to make payments online.</td>\n",
       "      <td>city auto finance. City Auto Finance is the Southeast's most trusted used-car floor plan financing company with locations in Memphis, TN; Mobile, AL; Huntsville, AL and Murfreesboro, TN. We provide you with competitive rates and the capability to make payments online.</td>\n",
       "      <td>payment-credit-card-balance-euro-dollars-credit-debit-receipt-billing</td>\n",
       "    </tr>\n",
       "    <tr>\n",
       "      <th>6</th>\n",
       "      <td>veterans financial, inc.</td>\n",
       "      <td>VA Aid and Attendance benefit can help pay for assisted living, home care or nursing home. Veterans Financial Inc can advise you at no cost about benefits</td>\n",
       "      <td>veterans financial, inc.. VA Aid and Attendance benefit can help pay for assisted living, home care or nursing home. Veterans Financial Inc can advise you at no cost about benefits</td>\n",
       "      <td>payment-credit-card-balance-euro-dollars-credit-debit-receipt-billing</td>\n",
       "    </tr>\n",
       "    <tr>\n",
       "      <th>7</th>\n",
       "      <td>keystart country home loans</td>\n",
       "      <td>Make your home ownership dream a reality. Keystart's low-deposit, no LMI home loans lower the entry barriers so you can get into a home of your own sooner.</td>\n",
       "      <td>keystart country home loans. Make your home ownership dream a reality. Keystart's low-deposit, no LMI home loans lower the entry barriers so you can get into a home of your own sooner.</td>\n",
       "      <td>payment-credit-card-balance-euro-dollars-credit-debit-receipt-billing</td>\n",
       "    </tr>\n",
       "    <tr>\n",
       "      <th>8</th>\n",
       "      <td>united insurance</td>\n",
       "      <td>United Insurance provides personal insurance, commercial insurance, and group benefits with 16 location in Maine and New Hampshire since 1976.</td>\n",
       "      <td>united insurance. United Insurance provides personal insurance, commercial insurance, and group benefits with 16 location in Maine and New Hampshire since 1976.</td>\n",
       "      <td>payment-credit-card-balance-euro-dollars-credit-debit-receipt-billing</td>\n",
       "    </tr>\n",
       "    <tr>\n",
       "      <th>9</th>\n",
       "      <td>insurance brokers co., inc.</td>\n",
       "      <td>Auto Insurance, Home Insurance, Business Insurance, Life &amp; Health Insurance in Rockville, Gaithersburg, Potomac, Bethesda, Germantown and Silver Spring.</td>\n",
       "      <td>insurance brokers co., inc.. Auto Insurance, Home Insurance, Business Insurance, Life &amp; Health Insurance in Rockville, Gaithersburg, Potomac, Bethesda, Germantown and Silver Spring.</td>\n",
       "      <td>payment-credit-card-balance-euro-dollars-credit-debit-receipt-billing</td>\n",
       "    </tr>\n",
       "  </tbody>\n",
       "</table>\n",
       "</div>\n",
       "      <button class=\"colab-df-convert\" onclick=\"convertToInteractive('df-a3f71202-46df-409e-9170-33cb78fb572a')\"\n",
       "              title=\"Convert this dataframe to an interactive table.\"\n",
       "              style=\"display:none;\">\n",
       "        \n",
       "  <svg xmlns=\"http://www.w3.org/2000/svg\" height=\"24px\"viewBox=\"0 0 24 24\"\n",
       "       width=\"24px\">\n",
       "    <path d=\"M0 0h24v24H0V0z\" fill=\"none\"/>\n",
       "    <path d=\"M18.56 5.44l.94 2.06.94-2.06 2.06-.94-2.06-.94-.94-2.06-.94 2.06-2.06.94zm-11 1L8.5 8.5l.94-2.06 2.06-.94-2.06-.94L8.5 2.5l-.94 2.06-2.06.94zm10 10l.94 2.06.94-2.06 2.06-.94-2.06-.94-.94-2.06-.94 2.06-2.06.94z\"/><path d=\"M17.41 7.96l-1.37-1.37c-.4-.4-.92-.59-1.43-.59-.52 0-1.04.2-1.43.59L10.3 9.45l-7.72 7.72c-.78.78-.78 2.05 0 2.83L4 21.41c.39.39.9.59 1.41.59.51 0 1.02-.2 1.41-.59l7.78-7.78 2.81-2.81c.8-.78.8-2.07 0-2.86zM5.41 20L4 18.59l7.72-7.72 1.47 1.35L5.41 20z\"/>\n",
       "  </svg>\n",
       "      </button>\n",
       "      \n",
       "  <style>\n",
       "    .colab-df-container {\n",
       "      display:flex;\n",
       "      flex-wrap:wrap;\n",
       "      gap: 12px;\n",
       "    }\n",
       "\n",
       "    .colab-df-convert {\n",
       "      background-color: #E8F0FE;\n",
       "      border: none;\n",
       "      border-radius: 50%;\n",
       "      cursor: pointer;\n",
       "      display: none;\n",
       "      fill: #1967D2;\n",
       "      height: 32px;\n",
       "      padding: 0 0 0 0;\n",
       "      width: 32px;\n",
       "    }\n",
       "\n",
       "    .colab-df-convert:hover {\n",
       "      background-color: #E2EBFA;\n",
       "      box-shadow: 0px 1px 2px rgba(60, 64, 67, 0.3), 0px 1px 3px 1px rgba(60, 64, 67, 0.15);\n",
       "      fill: #174EA6;\n",
       "    }\n",
       "\n",
       "    [theme=dark] .colab-df-convert {\n",
       "      background-color: #3B4455;\n",
       "      fill: #D2E3FC;\n",
       "    }\n",
       "\n",
       "    [theme=dark] .colab-df-convert:hover {\n",
       "      background-color: #434B5C;\n",
       "      box-shadow: 0px 1px 3px 1px rgba(0, 0, 0, 0.15);\n",
       "      filter: drop-shadow(0px 1px 2px rgba(0, 0, 0, 0.3));\n",
       "      fill: #FFFFFF;\n",
       "    }\n",
       "  </style>\n",
       "\n",
       "      <script>\n",
       "        const buttonEl =\n",
       "          document.querySelector('#df-a3f71202-46df-409e-9170-33cb78fb572a button.colab-df-convert');\n",
       "        buttonEl.style.display =\n",
       "          google.colab.kernel.accessAllowed ? 'block' : 'none';\n",
       "\n",
       "        async function convertToInteractive(key) {\n",
       "          const element = document.querySelector('#df-a3f71202-46df-409e-9170-33cb78fb572a');\n",
       "          const dataTable =\n",
       "            await google.colab.kernel.invokeFunction('convertToInteractive',\n",
       "                                                     [key], {});\n",
       "          if (!dataTable) return;\n",
       "\n",
       "          const docLinkHtml = 'Like what you see? Visit the ' +\n",
       "            '<a target=\"_blank\" href=https://colab.research.google.com/notebooks/data_table.ipynb>data table notebook</a>'\n",
       "            + ' to learn more about interactive tables.';\n",
       "          element.innerHTML = '';\n",
       "          dataTable['output_type'] = 'display_data';\n",
       "          await google.colab.output.renderOutput(dataTable, element);\n",
       "          const docLink = document.createElement('div');\n",
       "          docLink.innerHTML = docLinkHtml;\n",
       "          element.appendChild(docLink);\n",
       "        }\n",
       "      </script>\n",
       "    </div>\n",
       "  </div>\n",
       "  "
      ],
      "text/plain": [
       "                          title  ...                                                                  label\n",
       "0  squirrel financial wellbeing  ...  payment-credit-card-balance-euro-dollars-credit-debit-receipt-billing\n",
       "1    senior insurance marketing  ...  payment-credit-card-balance-euro-dollars-credit-debit-receipt-billing\n",
       "2       3i financial group inc.  ...  payment-credit-card-balance-euro-dollars-credit-debit-receipt-billing\n",
       "3          brownstone insurance  ...  payment-credit-card-balance-euro-dollars-credit-debit-receipt-billing\n",
       "4           pacificwide lending  ...  payment-credit-card-balance-euro-dollars-credit-debit-receipt-billing\n",
       "5             city auto finance  ...  payment-credit-card-balance-euro-dollars-credit-debit-receipt-billing\n",
       "6      veterans financial, inc.  ...  payment-credit-card-balance-euro-dollars-credit-debit-receipt-billing\n",
       "7   keystart country home loans  ...  payment-credit-card-balance-euro-dollars-credit-debit-receipt-billing\n",
       "8              united insurance  ...  payment-credit-card-balance-euro-dollars-credit-debit-receipt-billing\n",
       "9   insurance brokers co., inc.  ...  payment-credit-card-balance-euro-dollars-credit-debit-receipt-billing\n",
       "\n",
       "[10 rows x 4 columns]"
      ]
     },
     "execution_count": 3,
     "metadata": {},
     "output_type": "execute_result"
    }
   ],
   "source": [
    "data.head(10)"
   ]
  },
  {
   "cell_type": "code",
   "execution_count": 4,
   "metadata": {
    "colab": {
     "base_uri": "https://localhost:8080/"
    },
    "id": "9O8GdDjMaDYC",
    "outputId": "c23adb73-7671-4324-8547-f464ab9e70da"
   },
   "outputs": [
    {
     "data": {
      "text/plain": [
       "(34953, 4)"
      ]
     },
     "execution_count": 4,
     "metadata": {},
     "output_type": "execute_result"
    }
   ],
   "source": [
    "data.shape"
   ]
  },
  {
   "cell_type": "code",
   "execution_count": 5,
   "metadata": {
    "colab": {
     "base_uri": "https://localhost:8080/"
    },
    "id": "pSjePuz1aEuc",
    "outputId": "d081d89f-8161-400c-c788-3a051bed55b0"
   },
   "outputs": [
    {
     "data": {
      "text/plain": [
       "title         42\n",
       "text           0\n",
       "title_text     0\n",
       "label          0\n",
       "dtype: int64"
      ]
     },
     "execution_count": 5,
     "metadata": {},
     "output_type": "execute_result"
    }
   ],
   "source": [
    "data.isnull().sum()"
   ]
  },
  {
   "cell_type": "code",
   "execution_count": 6,
   "metadata": {
    "id": "WEVoPlBSaFzQ"
   },
   "outputs": [],
   "source": [
    "data.dropna(inplace=True)"
   ]
  },
  {
   "cell_type": "code",
   "execution_count": 7,
   "metadata": {
    "colab": {
     "base_uri": "https://localhost:8080/"
    },
    "id": "OyrlUQ11aHE3",
    "outputId": "68d01aae-8cc2-4951-850e-7884ca891c0c"
   },
   "outputs": [
    {
     "data": {
      "text/plain": [
       "15"
      ]
     },
     "execution_count": 7,
     "metadata": {},
     "output_type": "execute_result"
    }
   ],
   "source": [
    "data['label'].nunique()"
   ]
  },
  {
   "cell_type": "code",
   "execution_count": 8,
   "metadata": {
    "colab": {
     "base_uri": "https://localhost:8080/"
    },
    "id": "CuTuuvcwvrVf",
    "outputId": "fdcbfee3-2cc8-40dd-ce9b-275d7cb715a0"
   },
   "outputs": [
    {
     "data": {
      "text/plain": [
       "payment-credit-card-balance-euro-dollars-credit-debit-receipt-billing                                                 6160\n",
       "api-code-technical-gear-parameters-setup-config                                                                       6145\n",
       "hospital-health-safety-doctor-nurse-medicine-medical-clinic                                                           5634\n",
       "edit-paint-art-palette-lightbulb-idea-image                                                                           5043\n",
       "restaurant-food-eat-eating people-water-drink                                                                         2161\n",
       "building-appartment-house-block-construction-kitchen-pool-parking-automation-decoration-decor-furniture-room-table    1957\n",
       "education                                                                                                             1853\n",
       "beauty-fashion-makeup-women                                                                                           1802\n",
       "travel-hospitality                                                                                                    1798\n",
       "business-startup-offices-work station-desk-work                                                                        725\n",
       "legal                                                                                                                  559\n",
       "non-profit-help-gratitude-support-volunteer                                                                            513\n",
       "send-share-notification                                                                                                388\n",
       "user-profile-community-groups                                                                                          116\n",
       "call-phone-smartphone-android-apple-conference-whatsapp-camera-photo-telegram-signal                                    57\n",
       "Name: label, dtype: int64"
      ]
     },
     "execution_count": 8,
     "metadata": {},
     "output_type": "execute_result"
    }
   ],
   "source": [
    "data['label'].value_counts()"
   ]
  },
  {
   "cell_type": "code",
   "execution_count": 9,
   "metadata": {
    "colab": {
     "base_uri": "https://localhost:8080/"
    },
    "id": "vaBPAcvwaLIz",
    "outputId": "8da9feeb-ae1b-40fd-e46c-54d040cb0d0b"
   },
   "outputs": [
    {
     "data": {
      "text/plain": [
       "False"
      ]
     },
     "execution_count": 9,
     "metadata": {},
     "output_type": "execute_result"
    }
   ],
   "source": [
    "all(data['text']==data['title_text'])"
   ]
  },
  {
   "cell_type": "code",
   "execution_count": 10,
   "metadata": {
    "colab": {
     "base_uri": "https://localhost:8080/"
    },
    "id": "RephOHiGaICD",
    "outputId": "116524bc-da88-47f5-d119-a635424b81c5"
   },
   "outputs": [
    {
     "data": {
      "text/plain": [
       "27"
      ]
     },
     "execution_count": 10,
     "metadata": {},
     "output_type": "execute_result"
    }
   ],
   "source": [
    "sum(data['text']==data['title_text'])"
   ]
  },
  {
   "cell_type": "code",
   "execution_count": 11,
   "metadata": {
    "id": "sddM73fvaI_X"
   },
   "outputs": [],
   "source": [
    "data['len_text'] = data['text'].apply(lambda x: len(x))\n",
    "data['len_title_text'] = data['title_text'].apply(lambda x: len(x))"
   ]
  },
  {
   "cell_type": "code",
   "execution_count": 12,
   "metadata": {
    "colab": {
     "base_uri": "https://localhost:8080/"
    },
    "id": "4t9gdVT1aQJd",
    "outputId": "dcb2a78c-207a-4003-8638-e35ff5140099"
   },
   "outputs": [
    {
     "data": {
      "text/plain": [
       "False"
      ]
     },
     "execution_count": 12,
     "metadata": {},
     "output_type": "execute_result"
    }
   ],
   "source": [
    "all(data['len_title_text']>data['len_text'])"
   ]
  },
  {
   "cell_type": "code",
   "execution_count": 13,
   "metadata": {
    "colab": {
     "base_uri": "https://localhost:8080/"
    },
    "id": "LAys5BFYaReJ",
    "outputId": "7ad3cf4a-28c1-4ca7-f102-12e126e65f2c"
   },
   "outputs": [
    {
     "data": {
      "text/plain": [
       "33297"
      ]
     },
     "execution_count": 13,
     "metadata": {},
     "output_type": "execute_result"
    }
   ],
   "source": [
    "sum(data['len_title_text']>data['len_text'])"
   ]
  },
  {
   "cell_type": "code",
   "execution_count": 14,
   "metadata": {
    "id": "qYM2MS4kaSx1"
   },
   "outputs": [],
   "source": [
    "data.drop(columns=['text', 'len_text', 'len_title_text'], inplace=True)"
   ]
  },
  {
   "cell_type": "code",
   "execution_count": 15,
   "metadata": {
    "colab": {
     "base_uri": "https://localhost:8080/",
     "height": 510
    },
    "id": "Vit6MnU0aUC2",
    "outputId": "eb6ac276-d888-4e1b-ceaa-65dd25d44373"
   },
   "outputs": [
    {
     "data": {
      "text/html": [
       "\n",
       "  <div id=\"df-c39d603e-90c1-48d9-9cf5-3ce9f7a16a37\">\n",
       "    <div class=\"colab-df-container\">\n",
       "      <div>\n",
       "<style scoped>\n",
       "    .dataframe tbody tr th:only-of-type {\n",
       "        vertical-align: middle;\n",
       "    }\n",
       "\n",
       "    .dataframe tbody tr th {\n",
       "        vertical-align: top;\n",
       "    }\n",
       "\n",
       "    .dataframe thead th {\n",
       "        text-align: right;\n",
       "    }\n",
       "</style>\n",
       "<table border=\"1\" class=\"dataframe\">\n",
       "  <thead>\n",
       "    <tr style=\"text-align: right;\">\n",
       "      <th></th>\n",
       "      <th>title</th>\n",
       "      <th>title_text</th>\n",
       "      <th>label</th>\n",
       "    </tr>\n",
       "  </thead>\n",
       "  <tbody>\n",
       "    <tr>\n",
       "      <th>0</th>\n",
       "      <td>squirrel financial wellbeing</td>\n",
       "      <td>squirrel financial wellbeing. A Squirrel account makes it easy to stick to your budget and save. Start for free today!</td>\n",
       "      <td>payment-credit-card-balance-euro-dollars-credit-debit-receipt-billing</td>\n",
       "    </tr>\n",
       "    <tr>\n",
       "      <th>1</th>\n",
       "      <td>senior insurance marketing</td>\n",
       "      <td>senior insurance marketing. Welcome to the home page of Senior Insurance Marketing, a full service brokerage specializing in Medicare and senior insurance products.  Located in Lincoln, NE.</td>\n",
       "      <td>payment-credit-card-balance-euro-dollars-credit-debit-receipt-billing</td>\n",
       "    </tr>\n",
       "    <tr>\n",
       "      <th>2</th>\n",
       "      <td>3i financial group inc.</td>\n",
       "      <td>3i financial group inc.. A Small Boutique Firm Dedicated to Achieving Our Clients Goals.#sep#inform.invest.insure Get a Free, No Obligation Quote forAllYour Insurance Needs. 3i Financial offers a wide variety of insurance products to help suit your needs. Choose from individual, family, and group. GET A QUOTE TODAY Travel Insurance Get peace of mind with comprehensive travel insurance. Get a free quote today! Health &amp; Dental Get affordable health  Read more</td>\n",
       "      <td>payment-credit-card-balance-euro-dollars-credit-debit-receipt-billing</td>\n",
       "    </tr>\n",
       "    <tr>\n",
       "      <th>3</th>\n",
       "      <td>brownstone insurance</td>\n",
       "      <td>brownstone insurance. Brownstone Insurance provides master insurance policies for multi-unit buildings throughout Massachusetts, as well as personal insurance products such as renter's insurance and homeowner's insurance.#sep#Brownstone Insurance provides master insurance policies for multi-unit \\nbuildings throughout Massachusetts, as well as personal insurance products \\nsuch as renter's insurance and homeowner's insurance.</td>\n",
       "      <td>payment-credit-card-balance-euro-dollars-credit-debit-receipt-billing</td>\n",
       "    </tr>\n",
       "    <tr>\n",
       "      <th>4</th>\n",
       "      <td>pacificwide lending</td>\n",
       "      <td>pacificwide lending. Learn more about Pacificwide Lending and our commercial &amp; residential loan services in California.</td>\n",
       "      <td>payment-credit-card-balance-euro-dollars-credit-debit-receipt-billing</td>\n",
       "    </tr>\n",
       "  </tbody>\n",
       "</table>\n",
       "</div>\n",
       "      <button class=\"colab-df-convert\" onclick=\"convertToInteractive('df-c39d603e-90c1-48d9-9cf5-3ce9f7a16a37')\"\n",
       "              title=\"Convert this dataframe to an interactive table.\"\n",
       "              style=\"display:none;\">\n",
       "        \n",
       "  <svg xmlns=\"http://www.w3.org/2000/svg\" height=\"24px\"viewBox=\"0 0 24 24\"\n",
       "       width=\"24px\">\n",
       "    <path d=\"M0 0h24v24H0V0z\" fill=\"none\"/>\n",
       "    <path d=\"M18.56 5.44l.94 2.06.94-2.06 2.06-.94-2.06-.94-.94-2.06-.94 2.06-2.06.94zm-11 1L8.5 8.5l.94-2.06 2.06-.94-2.06-.94L8.5 2.5l-.94 2.06-2.06.94zm10 10l.94 2.06.94-2.06 2.06-.94-2.06-.94-.94-2.06-.94 2.06-2.06.94z\"/><path d=\"M17.41 7.96l-1.37-1.37c-.4-.4-.92-.59-1.43-.59-.52 0-1.04.2-1.43.59L10.3 9.45l-7.72 7.72c-.78.78-.78 2.05 0 2.83L4 21.41c.39.39.9.59 1.41.59.51 0 1.02-.2 1.41-.59l7.78-7.78 2.81-2.81c.8-.78.8-2.07 0-2.86zM5.41 20L4 18.59l7.72-7.72 1.47 1.35L5.41 20z\"/>\n",
       "  </svg>\n",
       "      </button>\n",
       "      \n",
       "  <style>\n",
       "    .colab-df-container {\n",
       "      display:flex;\n",
       "      flex-wrap:wrap;\n",
       "      gap: 12px;\n",
       "    }\n",
       "\n",
       "    .colab-df-convert {\n",
       "      background-color: #E8F0FE;\n",
       "      border: none;\n",
       "      border-radius: 50%;\n",
       "      cursor: pointer;\n",
       "      display: none;\n",
       "      fill: #1967D2;\n",
       "      height: 32px;\n",
       "      padding: 0 0 0 0;\n",
       "      width: 32px;\n",
       "    }\n",
       "\n",
       "    .colab-df-convert:hover {\n",
       "      background-color: #E2EBFA;\n",
       "      box-shadow: 0px 1px 2px rgba(60, 64, 67, 0.3), 0px 1px 3px 1px rgba(60, 64, 67, 0.15);\n",
       "      fill: #174EA6;\n",
       "    }\n",
       "\n",
       "    [theme=dark] .colab-df-convert {\n",
       "      background-color: #3B4455;\n",
       "      fill: #D2E3FC;\n",
       "    }\n",
       "\n",
       "    [theme=dark] .colab-df-convert:hover {\n",
       "      background-color: #434B5C;\n",
       "      box-shadow: 0px 1px 3px 1px rgba(0, 0, 0, 0.15);\n",
       "      filter: drop-shadow(0px 1px 2px rgba(0, 0, 0, 0.3));\n",
       "      fill: #FFFFFF;\n",
       "    }\n",
       "  </style>\n",
       "\n",
       "      <script>\n",
       "        const buttonEl =\n",
       "          document.querySelector('#df-c39d603e-90c1-48d9-9cf5-3ce9f7a16a37 button.colab-df-convert');\n",
       "        buttonEl.style.display =\n",
       "          google.colab.kernel.accessAllowed ? 'block' : 'none';\n",
       "\n",
       "        async function convertToInteractive(key) {\n",
       "          const element = document.querySelector('#df-c39d603e-90c1-48d9-9cf5-3ce9f7a16a37');\n",
       "          const dataTable =\n",
       "            await google.colab.kernel.invokeFunction('convertToInteractive',\n",
       "                                                     [key], {});\n",
       "          if (!dataTable) return;\n",
       "\n",
       "          const docLinkHtml = 'Like what you see? Visit the ' +\n",
       "            '<a target=\"_blank\" href=https://colab.research.google.com/notebooks/data_table.ipynb>data table notebook</a>'\n",
       "            + ' to learn more about interactive tables.';\n",
       "          element.innerHTML = '';\n",
       "          dataTable['output_type'] = 'display_data';\n",
       "          await google.colab.output.renderOutput(dataTable, element);\n",
       "          const docLink = document.createElement('div');\n",
       "          docLink.innerHTML = docLinkHtml;\n",
       "          element.appendChild(docLink);\n",
       "        }\n",
       "      </script>\n",
       "    </div>\n",
       "  </div>\n",
       "  "
      ],
      "text/plain": [
       "                          title  ...                                                                  label\n",
       "0  squirrel financial wellbeing  ...  payment-credit-card-balance-euro-dollars-credit-debit-receipt-billing\n",
       "1    senior insurance marketing  ...  payment-credit-card-balance-euro-dollars-credit-debit-receipt-billing\n",
       "2       3i financial group inc.  ...  payment-credit-card-balance-euro-dollars-credit-debit-receipt-billing\n",
       "3          brownstone insurance  ...  payment-credit-card-balance-euro-dollars-credit-debit-receipt-billing\n",
       "4           pacificwide lending  ...  payment-credit-card-balance-euro-dollars-credit-debit-receipt-billing\n",
       "\n",
       "[5 rows x 3 columns]"
      ]
     },
     "execution_count": 15,
     "metadata": {},
     "output_type": "execute_result"
    }
   ],
   "source": [
    "data.head()"
   ]
  },
  {
   "cell_type": "markdown",
   "metadata": {
    "id": "S1-p4caBaXE8"
   },
   "source": [
    "# Preparing our data for modeling "
   ]
  },
  {
   "cell_type": "code",
   "execution_count": 16,
   "metadata": {
    "colab": {
     "base_uri": "https://localhost:8080/"
    },
    "id": "eavokoSeaVKp",
    "outputId": "38fc05cf-1485-4e35-8a49-1ca2c2e80104"
   },
   "outputs": [
    {
     "name": "stdout",
     "output_type": "stream",
     "text": [
      "[nltk_data] Downloading package wordnet to /root/nltk_data...\n",
      "[nltk_data]   Package wordnet is already up-to-date!\n",
      "[nltk_data] Downloading package stopwords to /root/nltk_data...\n",
      "[nltk_data]   Package stopwords is already up-to-date!\n"
     ]
    }
   ],
   "source": [
    "import re\n",
    "import nltk\n",
    "nltk.download('wordnet')\n",
    "nltk.download('stopwords')\n",
    "from nltk.corpus import stopwords\n",
    "from nltk.stem import WordNetLemmatizer"
   ]
  },
  {
   "cell_type": "code",
   "execution_count": 17,
   "metadata": {
    "id": "ErrpTXBmaZSP"
   },
   "outputs": [],
   "source": [
    "# title\n",
    "title_corpus = []\n",
    "lm = WordNetLemmatizer()\n",
    "words = stopwords.words('english')\n",
    "\n",
    "for i in range(data.shape[0]):\n",
    "    row = re.sub('[^a-zA-Z\\s]', '', data.iloc[i, 0]).lower()\n",
    "    row = row.split()  \n",
    "    row = [lm.lemmatize(word) for word in row if word not in words]\n",
    "    row = ' '.join(row)\n",
    "    title_corpus.append(row)"
   ]
  },
  {
   "cell_type": "code",
   "execution_count": 18,
   "metadata": {
    "colab": {
     "base_uri": "https://localhost:8080/"
    },
    "id": "sZGOjBCxanQ4",
    "outputId": "66e05d85-35e8-408d-a27e-c04949c69a2b"
   },
   "outputs": [
    {
     "data": {
      "text/plain": [
       "34911"
      ]
     },
     "execution_count": 18,
     "metadata": {},
     "output_type": "execute_result"
    }
   ],
   "source": [
    "len(title_corpus)"
   ]
  },
  {
   "cell_type": "code",
   "execution_count": 19,
   "metadata": {
    "colab": {
     "base_uri": "https://localhost:8080/",
     "height": 35
    },
    "id": "8aGCrOuna-vi",
    "outputId": "3216cfd7-16da-4e4a-c94b-e44fad4abcbe"
   },
   "outputs": [
    {
     "data": {
      "application/vnd.google.colaboratory.intrinsic+json": {
       "type": "string"
      },
      "text/plain": [
       "'squirrel financial wellbeing'"
      ]
     },
     "execution_count": 19,
     "metadata": {},
     "output_type": "execute_result"
    }
   ],
   "source": [
    "title_corpus[0]"
   ]
  },
  {
   "cell_type": "code",
   "execution_count": 20,
   "metadata": {
    "id": "il1p9GXcab24"
   },
   "outputs": [],
   "source": [
    "# text\n",
    "text_corpus = []\n",
    "lm = WordNetLemmatizer()\n",
    "words = stopwords.words('english')\n",
    "\n",
    "for i in range(data.shape[0]):\n",
    "    row = re.sub('[^a-zA-Z\\s]', '', data.iloc[i, 1]).lower()\n",
    "    row = row.split()  \n",
    "    row = [lm.lemmatize(word) for word in row if word not in words]\n",
    "    row = ' '.join(row)\n",
    "    text_corpus.append(row)"
   ]
  },
  {
   "cell_type": "code",
   "execution_count": 21,
   "metadata": {
    "colab": {
     "base_uri": "https://localhost:8080/"
    },
    "id": "sjXi-jDvar0_",
    "outputId": "6e9d045b-8dc7-4c6c-97f6-d05d759010f9"
   },
   "outputs": [
    {
     "data": {
      "text/plain": [
       "34911"
      ]
     },
     "execution_count": 21,
     "metadata": {},
     "output_type": "execute_result"
    }
   ],
   "source": [
    "len(text_corpus)"
   ]
  },
  {
   "cell_type": "code",
   "execution_count": 22,
   "metadata": {
    "colab": {
     "base_uri": "https://localhost:8080/",
     "height": 35
    },
    "id": "qGm578wFatbS",
    "outputId": "e57c5a16-c689-450f-8962-bdae9ff399a1"
   },
   "outputs": [
    {
     "data": {
      "application/vnd.google.colaboratory.intrinsic+json": {
       "type": "string"
      },
      "text/plain": [
       "'squirrel financial wellbeing squirrel account make easy stick budget save start free today'"
      ]
     },
     "execution_count": 22,
     "metadata": {},
     "output_type": "execute_result"
    }
   ],
   "source": [
    "text_corpus[0]"
   ]
  },
  {
   "cell_type": "markdown",
   "metadata": {
    "id": "r4iGwbELrg7h"
   },
   "source": [
    "_Our Bag of Words_"
   ]
  },
  {
   "cell_type": "code",
   "execution_count": 23,
   "metadata": {
    "id": "NizfHsrPbCaR"
   },
   "outputs": [],
   "source": [
    "from sklearn.feature_extraction.text import CountVectorizer"
   ]
  },
  {
   "cell_type": "code",
   "execution_count": 24,
   "metadata": {
    "id": "t8dH5w-DsEoS"
   },
   "outputs": [],
   "source": [
    "title_cv = CountVectorizer(max_features=200)   \n",
    "X_title = title_cv.fit_transform(title_corpus).toarray()"
   ]
  },
  {
   "cell_type": "code",
   "execution_count": 25,
   "metadata": {
    "colab": {
     "base_uri": "https://localhost:8080/"
    },
    "id": "HKwCb4mSruCy",
    "outputId": "bf3e9862-30fd-4e04-ae3b-a134c27bbefe"
   },
   "outputs": [
    {
     "data": {
      "text/plain": [
       "(34911, 200)"
      ]
     },
     "execution_count": 25,
     "metadata": {},
     "output_type": "execute_result"
    }
   ],
   "source": [
    "X_title.shape"
   ]
  },
  {
   "cell_type": "code",
   "execution_count": 26,
   "metadata": {
    "id": "YCnDgfDirvuT"
   },
   "outputs": [],
   "source": [
    "text_cv = CountVectorizer(max_features=800)   \n",
    "X_text = text_cv.fit_transform(text_corpus).toarray()"
   ]
  },
  {
   "cell_type": "code",
   "execution_count": 27,
   "metadata": {
    "colab": {
     "base_uri": "https://localhost:8080/"
    },
    "id": "DATaht2csTTc",
    "outputId": "ee62a33a-4ab5-4935-aefa-f3abaa7b5f18"
   },
   "outputs": [
    {
     "data": {
      "text/plain": [
       "(34911, 800)"
      ]
     },
     "execution_count": 27,
     "metadata": {},
     "output_type": "execute_result"
    }
   ],
   "source": [
    "X_text.shape"
   ]
  },
  {
   "cell_type": "code",
   "execution_count": 28,
   "metadata": {
    "id": "wfaFp6GGsZyQ"
   },
   "outputs": [],
   "source": [
    "X = np.concatenate((X_title, X_text), axis=1)\n",
    "y = data.iloc[:, 2].values"
   ]
  },
  {
   "cell_type": "code",
   "execution_count": 29,
   "metadata": {
    "colab": {
     "base_uri": "https://localhost:8080/"
    },
    "id": "oC1oCc0Asn8I",
    "outputId": "b7dc5410-3206-404a-fb3f-b8fe2496e21d"
   },
   "outputs": [
    {
     "data": {
      "text/plain": [
       "((34911, 1000), (34911,))"
      ]
     },
     "execution_count": 29,
     "metadata": {},
     "output_type": "execute_result"
    }
   ],
   "source": [
    "X.shape, y.shape"
   ]
  },
  {
   "cell_type": "code",
   "execution_count": 30,
   "metadata": {
    "id": "tog76JXvtQCL"
   },
   "outputs": [],
   "source": [
    "# LabelEncoder\n",
    "from sklearn.preprocessing import LabelEncoder\n",
    "\n",
    "le = LabelEncoder()\n",
    "y = le.fit_transform(y)"
   ]
  },
  {
   "cell_type": "code",
   "execution_count": 31,
   "metadata": {
    "colab": {
     "base_uri": "https://localhost:8080/"
    },
    "id": "2oGcR5Y7tdwE",
    "outputId": "0a2a5f89-f3cd-4680-f186-917f9bb42776"
   },
   "outputs": [
    {
     "data": {
      "text/plain": [
       "array([ 0,  1,  2,  3,  4,  5,  6,  7,  8,  9, 10, 11, 12, 13, 14])"
      ]
     },
     "execution_count": 31,
     "metadata": {},
     "output_type": "execute_result"
    }
   ],
   "source": [
    "np.unique(y)"
   ]
  },
  {
   "cell_type": "markdown",
   "metadata": {
    "id": "mN9jwYozsr8v"
   },
   "source": [
    "# Splitting the data"
   ]
  },
  {
   "cell_type": "code",
   "execution_count": 32,
   "metadata": {
    "id": "HCdz0m_cspOo"
   },
   "outputs": [],
   "source": [
    "from sklearn.model_selection import train_test_split\n",
    "\n",
    "X_train, X_val, y_train, y_val = train_test_split(X, y, test_size = 0.2, random_state = 42)"
   ]
  },
  {
   "cell_type": "code",
   "execution_count": 33,
   "metadata": {
    "colab": {
     "base_uri": "https://localhost:8080/"
    },
    "id": "FC49gEmus2Ql",
    "outputId": "ab92b3e4-bdd0-4e38-9dc6-5c8ba08d6734"
   },
   "outputs": [
    {
     "data": {
      "text/plain": [
       "((27928, 1000), (6983, 1000))"
      ]
     },
     "execution_count": 33,
     "metadata": {},
     "output_type": "execute_result"
    }
   ],
   "source": [
    "X_train.shape, X_val.shape"
   ]
  },
  {
   "cell_type": "markdown",
   "metadata": {
    "id": "bcUUtSEas7iD"
   },
   "source": [
    "# Modeling"
   ]
  },
  {
   "cell_type": "code",
   "execution_count": 34,
   "metadata": {
    "id": "U8ykykQos4Q5"
   },
   "outputs": [],
   "source": [
    "from time import time \n",
    "\n",
    "from xgboost import XGBClassifier\n",
    "from lightgbm import LGBMClassifier\n",
    "from sklearn.ensemble import GradientBoostingClassifier \n",
    "\n",
    "from sklearn.metrics import accuracy_score, roc_auc_score, precision_score, recall_score, f1_score"
   ]
  },
  {
   "cell_type": "code",
   "execution_count": null,
   "metadata": {
    "id": "odcPwx0rtmER"
   },
   "outputs": [],
   "source": [
    "models = [\n",
    "    ('GradientBoostingClassifier',GradientBoostingClassifier()),\n",
    "    ('XGBoost', XGBClassifier(use_label_encoder=False, eval_metric='logloss')),\n",
    "    ('LightGBM', LGBMClassifier())\n",
    "]\n",
    "\n",
    "results = pd.DataFrame(columns = ['Model', 'Accuracy', 'Precision-MacroAVG', 'Precision-WeightedAVG', \n",
    "                                  'Recall-MacroAVG', 'Recall-WeightedAVG', 'F1_score-MacroAVG','F1_score-WeightedAVG', 'Time_taken'])\n",
    "for model_name, model in models:\n",
    "    start = time()\n",
    "    model.fit(X_train, y_train)\n",
    "    y_pred = model.predict(X_val)\n",
    "    end = time()\n",
    "    \n",
    "    record = {}\n",
    "    record['Model'] = model_name\n",
    "    record['Accuracy'] = accuracy_score(y_val, y_pred)*100\n",
    "    record['Precision-MacroAVG'] = precision_score(y_val, y_pred, average='macro')*100\n",
    "    record['Precision-WeightedAVG'] = precision_score(y_val, y_pred, average='weighted')*100\n",
    "    record['Recall-MacroAVG'] = recall_score(y_val, y_pred, average='macro')*100\n",
    "    record['Recall-WeightedAVG'] = recall_score(y_val, y_pred, average='weighted')*100\n",
    "    record['F1_score-MacroAVG'] = f1_score(y_val, y_pred, average='macro')*100\n",
    "    record['F1_score-WeightedAVG'] = f1_score(y_val, y_pred, average='weighted')*100\n",
    "    record['Time_taken'] = end-start\n",
    "    \n",
    "    results = results.append(record, ignore_index=True)\n",
    "    \n",
    "results = results.sort_values(by='Accuracy', ascending=False)"
   ]
  },
  {
   "cell_type": "code",
   "execution_count": 39,
   "metadata": {
    "colab": {
     "base_uri": "https://localhost:8080/",
     "height": 205
    },
    "id": "50aMbsKHHT1R",
    "outputId": "7101ee48-ffa0-447a-d64f-9a4f7ff078cc"
   },
   "outputs": [
    {
     "data": {
      "text/html": [
       "\n",
       "  <div id=\"df-507cbb68-5ade-47e2-af69-013d785a80d6\">\n",
       "    <div class=\"colab-df-container\">\n",
       "      <div>\n",
       "<style scoped>\n",
       "    .dataframe tbody tr th:only-of-type {\n",
       "        vertical-align: middle;\n",
       "    }\n",
       "\n",
       "    .dataframe tbody tr th {\n",
       "        vertical-align: top;\n",
       "    }\n",
       "\n",
       "    .dataframe thead th {\n",
       "        text-align: right;\n",
       "    }\n",
       "</style>\n",
       "<table border=\"1\" class=\"dataframe\">\n",
       "  <thead>\n",
       "    <tr style=\"text-align: right;\">\n",
       "      <th></th>\n",
       "      <th>Model</th>\n",
       "      <th>Accuracy</th>\n",
       "      <th>Precision-MacroAVG</th>\n",
       "      <th>Precision-WeightedAVG</th>\n",
       "      <th>Recall-MacroAVG</th>\n",
       "      <th>Recall-WeightedAVG</th>\n",
       "      <th>F1_score-MacroAVG</th>\n",
       "      <th>F1_score-WeightedAVG</th>\n",
       "      <th>Time_taken</th>\n",
       "    </tr>\n",
       "  </thead>\n",
       "  <tbody>\n",
       "    <tr>\n",
       "      <th>2</th>\n",
       "      <td>LightGBM</td>\n",
       "      <td>89.918373</td>\n",
       "      <td>86.454751</td>\n",
       "      <td>89.951421</td>\n",
       "      <td>81.808739</td>\n",
       "      <td>89.918373</td>\n",
       "      <td>83.671041</td>\n",
       "      <td>89.838809</td>\n",
       "      <td>61.854151</td>\n",
       "    </tr>\n",
       "    <tr>\n",
       "      <th>0</th>\n",
       "      <td>GradientBoostingClassifier</td>\n",
       "      <td>86.696262</td>\n",
       "      <td>83.544238</td>\n",
       "      <td>86.623048</td>\n",
       "      <td>76.089862</td>\n",
       "      <td>86.696262</td>\n",
       "      <td>78.763896</td>\n",
       "      <td>86.400653</td>\n",
       "      <td>1752.563301</td>\n",
       "    </tr>\n",
       "    <tr>\n",
       "      <th>1</th>\n",
       "      <td>XGBoost</td>\n",
       "      <td>84.591150</td>\n",
       "      <td>83.296182</td>\n",
       "      <td>84.508368</td>\n",
       "      <td>68.903998</td>\n",
       "      <td>84.591150</td>\n",
       "      <td>72.558795</td>\n",
       "      <td>83.961185</td>\n",
       "      <td>800.352957</td>\n",
       "    </tr>\n",
       "  </tbody>\n",
       "</table>\n",
       "</div>\n",
       "      <button class=\"colab-df-convert\" onclick=\"convertToInteractive('df-507cbb68-5ade-47e2-af69-013d785a80d6')\"\n",
       "              title=\"Convert this dataframe to an interactive table.\"\n",
       "              style=\"display:none;\">\n",
       "        \n",
       "  <svg xmlns=\"http://www.w3.org/2000/svg\" height=\"24px\"viewBox=\"0 0 24 24\"\n",
       "       width=\"24px\">\n",
       "    <path d=\"M0 0h24v24H0V0z\" fill=\"none\"/>\n",
       "    <path d=\"M18.56 5.44l.94 2.06.94-2.06 2.06-.94-2.06-.94-.94-2.06-.94 2.06-2.06.94zm-11 1L8.5 8.5l.94-2.06 2.06-.94-2.06-.94L8.5 2.5l-.94 2.06-2.06.94zm10 10l.94 2.06.94-2.06 2.06-.94-2.06-.94-.94-2.06-.94 2.06-2.06.94z\"/><path d=\"M17.41 7.96l-1.37-1.37c-.4-.4-.92-.59-1.43-.59-.52 0-1.04.2-1.43.59L10.3 9.45l-7.72 7.72c-.78.78-.78 2.05 0 2.83L4 21.41c.39.39.9.59 1.41.59.51 0 1.02-.2 1.41-.59l7.78-7.78 2.81-2.81c.8-.78.8-2.07 0-2.86zM5.41 20L4 18.59l7.72-7.72 1.47 1.35L5.41 20z\"/>\n",
       "  </svg>\n",
       "      </button>\n",
       "      \n",
       "  <style>\n",
       "    .colab-df-container {\n",
       "      display:flex;\n",
       "      flex-wrap:wrap;\n",
       "      gap: 12px;\n",
       "    }\n",
       "\n",
       "    .colab-df-convert {\n",
       "      background-color: #E8F0FE;\n",
       "      border: none;\n",
       "      border-radius: 50%;\n",
       "      cursor: pointer;\n",
       "      display: none;\n",
       "      fill: #1967D2;\n",
       "      height: 32px;\n",
       "      padding: 0 0 0 0;\n",
       "      width: 32px;\n",
       "    }\n",
       "\n",
       "    .colab-df-convert:hover {\n",
       "      background-color: #E2EBFA;\n",
       "      box-shadow: 0px 1px 2px rgba(60, 64, 67, 0.3), 0px 1px 3px 1px rgba(60, 64, 67, 0.15);\n",
       "      fill: #174EA6;\n",
       "    }\n",
       "\n",
       "    [theme=dark] .colab-df-convert {\n",
       "      background-color: #3B4455;\n",
       "      fill: #D2E3FC;\n",
       "    }\n",
       "\n",
       "    [theme=dark] .colab-df-convert:hover {\n",
       "      background-color: #434B5C;\n",
       "      box-shadow: 0px 1px 3px 1px rgba(0, 0, 0, 0.15);\n",
       "      filter: drop-shadow(0px 1px 2px rgba(0, 0, 0, 0.3));\n",
       "      fill: #FFFFFF;\n",
       "    }\n",
       "  </style>\n",
       "\n",
       "      <script>\n",
       "        const buttonEl =\n",
       "          document.querySelector('#df-507cbb68-5ade-47e2-af69-013d785a80d6 button.colab-df-convert');\n",
       "        buttonEl.style.display =\n",
       "          google.colab.kernel.accessAllowed ? 'block' : 'none';\n",
       "\n",
       "        async function convertToInteractive(key) {\n",
       "          const element = document.querySelector('#df-507cbb68-5ade-47e2-af69-013d785a80d6');\n",
       "          const dataTable =\n",
       "            await google.colab.kernel.invokeFunction('convertToInteractive',\n",
       "                                                     [key], {});\n",
       "          if (!dataTable) return;\n",
       "\n",
       "          const docLinkHtml = 'Like what you see? Visit the ' +\n",
       "            '<a target=\"_blank\" href=https://colab.research.google.com/notebooks/data_table.ipynb>data table notebook</a>'\n",
       "            + ' to learn more about interactive tables.';\n",
       "          element.innerHTML = '';\n",
       "          dataTable['output_type'] = 'display_data';\n",
       "          await google.colab.output.renderOutput(dataTable, element);\n",
       "          const docLink = document.createElement('div');\n",
       "          docLink.innerHTML = docLinkHtml;\n",
       "          element.appendChild(docLink);\n",
       "        }\n",
       "      </script>\n",
       "    </div>\n",
       "  </div>\n",
       "  "
      ],
      "text/plain": [
       "                        Model   Accuracy  ...  F1_score-WeightedAVG   Time_taken\n",
       "2                    LightGBM  89.918373  ...             89.838809    61.854151\n",
       "0  GradientBoostingClassifier  86.696262  ...             86.400653  1752.563301\n",
       "1                     XGBoost  84.591150  ...             83.961185   800.352957\n",
       "\n",
       "[3 rows x 9 columns]"
      ]
     },
     "execution_count": 39,
     "metadata": {},
     "output_type": "execute_result"
    }
   ],
   "source": [
    "results"
   ]
  },
  {
   "cell_type": "code",
   "execution_count": 40,
   "metadata": {
    "id": "Vj80xhQ8ICSh"
   },
   "outputs": [],
   "source": [
    "# saving the models\n",
    "import joblib\n",
    "\n",
    "joblib.dump(models[0][1], 'GradientBoostingClassifier.sav')\n",
    "joblib.dump(models[1][1], 'XGBoost.sav')\n",
    "joblib.dump(models[2][1], 'LightGBM.sav')"
   ]
  },
  {
   "cell_type": "markdown",
   "metadata": {
    "id": "6iRF9wHh8isg"
   },
   "source": [
    "# Testing on test_data"
   ]
  },
  {
   "cell_type": "code",
   "execution_count": 35,
   "metadata": {
    "id": "dj9_KHpbbkFY"
   },
   "outputs": [],
   "source": [
    "test_data = pd.read_csv('test_in_kag_org.csv')"
   ]
  },
  {
   "cell_type": "code",
   "execution_count": 36,
   "metadata": {
    "colab": {
     "base_uri": "https://localhost:8080/"
    },
    "id": "yj9X0ocpbyXD",
    "outputId": "34b3e378-4241-4c3b-b290-bc39e171a7ce"
   },
   "outputs": [
    {
     "data": {
      "text/plain": [
       "(6501, 4)"
      ]
     },
     "execution_count": 36,
     "metadata": {},
     "output_type": "execute_result"
    }
   ],
   "source": [
    "test_data.shape"
   ]
  },
  {
   "cell_type": "code",
   "execution_count": 37,
   "metadata": {
    "colab": {
     "base_uri": "https://localhost:8080/"
    },
    "id": "wk8Fmr0lbyXE",
    "outputId": "09875543-5a30-4025-a514-31582ec4c12b"
   },
   "outputs": [
    {
     "data": {
      "text/plain": [
       "title         0\n",
       "text          0\n",
       "title_text    0\n",
       "label         0\n",
       "dtype: int64"
      ]
     },
     "execution_count": 37,
     "metadata": {},
     "output_type": "execute_result"
    }
   ],
   "source": [
    "test_data.isnull().sum()"
   ]
  },
  {
   "cell_type": "code",
   "execution_count": 38,
   "metadata": {
    "colab": {
     "base_uri": "https://localhost:8080/"
    },
    "id": "ncrp6S9cbyXF",
    "outputId": "ee1084fc-a9a2-4a1f-e873-aea6b6522dc0"
   },
   "outputs": [
    {
     "data": {
      "text/plain": [
       "15"
      ]
     },
     "execution_count": 38,
     "metadata": {},
     "output_type": "execute_result"
    }
   ],
   "source": [
    "test_data['label'].nunique()"
   ]
  },
  {
   "cell_type": "code",
   "execution_count": 39,
   "metadata": {
    "id": "Rv1JGvYbbyXH"
   },
   "outputs": [],
   "source": [
    "test_data.drop(columns=['text'], inplace=True)"
   ]
  },
  {
   "cell_type": "markdown",
   "metadata": {
    "id": "MpBjhsx8byXI"
   },
   "source": [
    "# Preparing our data for modeling "
   ]
  },
  {
   "cell_type": "code",
   "execution_count": 40,
   "metadata": {
    "id": "H5qQ_lFmbyXJ"
   },
   "outputs": [],
   "source": [
    "# title\n",
    "title_corpus_test = []\n",
    "lm = WordNetLemmatizer()\n",
    "words = stopwords.words('english')\n",
    "\n",
    "for i in range(test_data.shape[0]):\n",
    "    row = re.sub('[^a-zA-Z\\s]', '', test_data.iloc[i, 0]).lower()\n",
    "    row = row.split()  \n",
    "    row = [lm.lemmatize(word) for word in row if word not in words]\n",
    "    row = ' '.join(row)\n",
    "    title_corpus_test.append(row)"
   ]
  },
  {
   "cell_type": "code",
   "execution_count": 41,
   "metadata": {
    "colab": {
     "base_uri": "https://localhost:8080/"
    },
    "id": "GvfbwM6ZbyXJ",
    "outputId": "73cd9c20-0c70-4275-a432-d2173eb54efc"
   },
   "outputs": [
    {
     "data": {
      "text/plain": [
       "6501"
      ]
     },
     "execution_count": 41,
     "metadata": {},
     "output_type": "execute_result"
    }
   ],
   "source": [
    "len(title_corpus_test)"
   ]
  },
  {
   "cell_type": "code",
   "execution_count": 42,
   "metadata": {
    "id": "ZwBgz1hjbyXK"
   },
   "outputs": [],
   "source": [
    "# text\n",
    "text_corpus_test = []\n",
    "lm = WordNetLemmatizer()\n",
    "words = stopwords.words('english')\n",
    "\n",
    "for i in range(test_data.shape[0]):\n",
    "    row = re.sub('[^a-zA-Z\\s]', '', test_data.iloc[i, 1]).lower()\n",
    "    row = row.split()  \n",
    "    row = [lm.lemmatize(word) for word in row if word not in words]\n",
    "    row = ' '.join(row)\n",
    "    text_corpus_test.append(row)"
   ]
  },
  {
   "cell_type": "code",
   "execution_count": 43,
   "metadata": {
    "colab": {
     "base_uri": "https://localhost:8080/"
    },
    "id": "KwUAV1BkbyXK",
    "outputId": "a0a4f4d5-2b03-4a95-f905-13313984d0b2"
   },
   "outputs": [
    {
     "data": {
      "text/plain": [
       "6501"
      ]
     },
     "execution_count": 43,
     "metadata": {},
     "output_type": "execute_result"
    }
   ],
   "source": [
    "len(text_corpus_test)"
   ]
  },
  {
   "cell_type": "code",
   "execution_count": 44,
   "metadata": {
    "colab": {
     "base_uri": "https://localhost:8080/",
     "height": 35
    },
    "id": "4d2-H7uXbyXK",
    "outputId": "291e138f-85c9-4e97-cc9d-7caec1dbdad8"
   },
   "outputs": [
    {
     "data": {
      "application/vnd.google.colaboratory.intrinsic+json": {
       "type": "string"
      },
      "text/plain": [
       "'centralized hub procore offer ability communicate team get full view project one place assign task stay connected google map google doc'"
      ]
     },
     "execution_count": 44,
     "metadata": {},
     "output_type": "execute_result"
    }
   ],
   "source": [
    "text_corpus_test[0]"
   ]
  },
  {
   "cell_type": "markdown",
   "metadata": {
    "id": "aeW6wftSbyXK"
   },
   "source": [
    "_Our Bag of Words_"
   ]
  },
  {
   "cell_type": "code",
   "execution_count": 45,
   "metadata": {
    "id": "b-ihZ2EKbyXL"
   },
   "outputs": [],
   "source": [
    "X_title_test = title_cv.transform(title_corpus_test).toarray()"
   ]
  },
  {
   "cell_type": "code",
   "execution_count": 46,
   "metadata": {
    "colab": {
     "base_uri": "https://localhost:8080/"
    },
    "id": "8G-2y63LbyXL",
    "outputId": "a8640e50-4e80-4827-b5ab-59e5717a8281"
   },
   "outputs": [
    {
     "data": {
      "text/plain": [
       "(6501, 200)"
      ]
     },
     "execution_count": 46,
     "metadata": {},
     "output_type": "execute_result"
    }
   ],
   "source": [
    "X_title_test.shape"
   ]
  },
  {
   "cell_type": "code",
   "execution_count": 47,
   "metadata": {
    "id": "11nCp5SmbyXL"
   },
   "outputs": [],
   "source": [
    "X_text_test = text_cv.transform(text_corpus_test).toarray()"
   ]
  },
  {
   "cell_type": "code",
   "execution_count": 48,
   "metadata": {
    "colab": {
     "base_uri": "https://localhost:8080/"
    },
    "id": "WFklhTUzbyXM",
    "outputId": "201827c4-c665-4ed0-eb05-d240bb77ec15"
   },
   "outputs": [
    {
     "data": {
      "text/plain": [
       "(6501, 800)"
      ]
     },
     "execution_count": 48,
     "metadata": {},
     "output_type": "execute_result"
    }
   ],
   "source": [
    "X_text_test.shape"
   ]
  },
  {
   "cell_type": "code",
   "execution_count": 49,
   "metadata": {
    "id": "VbmRqR09byXM"
   },
   "outputs": [],
   "source": [
    "X_test = np.concatenate((X_title_test, X_text_test), axis=1)\n",
    "y_test = test_data.iloc[:, 2].values"
   ]
  },
  {
   "cell_type": "code",
   "execution_count": 50,
   "metadata": {
    "colab": {
     "base_uri": "https://localhost:8080/"
    },
    "id": "VG0yGQSbbyXM",
    "outputId": "35e5b300-f19c-4b5b-fd53-e001bdbfda7e"
   },
   "outputs": [
    {
     "data": {
      "text/plain": [
       "((6501, 1000), (6501,))"
      ]
     },
     "execution_count": 50,
     "metadata": {},
     "output_type": "execute_result"
    }
   ],
   "source": [
    "X_test.shape, y_test.shape"
   ]
  },
  {
   "cell_type": "code",
   "execution_count": 51,
   "metadata": {
    "id": "xpeUXOpmbyXM"
   },
   "outputs": [],
   "source": [
    "y_test = le.transform(y_test)"
   ]
  },
  {
   "cell_type": "code",
   "execution_count": 52,
   "metadata": {
    "colab": {
     "base_uri": "https://localhost:8080/"
    },
    "id": "lmCHJOIgbyXM",
    "outputId": "b67bb0e7-ae41-45ce-d29c-ef1a6393ede5"
   },
   "outputs": [
    {
     "data": {
      "text/plain": [
       "array([ 0,  1,  2,  3,  4,  5,  6,  7,  8,  9, 10, 11, 12, 13, 14])"
      ]
     },
     "execution_count": 52,
     "metadata": {},
     "output_type": "execute_result"
    }
   ],
   "source": [
    "np.unique(y_test)"
   ]
  },
  {
   "cell_type": "code",
   "execution_count": 53,
   "metadata": {
    "id": "Ld8slHDRc7XJ"
   },
   "outputs": [],
   "source": [
    "import joblib\n",
    "\n",
    "GB_model = joblib.load('GradientBoostingClassifier.sav')\n",
    "XGB_model = joblib.load('XGBoost.sav') \n",
    "LGBM_model = joblib.load('LightGBM.sav')"
   ]
  },
  {
   "cell_type": "code",
   "execution_count": 54,
   "metadata": {
    "colab": {
     "base_uri": "https://localhost:8080/",
     "height": 363
    },
    "id": "kJ7917FybyXO",
    "outputId": "97d1b34d-e4c8-4933-86f6-8bfe82ffca95"
   },
   "outputs": [
    {
     "name": "stderr",
     "output_type": "stream",
     "text": [
      "/usr/local/lib/python3.7/dist-packages/sklearn/metrics/_classification.py:1318: UndefinedMetricWarning: Precision is ill-defined and being set to 0.0 in labels with no predicted samples. Use `zero_division` parameter to control this behavior.\n",
      "  _warn_prf(average, modifier, msg_start, len(result))\n",
      "/usr/local/lib/python3.7/dist-packages/sklearn/metrics/_classification.py:1318: UndefinedMetricWarning: Precision is ill-defined and being set to 0.0 in labels with no predicted samples. Use `zero_division` parameter to control this behavior.\n",
      "  _warn_prf(average, modifier, msg_start, len(result))\n",
      "/usr/local/lib/python3.7/dist-packages/sklearn/metrics/_classification.py:1318: UndefinedMetricWarning: Precision is ill-defined and being set to 0.0 in labels with no predicted samples. Use `zero_division` parameter to control this behavior.\n",
      "  _warn_prf(average, modifier, msg_start, len(result))\n",
      "/usr/local/lib/python3.7/dist-packages/sklearn/metrics/_classification.py:1318: UndefinedMetricWarning: Precision is ill-defined and being set to 0.0 in labels with no predicted samples. Use `zero_division` parameter to control this behavior.\n",
      "  _warn_prf(average, modifier, msg_start, len(result))\n"
     ]
    },
    {
     "data": {
      "text/html": [
       "\n",
       "  <div id=\"df-0ab5d8b6-f4b5-483c-89c2-420183098e66\">\n",
       "    <div class=\"colab-df-container\">\n",
       "      <div>\n",
       "<style scoped>\n",
       "    .dataframe tbody tr th:only-of-type {\n",
       "        vertical-align: middle;\n",
       "    }\n",
       "\n",
       "    .dataframe tbody tr th {\n",
       "        vertical-align: top;\n",
       "    }\n",
       "\n",
       "    .dataframe thead th {\n",
       "        text-align: right;\n",
       "    }\n",
       "</style>\n",
       "<table border=\"1\" class=\"dataframe\">\n",
       "  <thead>\n",
       "    <tr style=\"text-align: right;\">\n",
       "      <th></th>\n",
       "      <th>Model</th>\n",
       "      <th>Accuracy</th>\n",
       "      <th>Precision-MacroAVG</th>\n",
       "      <th>Precision-WeightedAVG</th>\n",
       "      <th>Recall-MacroAVG</th>\n",
       "      <th>Recall-WeightedAVG</th>\n",
       "      <th>F1_score-MacroAVG</th>\n",
       "      <th>F1_score-WeightedAVG</th>\n",
       "    </tr>\n",
       "  </thead>\n",
       "  <tbody>\n",
       "    <tr>\n",
       "      <th>2</th>\n",
       "      <td>LightGBM</td>\n",
       "      <td>90.662975</td>\n",
       "      <td>72.680326</td>\n",
       "      <td>90.486304</td>\n",
       "      <td>67.908639</td>\n",
       "      <td>90.662975</td>\n",
       "      <td>68.606829</td>\n",
       "      <td>90.423365</td>\n",
       "    </tr>\n",
       "    <tr>\n",
       "      <th>0</th>\n",
       "      <td>GradientBoostingClassifier</td>\n",
       "      <td>89.493924</td>\n",
       "      <td>68.302227</td>\n",
       "      <td>89.417484</td>\n",
       "      <td>72.219715</td>\n",
       "      <td>89.493924</td>\n",
       "      <td>68.839056</td>\n",
       "      <td>89.308907</td>\n",
       "    </tr>\n",
       "    <tr>\n",
       "      <th>1</th>\n",
       "      <td>XGBoost</td>\n",
       "      <td>89.109368</td>\n",
       "      <td>68.010093</td>\n",
       "      <td>89.020311</td>\n",
       "      <td>68.639421</td>\n",
       "      <td>89.109368</td>\n",
       "      <td>66.884663</td>\n",
       "      <td>88.833283</td>\n",
       "    </tr>\n",
       "  </tbody>\n",
       "</table>\n",
       "</div>\n",
       "      <button class=\"colab-df-convert\" onclick=\"convertToInteractive('df-0ab5d8b6-f4b5-483c-89c2-420183098e66')\"\n",
       "              title=\"Convert this dataframe to an interactive table.\"\n",
       "              style=\"display:none;\">\n",
       "        \n",
       "  <svg xmlns=\"http://www.w3.org/2000/svg\" height=\"24px\"viewBox=\"0 0 24 24\"\n",
       "       width=\"24px\">\n",
       "    <path d=\"M0 0h24v24H0V0z\" fill=\"none\"/>\n",
       "    <path d=\"M18.56 5.44l.94 2.06.94-2.06 2.06-.94-2.06-.94-.94-2.06-.94 2.06-2.06.94zm-11 1L8.5 8.5l.94-2.06 2.06-.94-2.06-.94L8.5 2.5l-.94 2.06-2.06.94zm10 10l.94 2.06.94-2.06 2.06-.94-2.06-.94-.94-2.06-.94 2.06-2.06.94z\"/><path d=\"M17.41 7.96l-1.37-1.37c-.4-.4-.92-.59-1.43-.59-.52 0-1.04.2-1.43.59L10.3 9.45l-7.72 7.72c-.78.78-.78 2.05 0 2.83L4 21.41c.39.39.9.59 1.41.59.51 0 1.02-.2 1.41-.59l7.78-7.78 2.81-2.81c.8-.78.8-2.07 0-2.86zM5.41 20L4 18.59l7.72-7.72 1.47 1.35L5.41 20z\"/>\n",
       "  </svg>\n",
       "      </button>\n",
       "      \n",
       "  <style>\n",
       "    .colab-df-container {\n",
       "      display:flex;\n",
       "      flex-wrap:wrap;\n",
       "      gap: 12px;\n",
       "    }\n",
       "\n",
       "    .colab-df-convert {\n",
       "      background-color: #E8F0FE;\n",
       "      border: none;\n",
       "      border-radius: 50%;\n",
       "      cursor: pointer;\n",
       "      display: none;\n",
       "      fill: #1967D2;\n",
       "      height: 32px;\n",
       "      padding: 0 0 0 0;\n",
       "      width: 32px;\n",
       "    }\n",
       "\n",
       "    .colab-df-convert:hover {\n",
       "      background-color: #E2EBFA;\n",
       "      box-shadow: 0px 1px 2px rgba(60, 64, 67, 0.3), 0px 1px 3px 1px rgba(60, 64, 67, 0.15);\n",
       "      fill: #174EA6;\n",
       "    }\n",
       "\n",
       "    [theme=dark] .colab-df-convert {\n",
       "      background-color: #3B4455;\n",
       "      fill: #D2E3FC;\n",
       "    }\n",
       "\n",
       "    [theme=dark] .colab-df-convert:hover {\n",
       "      background-color: #434B5C;\n",
       "      box-shadow: 0px 1px 3px 1px rgba(0, 0, 0, 0.15);\n",
       "      filter: drop-shadow(0px 1px 2px rgba(0, 0, 0, 0.3));\n",
       "      fill: #FFFFFF;\n",
       "    }\n",
       "  </style>\n",
       "\n",
       "      <script>\n",
       "        const buttonEl =\n",
       "          document.querySelector('#df-0ab5d8b6-f4b5-483c-89c2-420183098e66 button.colab-df-convert');\n",
       "        buttonEl.style.display =\n",
       "          google.colab.kernel.accessAllowed ? 'block' : 'none';\n",
       "\n",
       "        async function convertToInteractive(key) {\n",
       "          const element = document.querySelector('#df-0ab5d8b6-f4b5-483c-89c2-420183098e66');\n",
       "          const dataTable =\n",
       "            await google.colab.kernel.invokeFunction('convertToInteractive',\n",
       "                                                     [key], {});\n",
       "          if (!dataTable) return;\n",
       "\n",
       "          const docLinkHtml = 'Like what you see? Visit the ' +\n",
       "            '<a target=\"_blank\" href=https://colab.research.google.com/notebooks/data_table.ipynb>data table notebook</a>'\n",
       "            + ' to learn more about interactive tables.';\n",
       "          element.innerHTML = '';\n",
       "          dataTable['output_type'] = 'display_data';\n",
       "          await google.colab.output.renderOutput(dataTable, element);\n",
       "          const docLink = document.createElement('div');\n",
       "          docLink.innerHTML = docLinkHtml;\n",
       "          element.appendChild(docLink);\n",
       "        }\n",
       "      </script>\n",
       "    </div>\n",
       "  </div>\n",
       "  "
      ],
      "text/plain": [
       "                        Model  ...  F1_score-WeightedAVG\n",
       "2                    LightGBM  ...             90.423365\n",
       "0  GradientBoostingClassifier  ...             89.308907\n",
       "1                     XGBoost  ...             88.833283\n",
       "\n",
       "[3 rows x 8 columns]"
      ]
     },
     "execution_count": 54,
     "metadata": {},
     "output_type": "execute_result"
    }
   ],
   "source": [
    "models = [\n",
    "    ('GradientBoostingClassifier',GB_model),\n",
    "    ('XGBoost', XGB_model),\n",
    "    ('LightGBM', LGBM_model)\n",
    "]\n",
    "\n",
    "results = pd.DataFrame(columns = ['Model', 'Accuracy', 'Precision-MacroAVG', 'Precision-WeightedAVG', \n",
    "                                  'Recall-MacroAVG', 'Recall-WeightedAVG', 'F1_score-MacroAVG','F1_score-WeightedAVG'])\n",
    "for model_name, model in models:\n",
    "    y_pred = model.predict(X_test)\n",
    "    \n",
    "    record = {}\n",
    "    record['Model'] = model_name\n",
    "    record['Accuracy'] = accuracy_score(y_test, y_pred)*100\n",
    "    record['Precision-MacroAVG'] = precision_score(y_test, y_pred, average='macro')*100\n",
    "    record['Precision-WeightedAVG'] = precision_score(y_test, y_pred, average='weighted')*100\n",
    "    record['Recall-MacroAVG'] = recall_score(y_test, y_pred, average='macro')*100\n",
    "    record['Recall-WeightedAVG'] = recall_score(y_test, y_pred, average='weighted')*100\n",
    "    record['F1_score-MacroAVG'] = f1_score(y_test, y_pred, average='macro')*100\n",
    "    record['F1_score-WeightedAVG'] = f1_score(y_test, y_pred, average='weighted')*100\n",
    "    \n",
    "    results = results.append(record, ignore_index=True)\n",
    "    \n",
    "results = results.sort_values(by='Accuracy', ascending=False)\n",
    "results"
   ]
  },
  {
   "cell_type": "code",
   "execution_count": null,
   "metadata": {
    "id": "h0uQ6s6veje1"
   },
   "outputs": [],
   "source": []
  }
 ],
 "metadata": {
  "colab": {
   "name": "Code.ipynb",
   "provenance": []
  },
  "kernelspec": {
   "display_name": "Python 3",
   "language": "python",
   "name": "python3"
  },
  "language_info": {
   "codemirror_mode": {
    "name": "ipython",
    "version": 3
   },
   "file_extension": ".py",
   "mimetype": "text/x-python",
   "name": "python",
   "nbconvert_exporter": "python",
   "pygments_lexer": "ipython3",
   "version": "3.8.8"
  }
 },
 "nbformat": 4,
 "nbformat_minor": 1
}
