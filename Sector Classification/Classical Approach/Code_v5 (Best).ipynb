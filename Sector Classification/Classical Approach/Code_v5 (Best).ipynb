{
  "cells": [
    {
      "cell_type": "markdown",
      "metadata": {
        "id": "uT7OEo0sZbwm"
      },
      "source": [
        "# Exploring and Cleaning the data"
      ]
    },
    {
      "cell_type": "code",
      "execution_count": 1,
      "metadata": {
        "id": "t8-UEaOYSQ0p"
      },
      "outputs": [],
      "source": [
        "import pandas as pd\n",
        "import numpy as np\n",
        "\n",
        "import matplotlib.pyplot as plt\n",
        "import seaborn as sns\n",
        "\n",
        "pd.set_option('display.max_colwidth', None)\n",
        "\n",
        "import warnings\n",
        "warnings.filterwarnings(\"ignore\")"
      ]
    },
    {
      "cell_type": "code",
      "execution_count": 2,
      "metadata": {
        "id": "tUALIVo2ZfYR"
      },
      "outputs": [],
      "source": [
        "data = pd.read_csv('train_aug_in_kag_org.csv')"
      ]
    },
    {
      "cell_type": "code",
      "execution_count": 3,
      "metadata": {
        "colab": {
          "base_uri": "https://localhost:8080/",
          "height": 1000
        },
        "id": "UTp9GwGaaCDg",
        "outputId": "e59b48ac-ae98-4cf2-ea0a-f9eb4860fe54"
      },
      "outputs": [
        {
          "output_type": "execute_result",
          "data": {
            "text/html": [
              "\n",
              "  <div id=\"df-1561cfd8-3b5b-4bfd-8a9b-d06f7c438e2b\">\n",
              "    <div class=\"colab-df-container\">\n",
              "      <div>\n",
              "<style scoped>\n",
              "    .dataframe tbody tr th:only-of-type {\n",
              "        vertical-align: middle;\n",
              "    }\n",
              "\n",
              "    .dataframe tbody tr th {\n",
              "        vertical-align: top;\n",
              "    }\n",
              "\n",
              "    .dataframe thead th {\n",
              "        text-align: right;\n",
              "    }\n",
              "</style>\n",
              "<table border=\"1\" class=\"dataframe\">\n",
              "  <thead>\n",
              "    <tr style=\"text-align: right;\">\n",
              "      <th></th>\n",
              "      <th>title</th>\n",
              "      <th>text</th>\n",
              "      <th>title_text</th>\n",
              "      <th>label</th>\n",
              "    </tr>\n",
              "  </thead>\n",
              "  <tbody>\n",
              "    <tr>\n",
              "      <th>0</th>\n",
              "      <td>squirrel financial wellbeing</td>\n",
              "      <td>A Squirrel account makes it easy to stick to your budget and save. Start for free today!</td>\n",
              "      <td>squirrel financial wellbeing. A Squirrel account makes it easy to stick to your budget and save. Start for free today!</td>\n",
              "      <td>payment-credit-card-balance-euro-dollars-credit-debit-receipt-billing</td>\n",
              "    </tr>\n",
              "    <tr>\n",
              "      <th>1</th>\n",
              "      <td>senior insurance marketing</td>\n",
              "      <td>Welcome to the home page of Senior Insurance Marketing, a full service brokerage specializing in Medicare and senior insurance products.  Located in Lincoln, NE.</td>\n",
              "      <td>senior insurance marketing. Welcome to the home page of Senior Insurance Marketing, a full service brokerage specializing in Medicare and senior insurance products.  Located in Lincoln, NE.</td>\n",
              "      <td>payment-credit-card-balance-euro-dollars-credit-debit-receipt-billing</td>\n",
              "    </tr>\n",
              "    <tr>\n",
              "      <th>2</th>\n",
              "      <td>3i financial group inc.</td>\n",
              "      <td>A Small Boutique Firm Dedicated to Achieving Our Clients Goals.#sep#inform.invest.insure Get a Free, No Obligation Quote forAllYour Insurance Needs. 3i Financial offers a wide variety of insurance products to help suit your needs. Choose from individual, family, and group. GET A QUOTE TODAY Travel Insurance Get peace of mind with comprehensive travel insurance. Get a free quote today! Health &amp; Dental Get affordable health  Read more</td>\n",
              "      <td>3i financial group inc.. A Small Boutique Firm Dedicated to Achieving Our Clients Goals.#sep#inform.invest.insure Get a Free, No Obligation Quote forAllYour Insurance Needs. 3i Financial offers a wide variety of insurance products to help suit your needs. Choose from individual, family, and group. GET A QUOTE TODAY Travel Insurance Get peace of mind with comprehensive travel insurance. Get a free quote today! Health &amp; Dental Get affordable health  Read more</td>\n",
              "      <td>payment-credit-card-balance-euro-dollars-credit-debit-receipt-billing</td>\n",
              "    </tr>\n",
              "    <tr>\n",
              "      <th>3</th>\n",
              "      <td>brownstone insurance</td>\n",
              "      <td>Brownstone Insurance provides master insurance policies for multi-unit buildings throughout Massachusetts, as well as personal insurance products such as renter's insurance and homeowner's insurance.#sep#Brownstone Insurance provides master insurance policies for multi-unit \\nbuildings throughout Massachusetts, as well as personal insurance products \\nsuch as renter's insurance and homeowner's insurance.</td>\n",
              "      <td>brownstone insurance. Brownstone Insurance provides master insurance policies for multi-unit buildings throughout Massachusetts, as well as personal insurance products such as renter's insurance and homeowner's insurance.#sep#Brownstone Insurance provides master insurance policies for multi-unit \\nbuildings throughout Massachusetts, as well as personal insurance products \\nsuch as renter's insurance and homeowner's insurance.</td>\n",
              "      <td>payment-credit-card-balance-euro-dollars-credit-debit-receipt-billing</td>\n",
              "    </tr>\n",
              "    <tr>\n",
              "      <th>4</th>\n",
              "      <td>pacificwide lending</td>\n",
              "      <td>Learn more about Pacificwide Lending and our commercial &amp; residential loan services in California.</td>\n",
              "      <td>pacificwide lending. Learn more about Pacificwide Lending and our commercial &amp; residential loan services in California.</td>\n",
              "      <td>payment-credit-card-balance-euro-dollars-credit-debit-receipt-billing</td>\n",
              "    </tr>\n",
              "    <tr>\n",
              "      <th>5</th>\n",
              "      <td>city auto finance</td>\n",
              "      <td>City Auto Finance is the Southeast's most trusted used-car floor plan financing company with locations in Memphis, TN; Mobile, AL; Huntsville, AL and Murfreesboro, TN. We provide you with competitive rates and the capability to make payments online.</td>\n",
              "      <td>city auto finance. City Auto Finance is the Southeast's most trusted used-car floor plan financing company with locations in Memphis, TN; Mobile, AL; Huntsville, AL and Murfreesboro, TN. We provide you with competitive rates and the capability to make payments online.</td>\n",
              "      <td>payment-credit-card-balance-euro-dollars-credit-debit-receipt-billing</td>\n",
              "    </tr>\n",
              "    <tr>\n",
              "      <th>6</th>\n",
              "      <td>veterans financial, inc.</td>\n",
              "      <td>VA Aid and Attendance benefit can help pay for assisted living, home care or nursing home. Veterans Financial Inc can advise you at no cost about benefits</td>\n",
              "      <td>veterans financial, inc.. VA Aid and Attendance benefit can help pay for assisted living, home care or nursing home. Veterans Financial Inc can advise you at no cost about benefits</td>\n",
              "      <td>payment-credit-card-balance-euro-dollars-credit-debit-receipt-billing</td>\n",
              "    </tr>\n",
              "    <tr>\n",
              "      <th>7</th>\n",
              "      <td>keystart country home loans</td>\n",
              "      <td>Make your home ownership dream a reality. Keystart's low-deposit, no LMI home loans lower the entry barriers so you can get into a home of your own sooner.</td>\n",
              "      <td>keystart country home loans. Make your home ownership dream a reality. Keystart's low-deposit, no LMI home loans lower the entry barriers so you can get into a home of your own sooner.</td>\n",
              "      <td>payment-credit-card-balance-euro-dollars-credit-debit-receipt-billing</td>\n",
              "    </tr>\n",
              "    <tr>\n",
              "      <th>8</th>\n",
              "      <td>united insurance</td>\n",
              "      <td>United Insurance provides personal insurance, commercial insurance, and group benefits with 16 location in Maine and New Hampshire since 1976.</td>\n",
              "      <td>united insurance. United Insurance provides personal insurance, commercial insurance, and group benefits with 16 location in Maine and New Hampshire since 1976.</td>\n",
              "      <td>payment-credit-card-balance-euro-dollars-credit-debit-receipt-billing</td>\n",
              "    </tr>\n",
              "    <tr>\n",
              "      <th>9</th>\n",
              "      <td>insurance brokers co., inc.</td>\n",
              "      <td>Auto Insurance, Home Insurance, Business Insurance, Life &amp; Health Insurance in Rockville, Gaithersburg, Potomac, Bethesda, Germantown and Silver Spring.</td>\n",
              "      <td>insurance brokers co., inc.. Auto Insurance, Home Insurance, Business Insurance, Life &amp; Health Insurance in Rockville, Gaithersburg, Potomac, Bethesda, Germantown and Silver Spring.</td>\n",
              "      <td>payment-credit-card-balance-euro-dollars-credit-debit-receipt-billing</td>\n",
              "    </tr>\n",
              "  </tbody>\n",
              "</table>\n",
              "</div>\n",
              "      <button class=\"colab-df-convert\" onclick=\"convertToInteractive('df-1561cfd8-3b5b-4bfd-8a9b-d06f7c438e2b')\"\n",
              "              title=\"Convert this dataframe to an interactive table.\"\n",
              "              style=\"display:none;\">\n",
              "        \n",
              "  <svg xmlns=\"http://www.w3.org/2000/svg\" height=\"24px\"viewBox=\"0 0 24 24\"\n",
              "       width=\"24px\">\n",
              "    <path d=\"M0 0h24v24H0V0z\" fill=\"none\"/>\n",
              "    <path d=\"M18.56 5.44l.94 2.06.94-2.06 2.06-.94-2.06-.94-.94-2.06-.94 2.06-2.06.94zm-11 1L8.5 8.5l.94-2.06 2.06-.94-2.06-.94L8.5 2.5l-.94 2.06-2.06.94zm10 10l.94 2.06.94-2.06 2.06-.94-2.06-.94-.94-2.06-.94 2.06-2.06.94z\"/><path d=\"M17.41 7.96l-1.37-1.37c-.4-.4-.92-.59-1.43-.59-.52 0-1.04.2-1.43.59L10.3 9.45l-7.72 7.72c-.78.78-.78 2.05 0 2.83L4 21.41c.39.39.9.59 1.41.59.51 0 1.02-.2 1.41-.59l7.78-7.78 2.81-2.81c.8-.78.8-2.07 0-2.86zM5.41 20L4 18.59l7.72-7.72 1.47 1.35L5.41 20z\"/>\n",
              "  </svg>\n",
              "      </button>\n",
              "      \n",
              "  <style>\n",
              "    .colab-df-container {\n",
              "      display:flex;\n",
              "      flex-wrap:wrap;\n",
              "      gap: 12px;\n",
              "    }\n",
              "\n",
              "    .colab-df-convert {\n",
              "      background-color: #E8F0FE;\n",
              "      border: none;\n",
              "      border-radius: 50%;\n",
              "      cursor: pointer;\n",
              "      display: none;\n",
              "      fill: #1967D2;\n",
              "      height: 32px;\n",
              "      padding: 0 0 0 0;\n",
              "      width: 32px;\n",
              "    }\n",
              "\n",
              "    .colab-df-convert:hover {\n",
              "      background-color: #E2EBFA;\n",
              "      box-shadow: 0px 1px 2px rgba(60, 64, 67, 0.3), 0px 1px 3px 1px rgba(60, 64, 67, 0.15);\n",
              "      fill: #174EA6;\n",
              "    }\n",
              "\n",
              "    [theme=dark] .colab-df-convert {\n",
              "      background-color: #3B4455;\n",
              "      fill: #D2E3FC;\n",
              "    }\n",
              "\n",
              "    [theme=dark] .colab-df-convert:hover {\n",
              "      background-color: #434B5C;\n",
              "      box-shadow: 0px 1px 3px 1px rgba(0, 0, 0, 0.15);\n",
              "      filter: drop-shadow(0px 1px 2px rgba(0, 0, 0, 0.3));\n",
              "      fill: #FFFFFF;\n",
              "    }\n",
              "  </style>\n",
              "\n",
              "      <script>\n",
              "        const buttonEl =\n",
              "          document.querySelector('#df-1561cfd8-3b5b-4bfd-8a9b-d06f7c438e2b button.colab-df-convert');\n",
              "        buttonEl.style.display =\n",
              "          google.colab.kernel.accessAllowed ? 'block' : 'none';\n",
              "\n",
              "        async function convertToInteractive(key) {\n",
              "          const element = document.querySelector('#df-1561cfd8-3b5b-4bfd-8a9b-d06f7c438e2b');\n",
              "          const dataTable =\n",
              "            await google.colab.kernel.invokeFunction('convertToInteractive',\n",
              "                                                     [key], {});\n",
              "          if (!dataTable) return;\n",
              "\n",
              "          const docLinkHtml = 'Like what you see? Visit the ' +\n",
              "            '<a target=\"_blank\" href=https://colab.research.google.com/notebooks/data_table.ipynb>data table notebook</a>'\n",
              "            + ' to learn more about interactive tables.';\n",
              "          element.innerHTML = '';\n",
              "          dataTable['output_type'] = 'display_data';\n",
              "          await google.colab.output.renderOutput(dataTable, element);\n",
              "          const docLink = document.createElement('div');\n",
              "          docLink.innerHTML = docLinkHtml;\n",
              "          element.appendChild(docLink);\n",
              "        }\n",
              "      </script>\n",
              "    </div>\n",
              "  </div>\n",
              "  "
            ],
            "text/plain": [
              "                          title  ...                                                                  label\n",
              "0  squirrel financial wellbeing  ...  payment-credit-card-balance-euro-dollars-credit-debit-receipt-billing\n",
              "1    senior insurance marketing  ...  payment-credit-card-balance-euro-dollars-credit-debit-receipt-billing\n",
              "2       3i financial group inc.  ...  payment-credit-card-balance-euro-dollars-credit-debit-receipt-billing\n",
              "3          brownstone insurance  ...  payment-credit-card-balance-euro-dollars-credit-debit-receipt-billing\n",
              "4           pacificwide lending  ...  payment-credit-card-balance-euro-dollars-credit-debit-receipt-billing\n",
              "5             city auto finance  ...  payment-credit-card-balance-euro-dollars-credit-debit-receipt-billing\n",
              "6      veterans financial, inc.  ...  payment-credit-card-balance-euro-dollars-credit-debit-receipt-billing\n",
              "7   keystart country home loans  ...  payment-credit-card-balance-euro-dollars-credit-debit-receipt-billing\n",
              "8              united insurance  ...  payment-credit-card-balance-euro-dollars-credit-debit-receipt-billing\n",
              "9   insurance brokers co., inc.  ...  payment-credit-card-balance-euro-dollars-credit-debit-receipt-billing\n",
              "\n",
              "[10 rows x 4 columns]"
            ]
          },
          "metadata": {},
          "execution_count": 3
        }
      ],
      "source": [
        "data.head(10)"
      ]
    },
    {
      "cell_type": "code",
      "execution_count": 4,
      "metadata": {
        "colab": {
          "base_uri": "https://localhost:8080/"
        },
        "id": "9O8GdDjMaDYC",
        "outputId": "903ebb6b-08df-416b-c659-be68e7b87bbc"
      },
      "outputs": [
        {
          "output_type": "execute_result",
          "data": {
            "text/plain": [
              "(34953, 4)"
            ]
          },
          "metadata": {},
          "execution_count": 4
        }
      ],
      "source": [
        "data.shape"
      ]
    },
    {
      "cell_type": "code",
      "execution_count": 5,
      "metadata": {
        "colab": {
          "base_uri": "https://localhost:8080/"
        },
        "id": "pSjePuz1aEuc",
        "outputId": "9adce51d-88ab-4d20-bd81-a6ba5ba97890"
      },
      "outputs": [
        {
          "output_type": "execute_result",
          "data": {
            "text/plain": [
              "title         42\n",
              "text           0\n",
              "title_text     0\n",
              "label          0\n",
              "dtype: int64"
            ]
          },
          "metadata": {},
          "execution_count": 5
        }
      ],
      "source": [
        "data.isnull().sum()"
      ]
    },
    {
      "cell_type": "code",
      "execution_count": 6,
      "metadata": {
        "id": "qYM2MS4kaSx1"
      },
      "outputs": [],
      "source": [
        "data.dropna(inplace=True)\n",
        "data.drop(columns=['text'], inplace=True)"
      ]
    },
    {
      "cell_type": "code",
      "execution_count": 7,
      "metadata": {
        "colab": {
          "base_uri": "https://localhost:8080/",
          "height": 510
        },
        "id": "Vit6MnU0aUC2",
        "outputId": "b0f674fb-80fe-4430-9aa6-69cf87c33cb8"
      },
      "outputs": [
        {
          "output_type": "execute_result",
          "data": {
            "text/html": [
              "\n",
              "  <div id=\"df-be7ed700-c87a-4c1f-8bdb-f43b6dd9aebc\">\n",
              "    <div class=\"colab-df-container\">\n",
              "      <div>\n",
              "<style scoped>\n",
              "    .dataframe tbody tr th:only-of-type {\n",
              "        vertical-align: middle;\n",
              "    }\n",
              "\n",
              "    .dataframe tbody tr th {\n",
              "        vertical-align: top;\n",
              "    }\n",
              "\n",
              "    .dataframe thead th {\n",
              "        text-align: right;\n",
              "    }\n",
              "</style>\n",
              "<table border=\"1\" class=\"dataframe\">\n",
              "  <thead>\n",
              "    <tr style=\"text-align: right;\">\n",
              "      <th></th>\n",
              "      <th>title</th>\n",
              "      <th>title_text</th>\n",
              "      <th>label</th>\n",
              "    </tr>\n",
              "  </thead>\n",
              "  <tbody>\n",
              "    <tr>\n",
              "      <th>0</th>\n",
              "      <td>squirrel financial wellbeing</td>\n",
              "      <td>squirrel financial wellbeing. A Squirrel account makes it easy to stick to your budget and save. Start for free today!</td>\n",
              "      <td>payment-credit-card-balance-euro-dollars-credit-debit-receipt-billing</td>\n",
              "    </tr>\n",
              "    <tr>\n",
              "      <th>1</th>\n",
              "      <td>senior insurance marketing</td>\n",
              "      <td>senior insurance marketing. Welcome to the home page of Senior Insurance Marketing, a full service brokerage specializing in Medicare and senior insurance products.  Located in Lincoln, NE.</td>\n",
              "      <td>payment-credit-card-balance-euro-dollars-credit-debit-receipt-billing</td>\n",
              "    </tr>\n",
              "    <tr>\n",
              "      <th>2</th>\n",
              "      <td>3i financial group inc.</td>\n",
              "      <td>3i financial group inc.. A Small Boutique Firm Dedicated to Achieving Our Clients Goals.#sep#inform.invest.insure Get a Free, No Obligation Quote forAllYour Insurance Needs. 3i Financial offers a wide variety of insurance products to help suit your needs. Choose from individual, family, and group. GET A QUOTE TODAY Travel Insurance Get peace of mind with comprehensive travel insurance. Get a free quote today! Health &amp; Dental Get affordable health  Read more</td>\n",
              "      <td>payment-credit-card-balance-euro-dollars-credit-debit-receipt-billing</td>\n",
              "    </tr>\n",
              "    <tr>\n",
              "      <th>3</th>\n",
              "      <td>brownstone insurance</td>\n",
              "      <td>brownstone insurance. Brownstone Insurance provides master insurance policies for multi-unit buildings throughout Massachusetts, as well as personal insurance products such as renter's insurance and homeowner's insurance.#sep#Brownstone Insurance provides master insurance policies for multi-unit \\nbuildings throughout Massachusetts, as well as personal insurance products \\nsuch as renter's insurance and homeowner's insurance.</td>\n",
              "      <td>payment-credit-card-balance-euro-dollars-credit-debit-receipt-billing</td>\n",
              "    </tr>\n",
              "    <tr>\n",
              "      <th>4</th>\n",
              "      <td>pacificwide lending</td>\n",
              "      <td>pacificwide lending. Learn more about Pacificwide Lending and our commercial &amp; residential loan services in California.</td>\n",
              "      <td>payment-credit-card-balance-euro-dollars-credit-debit-receipt-billing</td>\n",
              "    </tr>\n",
              "  </tbody>\n",
              "</table>\n",
              "</div>\n",
              "      <button class=\"colab-df-convert\" onclick=\"convertToInteractive('df-be7ed700-c87a-4c1f-8bdb-f43b6dd9aebc')\"\n",
              "              title=\"Convert this dataframe to an interactive table.\"\n",
              "              style=\"display:none;\">\n",
              "        \n",
              "  <svg xmlns=\"http://www.w3.org/2000/svg\" height=\"24px\"viewBox=\"0 0 24 24\"\n",
              "       width=\"24px\">\n",
              "    <path d=\"M0 0h24v24H0V0z\" fill=\"none\"/>\n",
              "    <path d=\"M18.56 5.44l.94 2.06.94-2.06 2.06-.94-2.06-.94-.94-2.06-.94 2.06-2.06.94zm-11 1L8.5 8.5l.94-2.06 2.06-.94-2.06-.94L8.5 2.5l-.94 2.06-2.06.94zm10 10l.94 2.06.94-2.06 2.06-.94-2.06-.94-.94-2.06-.94 2.06-2.06.94z\"/><path d=\"M17.41 7.96l-1.37-1.37c-.4-.4-.92-.59-1.43-.59-.52 0-1.04.2-1.43.59L10.3 9.45l-7.72 7.72c-.78.78-.78 2.05 0 2.83L4 21.41c.39.39.9.59 1.41.59.51 0 1.02-.2 1.41-.59l7.78-7.78 2.81-2.81c.8-.78.8-2.07 0-2.86zM5.41 20L4 18.59l7.72-7.72 1.47 1.35L5.41 20z\"/>\n",
              "  </svg>\n",
              "      </button>\n",
              "      \n",
              "  <style>\n",
              "    .colab-df-container {\n",
              "      display:flex;\n",
              "      flex-wrap:wrap;\n",
              "      gap: 12px;\n",
              "    }\n",
              "\n",
              "    .colab-df-convert {\n",
              "      background-color: #E8F0FE;\n",
              "      border: none;\n",
              "      border-radius: 50%;\n",
              "      cursor: pointer;\n",
              "      display: none;\n",
              "      fill: #1967D2;\n",
              "      height: 32px;\n",
              "      padding: 0 0 0 0;\n",
              "      width: 32px;\n",
              "    }\n",
              "\n",
              "    .colab-df-convert:hover {\n",
              "      background-color: #E2EBFA;\n",
              "      box-shadow: 0px 1px 2px rgba(60, 64, 67, 0.3), 0px 1px 3px 1px rgba(60, 64, 67, 0.15);\n",
              "      fill: #174EA6;\n",
              "    }\n",
              "\n",
              "    [theme=dark] .colab-df-convert {\n",
              "      background-color: #3B4455;\n",
              "      fill: #D2E3FC;\n",
              "    }\n",
              "\n",
              "    [theme=dark] .colab-df-convert:hover {\n",
              "      background-color: #434B5C;\n",
              "      box-shadow: 0px 1px 3px 1px rgba(0, 0, 0, 0.15);\n",
              "      filter: drop-shadow(0px 1px 2px rgba(0, 0, 0, 0.3));\n",
              "      fill: #FFFFFF;\n",
              "    }\n",
              "  </style>\n",
              "\n",
              "      <script>\n",
              "        const buttonEl =\n",
              "          document.querySelector('#df-be7ed700-c87a-4c1f-8bdb-f43b6dd9aebc button.colab-df-convert');\n",
              "        buttonEl.style.display =\n",
              "          google.colab.kernel.accessAllowed ? 'block' : 'none';\n",
              "\n",
              "        async function convertToInteractive(key) {\n",
              "          const element = document.querySelector('#df-be7ed700-c87a-4c1f-8bdb-f43b6dd9aebc');\n",
              "          const dataTable =\n",
              "            await google.colab.kernel.invokeFunction('convertToInteractive',\n",
              "                                                     [key], {});\n",
              "          if (!dataTable) return;\n",
              "\n",
              "          const docLinkHtml = 'Like what you see? Visit the ' +\n",
              "            '<a target=\"_blank\" href=https://colab.research.google.com/notebooks/data_table.ipynb>data table notebook</a>'\n",
              "            + ' to learn more about interactive tables.';\n",
              "          element.innerHTML = '';\n",
              "          dataTable['output_type'] = 'display_data';\n",
              "          await google.colab.output.renderOutput(dataTable, element);\n",
              "          const docLink = document.createElement('div');\n",
              "          docLink.innerHTML = docLinkHtml;\n",
              "          element.appendChild(docLink);\n",
              "        }\n",
              "      </script>\n",
              "    </div>\n",
              "  </div>\n",
              "  "
            ],
            "text/plain": [
              "                          title  ...                                                                  label\n",
              "0  squirrel financial wellbeing  ...  payment-credit-card-balance-euro-dollars-credit-debit-receipt-billing\n",
              "1    senior insurance marketing  ...  payment-credit-card-balance-euro-dollars-credit-debit-receipt-billing\n",
              "2       3i financial group inc.  ...  payment-credit-card-balance-euro-dollars-credit-debit-receipt-billing\n",
              "3          brownstone insurance  ...  payment-credit-card-balance-euro-dollars-credit-debit-receipt-billing\n",
              "4           pacificwide lending  ...  payment-credit-card-balance-euro-dollars-credit-debit-receipt-billing\n",
              "\n",
              "[5 rows x 3 columns]"
            ]
          },
          "metadata": {},
          "execution_count": 7
        }
      ],
      "source": [
        "data.head()"
      ]
    },
    {
      "cell_type": "markdown",
      "metadata": {
        "id": "S1-p4caBaXE8"
      },
      "source": [
        "# Preparing our data for modeling "
      ]
    },
    {
      "cell_type": "code",
      "execution_count": 8,
      "metadata": {
        "colab": {
          "base_uri": "https://localhost:8080/"
        },
        "id": "eavokoSeaVKp",
        "outputId": "d5edc099-b245-4d2b-e105-77e0c4953002"
      },
      "outputs": [
        {
          "output_type": "stream",
          "name": "stdout",
          "text": [
            "[nltk_data] Downloading package wordnet to /root/nltk_data...\n",
            "[nltk_data]   Package wordnet is already up-to-date!\n",
            "[nltk_data] Downloading package stopwords to /root/nltk_data...\n",
            "[nltk_data]   Package stopwords is already up-to-date!\n"
          ]
        }
      ],
      "source": [
        "import re\n",
        "import nltk\n",
        "nltk.download('wordnet')\n",
        "nltk.download('stopwords')\n",
        "from nltk.corpus import stopwords\n",
        "from nltk.stem import WordNetLemmatizer"
      ]
    },
    {
      "cell_type": "code",
      "source": [
        "# title\n",
        "title_corpus = []\n",
        "lm = WordNetLemmatizer()\n",
        "words = stopwords.words('english')\n",
        "\n",
        "for i in range(data.shape[0]):\n",
        "    row = re.sub('[^a-zA-Z\\s]', '', data.iloc[i, 0]).lower()\n",
        "    row = row.split()  \n",
        "    row = [lm.lemmatize(word) for word in row if word not in words]\n",
        "    row = ' '.join(row)\n",
        "    title_corpus.append(row)"
      ],
      "metadata": {
        "id": "CSbtsAanCfZa"
      },
      "execution_count": 9,
      "outputs": []
    },
    {
      "cell_type": "code",
      "execution_count": 10,
      "metadata": {
        "id": "il1p9GXcab24"
      },
      "outputs": [],
      "source": [
        "# text\n",
        "text_corpus = []\n",
        "lm = WordNetLemmatizer()\n",
        "words = stopwords.words('english')\n",
        "\n",
        "for i in range(data.shape[0]):\n",
        "    row = re.sub('[^a-zA-Z\\s]', '', data.iloc[i, 1]).lower()\n",
        "    row = row.split()  \n",
        "    row = [lm.lemmatize(word) for word in row if word not in words]\n",
        "    row = ' '.join(row)\n",
        "    text_corpus.append(row)"
      ]
    },
    {
      "cell_type": "markdown",
      "metadata": {
        "id": "r4iGwbELrg7h"
      },
      "source": [
        "_Our Bag of Words_"
      ]
    },
    {
      "cell_type": "code",
      "execution_count": 11,
      "metadata": {
        "id": "NizfHsrPbCaR"
      },
      "outputs": [],
      "source": [
        "from sklearn.feature_extraction.text import CountVectorizer"
      ]
    },
    {
      "cell_type": "code",
      "source": [
        "title_cv = CountVectorizer(ngram_range=(1, 2), analyzer=\"word\", max_features=300)   \n",
        "X_title = title_cv.fit_transform(title_corpus).toarray()"
      ],
      "metadata": {
        "id": "0xDsCcQLCnlv"
      },
      "execution_count": 18,
      "outputs": []
    },
    {
      "cell_type": "code",
      "source": [
        "X_title.shape"
      ],
      "metadata": {
        "colab": {
          "base_uri": "https://localhost:8080/"
        },
        "id": "rMPw6j3JESlD",
        "outputId": "7df9fbef-1fb4-41d9-8d4e-9d1d9f9fe219"
      },
      "execution_count": 19,
      "outputs": [
        {
          "output_type": "execute_result",
          "data": {
            "text/plain": [
              "(34911, 300)"
            ]
          },
          "metadata": {},
          "execution_count": 19
        }
      ]
    },
    {
      "cell_type": "code",
      "execution_count": 20,
      "metadata": {
        "id": "YCnDgfDirvuT"
      },
      "outputs": [],
      "source": [
        "text_cv = CountVectorizer(ngram_range=(1, 2), analyzer=\"word\", max_features=1200)   \n",
        "X_text = text_cv.fit_transform(text_corpus).toarray()"
      ]
    },
    {
      "cell_type": "code",
      "execution_count": 21,
      "metadata": {
        "colab": {
          "base_uri": "https://localhost:8080/"
        },
        "id": "DATaht2csTTc",
        "outputId": "a24f3cb2-b8a6-431f-c50a-86138f90d616"
      },
      "outputs": [
        {
          "output_type": "execute_result",
          "data": {
            "text/plain": [
              "(34911, 1200)"
            ]
          },
          "metadata": {},
          "execution_count": 21
        }
      ],
      "source": [
        "X_text.shape"
      ]
    },
    {
      "cell_type": "code",
      "execution_count": 22,
      "metadata": {
        "id": "wfaFp6GGsZyQ"
      },
      "outputs": [],
      "source": [
        "X = np.concatenate((X_title, X_text), axis=1)\n",
        "y = data.iloc[:, 2].values"
      ]
    },
    {
      "cell_type": "code",
      "execution_count": 23,
      "metadata": {
        "colab": {
          "base_uri": "https://localhost:8080/"
        },
        "id": "oC1oCc0Asn8I",
        "outputId": "3ab3195f-2f68-4a43-9a48-1318f45cb5bf"
      },
      "outputs": [
        {
          "output_type": "execute_result",
          "data": {
            "text/plain": [
              "((34911, 1500), (34911,))"
            ]
          },
          "metadata": {},
          "execution_count": 23
        }
      ],
      "source": [
        "X.shape, y.shape"
      ]
    },
    {
      "cell_type": "code",
      "execution_count": 24,
      "metadata": {
        "id": "tog76JXvtQCL"
      },
      "outputs": [],
      "source": [
        "# LabelEncoder\n",
        "from sklearn.preprocessing import LabelEncoder\n",
        "\n",
        "le = LabelEncoder()\n",
        "y = le.fit_transform(y)"
      ]
    },
    {
      "cell_type": "code",
      "execution_count": 25,
      "metadata": {
        "colab": {
          "base_uri": "https://localhost:8080/"
        },
        "id": "2oGcR5Y7tdwE",
        "outputId": "3099f734-fbb9-44f3-fe21-e74f349706bd"
      },
      "outputs": [
        {
          "output_type": "execute_result",
          "data": {
            "text/plain": [
              "array([ 0,  1,  2,  3,  4,  5,  6,  7,  8,  9, 10, 11, 12, 13, 14])"
            ]
          },
          "metadata": {},
          "execution_count": 25
        }
      ],
      "source": [
        "np.unique(y)"
      ]
    },
    {
      "cell_type": "markdown",
      "metadata": {
        "id": "mN9jwYozsr8v"
      },
      "source": [
        "# Splitting the data"
      ]
    },
    {
      "cell_type": "code",
      "execution_count": 26,
      "metadata": {
        "id": "HCdz0m_cspOo"
      },
      "outputs": [],
      "source": [
        "from sklearn.model_selection import train_test_split\n",
        "\n",
        "X_train, X_val, y_train, y_val = train_test_split(X, y, test_size = 0.2, random_state = 42)"
      ]
    },
    {
      "cell_type": "code",
      "execution_count": 27,
      "metadata": {
        "colab": {
          "base_uri": "https://localhost:8080/"
        },
        "id": "FC49gEmus2Ql",
        "outputId": "e1154893-c206-42ff-e5fe-9b37f38284a5"
      },
      "outputs": [
        {
          "output_type": "execute_result",
          "data": {
            "text/plain": [
              "((27928, 1500), (6983, 1500))"
            ]
          },
          "metadata": {},
          "execution_count": 27
        }
      ],
      "source": [
        "X_train.shape, X_val.shape"
      ]
    },
    {
      "cell_type": "markdown",
      "metadata": {
        "id": "bcUUtSEas7iD"
      },
      "source": [
        "# Modeling"
      ]
    },
    {
      "cell_type": "code",
      "execution_count": 28,
      "metadata": {
        "id": "U8ykykQos4Q5"
      },
      "outputs": [],
      "source": [
        "from time import time \n",
        "\n",
        "from xgboost import XGBClassifier\n",
        "from lightgbm import LGBMClassifier\n",
        "from sklearn.ensemble import GradientBoostingClassifier \n",
        "\n",
        "from sklearn.metrics import accuracy_score, roc_auc_score, precision_score, recall_score, f1_score"
      ]
    },
    {
      "cell_type": "code",
      "execution_count": 29,
      "metadata": {
        "id": "odcPwx0rtmER"
      },
      "outputs": [],
      "source": [
        "models = [\n",
        "    ('GradientBoostingClassifier',GradientBoostingClassifier()),\n",
        "    ('XGBoost', XGBClassifier(use_label_encoder=False, eval_metric='logloss')),\n",
        "    ('LightGBM', LGBMClassifier())\n",
        "]\n",
        "\n",
        "results = pd.DataFrame(columns = ['Model', 'Accuracy', 'Precision-MacroAVG', 'Precision-WeightedAVG', \n",
        "                                  'Recall-MacroAVG', 'Recall-WeightedAVG', 'F1_score-MacroAVG','F1_score-WeightedAVG', 'Time_taken'])\n",
        "for model_name, model in models:\n",
        "    start = time()\n",
        "    model.fit(X_train, y_train)\n",
        "    y_pred = model.predict(X_val)\n",
        "    end = time()\n",
        "    \n",
        "    record = {}\n",
        "    record['Model'] = model_name\n",
        "    record['Accuracy'] = accuracy_score(y_val, y_pred)*100\n",
        "    record['Precision-MacroAVG'] = precision_score(y_val, y_pred, average='macro')*100\n",
        "    record['Precision-WeightedAVG'] = precision_score(y_val, y_pred, average='weighted')*100\n",
        "    record['Recall-MacroAVG'] = recall_score(y_val, y_pred, average='macro')*100\n",
        "    record['Recall-WeightedAVG'] = recall_score(y_val, y_pred, average='weighted')*100\n",
        "    record['F1_score-MacroAVG'] = f1_score(y_val, y_pred, average='macro')*100\n",
        "    record['F1_score-WeightedAVG'] = f1_score(y_val, y_pred, average='weighted')*100\n",
        "    record['Time_taken'] = end-start\n",
        "    \n",
        "    results = results.append(record, ignore_index=True)\n",
        "    \n",
        "results = results.sort_values(by='Accuracy', ascending=False)"
      ]
    },
    {
      "cell_type": "code",
      "execution_count": 30,
      "metadata": {
        "colab": {
          "base_uri": "https://localhost:8080/",
          "height": 205
        },
        "id": "50aMbsKHHT1R",
        "outputId": "a5a5535e-b97d-4049-d73f-a462a1a45742"
      },
      "outputs": [
        {
          "output_type": "execute_result",
          "data": {
            "text/html": [
              "\n",
              "  <div id=\"df-f21d04a2-50a2-4b3d-92c5-51c6bf636e2f\">\n",
              "    <div class=\"colab-df-container\">\n",
              "      <div>\n",
              "<style scoped>\n",
              "    .dataframe tbody tr th:only-of-type {\n",
              "        vertical-align: middle;\n",
              "    }\n",
              "\n",
              "    .dataframe tbody tr th {\n",
              "        vertical-align: top;\n",
              "    }\n",
              "\n",
              "    .dataframe thead th {\n",
              "        text-align: right;\n",
              "    }\n",
              "</style>\n",
              "<table border=\"1\" class=\"dataframe\">\n",
              "  <thead>\n",
              "    <tr style=\"text-align: right;\">\n",
              "      <th></th>\n",
              "      <th>Model</th>\n",
              "      <th>Accuracy</th>\n",
              "      <th>Precision-MacroAVG</th>\n",
              "      <th>Precision-WeightedAVG</th>\n",
              "      <th>Recall-MacroAVG</th>\n",
              "      <th>Recall-WeightedAVG</th>\n",
              "      <th>F1_score-MacroAVG</th>\n",
              "      <th>F1_score-WeightedAVG</th>\n",
              "      <th>Time_taken</th>\n",
              "    </tr>\n",
              "  </thead>\n",
              "  <tbody>\n",
              "    <tr>\n",
              "      <th>2</th>\n",
              "      <td>LightGBM</td>\n",
              "      <td>90.605757</td>\n",
              "      <td>88.436745</td>\n",
              "      <td>90.600449</td>\n",
              "      <td>82.462757</td>\n",
              "      <td>90.605757</td>\n",
              "      <td>84.691333</td>\n",
              "      <td>90.510916</td>\n",
              "      <td>70.392763</td>\n",
              "    </tr>\n",
              "    <tr>\n",
              "      <th>0</th>\n",
              "      <td>GradientBoostingClassifier</td>\n",
              "      <td>86.911070</td>\n",
              "      <td>80.194411</td>\n",
              "      <td>86.797998</td>\n",
              "      <td>75.282696</td>\n",
              "      <td>86.911070</td>\n",
              "      <td>77.059915</td>\n",
              "      <td>86.633841</td>\n",
              "      <td>2863.695228</td>\n",
              "    </tr>\n",
              "    <tr>\n",
              "      <th>1</th>\n",
              "      <td>XGBoost</td>\n",
              "      <td>85.221252</td>\n",
              "      <td>84.245971</td>\n",
              "      <td>85.163881</td>\n",
              "      <td>68.805138</td>\n",
              "      <td>85.221252</td>\n",
              "      <td>72.366664</td>\n",
              "      <td>84.586034</td>\n",
              "      <td>1090.141787</td>\n",
              "    </tr>\n",
              "  </tbody>\n",
              "</table>\n",
              "</div>\n",
              "      <button class=\"colab-df-convert\" onclick=\"convertToInteractive('df-f21d04a2-50a2-4b3d-92c5-51c6bf636e2f')\"\n",
              "              title=\"Convert this dataframe to an interactive table.\"\n",
              "              style=\"display:none;\">\n",
              "        \n",
              "  <svg xmlns=\"http://www.w3.org/2000/svg\" height=\"24px\"viewBox=\"0 0 24 24\"\n",
              "       width=\"24px\">\n",
              "    <path d=\"M0 0h24v24H0V0z\" fill=\"none\"/>\n",
              "    <path d=\"M18.56 5.44l.94 2.06.94-2.06 2.06-.94-2.06-.94-.94-2.06-.94 2.06-2.06.94zm-11 1L8.5 8.5l.94-2.06 2.06-.94-2.06-.94L8.5 2.5l-.94 2.06-2.06.94zm10 10l.94 2.06.94-2.06 2.06-.94-2.06-.94-.94-2.06-.94 2.06-2.06.94z\"/><path d=\"M17.41 7.96l-1.37-1.37c-.4-.4-.92-.59-1.43-.59-.52 0-1.04.2-1.43.59L10.3 9.45l-7.72 7.72c-.78.78-.78 2.05 0 2.83L4 21.41c.39.39.9.59 1.41.59.51 0 1.02-.2 1.41-.59l7.78-7.78 2.81-2.81c.8-.78.8-2.07 0-2.86zM5.41 20L4 18.59l7.72-7.72 1.47 1.35L5.41 20z\"/>\n",
              "  </svg>\n",
              "      </button>\n",
              "      \n",
              "  <style>\n",
              "    .colab-df-container {\n",
              "      display:flex;\n",
              "      flex-wrap:wrap;\n",
              "      gap: 12px;\n",
              "    }\n",
              "\n",
              "    .colab-df-convert {\n",
              "      background-color: #E8F0FE;\n",
              "      border: none;\n",
              "      border-radius: 50%;\n",
              "      cursor: pointer;\n",
              "      display: none;\n",
              "      fill: #1967D2;\n",
              "      height: 32px;\n",
              "      padding: 0 0 0 0;\n",
              "      width: 32px;\n",
              "    }\n",
              "\n",
              "    .colab-df-convert:hover {\n",
              "      background-color: #E2EBFA;\n",
              "      box-shadow: 0px 1px 2px rgba(60, 64, 67, 0.3), 0px 1px 3px 1px rgba(60, 64, 67, 0.15);\n",
              "      fill: #174EA6;\n",
              "    }\n",
              "\n",
              "    [theme=dark] .colab-df-convert {\n",
              "      background-color: #3B4455;\n",
              "      fill: #D2E3FC;\n",
              "    }\n",
              "\n",
              "    [theme=dark] .colab-df-convert:hover {\n",
              "      background-color: #434B5C;\n",
              "      box-shadow: 0px 1px 3px 1px rgba(0, 0, 0, 0.15);\n",
              "      filter: drop-shadow(0px 1px 2px rgba(0, 0, 0, 0.3));\n",
              "      fill: #FFFFFF;\n",
              "    }\n",
              "  </style>\n",
              "\n",
              "      <script>\n",
              "        const buttonEl =\n",
              "          document.querySelector('#df-f21d04a2-50a2-4b3d-92c5-51c6bf636e2f button.colab-df-convert');\n",
              "        buttonEl.style.display =\n",
              "          google.colab.kernel.accessAllowed ? 'block' : 'none';\n",
              "\n",
              "        async function convertToInteractive(key) {\n",
              "          const element = document.querySelector('#df-f21d04a2-50a2-4b3d-92c5-51c6bf636e2f');\n",
              "          const dataTable =\n",
              "            await google.colab.kernel.invokeFunction('convertToInteractive',\n",
              "                                                     [key], {});\n",
              "          if (!dataTable) return;\n",
              "\n",
              "          const docLinkHtml = 'Like what you see? Visit the ' +\n",
              "            '<a target=\"_blank\" href=https://colab.research.google.com/notebooks/data_table.ipynb>data table notebook</a>'\n",
              "            + ' to learn more about interactive tables.';\n",
              "          element.innerHTML = '';\n",
              "          dataTable['output_type'] = 'display_data';\n",
              "          await google.colab.output.renderOutput(dataTable, element);\n",
              "          const docLink = document.createElement('div');\n",
              "          docLink.innerHTML = docLinkHtml;\n",
              "          element.appendChild(docLink);\n",
              "        }\n",
              "      </script>\n",
              "    </div>\n",
              "  </div>\n",
              "  "
            ],
            "text/plain": [
              "                        Model   Accuracy  ...  F1_score-WeightedAVG   Time_taken\n",
              "2                    LightGBM  90.605757  ...             90.510916    70.392763\n",
              "0  GradientBoostingClassifier  86.911070  ...             86.633841  2863.695228\n",
              "1                     XGBoost  85.221252  ...             84.586034  1090.141787\n",
              "\n",
              "[3 rows x 9 columns]"
            ]
          },
          "metadata": {},
          "execution_count": 30
        }
      ],
      "source": [
        "results"
      ]
    },
    {
      "cell_type": "code",
      "execution_count": 31,
      "metadata": {
        "id": "Vj80xhQ8ICSh",
        "colab": {
          "base_uri": "https://localhost:8080/"
        },
        "outputId": "ed047380-3f81-43db-909c-5151d4c4f9f4"
      },
      "outputs": [
        {
          "output_type": "execute_result",
          "data": {
            "text/plain": [
              "['LightGBM.sav']"
            ]
          },
          "metadata": {},
          "execution_count": 31
        }
      ],
      "source": [
        "# saving the models\n",
        "import joblib\n",
        "\n",
        "joblib.dump(models[0][1], 'GradientBoostingClassifier.sav')\n",
        "joblib.dump(models[1][1], 'XGBoost.sav')\n",
        "joblib.dump(models[2][1], 'LightGBM.sav')"
      ]
    },
    {
      "cell_type": "markdown",
      "metadata": {
        "id": "6iRF9wHh8isg"
      },
      "source": [
        "# Testing on test_data"
      ]
    },
    {
      "cell_type": "code",
      "execution_count": 32,
      "metadata": {
        "id": "dj9_KHpbbkFY"
      },
      "outputs": [],
      "source": [
        "test_data = pd.read_csv('test_in_kag_org.csv')"
      ]
    },
    {
      "cell_type": "code",
      "execution_count": 33,
      "metadata": {
        "colab": {
          "base_uri": "https://localhost:8080/"
        },
        "id": "yj9X0ocpbyXD",
        "outputId": "ace49a87-76e1-44dd-b9da-6edb9c0ba1eb"
      },
      "outputs": [
        {
          "output_type": "execute_result",
          "data": {
            "text/plain": [
              "(6501, 4)"
            ]
          },
          "metadata": {},
          "execution_count": 33
        }
      ],
      "source": [
        "test_data.shape"
      ]
    },
    {
      "cell_type": "code",
      "execution_count": 34,
      "metadata": {
        "colab": {
          "base_uri": "https://localhost:8080/"
        },
        "id": "wk8Fmr0lbyXE",
        "outputId": "376a8d1c-0c76-4c7d-e4f5-c828716e4654"
      },
      "outputs": [
        {
          "output_type": "execute_result",
          "data": {
            "text/plain": [
              "title         0\n",
              "text          0\n",
              "title_text    0\n",
              "label         0\n",
              "dtype: int64"
            ]
          },
          "metadata": {},
          "execution_count": 34
        }
      ],
      "source": [
        "test_data.isnull().sum()"
      ]
    },
    {
      "cell_type": "code",
      "execution_count": 35,
      "metadata": {
        "colab": {
          "base_uri": "https://localhost:8080/"
        },
        "id": "ncrp6S9cbyXF",
        "outputId": "992eea9b-2a5a-4c12-e6a5-a0d92ee6b89c"
      },
      "outputs": [
        {
          "output_type": "execute_result",
          "data": {
            "text/plain": [
              "15"
            ]
          },
          "metadata": {},
          "execution_count": 35
        }
      ],
      "source": [
        "test_data['label'].nunique()"
      ]
    },
    {
      "cell_type": "code",
      "execution_count": 36,
      "metadata": {
        "id": "Rv1JGvYbbyXH"
      },
      "outputs": [],
      "source": [
        "test_data.drop(columns=['text'], inplace=True)"
      ]
    },
    {
      "cell_type": "markdown",
      "metadata": {
        "id": "MpBjhsx8byXI"
      },
      "source": [
        "# Preparing our data for modeling "
      ]
    },
    {
      "cell_type": "code",
      "source": [
        "# title\n",
        "title_corpus_test = []\n",
        "lm = WordNetLemmatizer()\n",
        "words = stopwords.words('english')\n",
        "\n",
        "for i in range(test_data.shape[0]):\n",
        "    row = re.sub('[^a-zA-Z\\s]', '', test_data.iloc[i, 0]).lower()\n",
        "    row = row.split()  \n",
        "    row = [lm.lemmatize(word) for word in row if word not in words]\n",
        "    row = ' '.join(row)\n",
        "    title_corpus_test.append(row)"
      ],
      "metadata": {
        "id": "OIqFyd4hEihj"
      },
      "execution_count": 37,
      "outputs": []
    },
    {
      "cell_type": "code",
      "execution_count": 38,
      "metadata": {
        "id": "ZwBgz1hjbyXK"
      },
      "outputs": [],
      "source": [
        "# text\n",
        "text_corpus_test = []\n",
        "lm = WordNetLemmatizer()\n",
        "words = stopwords.words('english')\n",
        "\n",
        "for i in range(test_data.shape[0]):\n",
        "    row = re.sub('[^a-zA-Z\\s]', '', test_data.iloc[i, 1]).lower()\n",
        "    row = row.split()  \n",
        "    row = [lm.lemmatize(word) for word in row if word not in words]\n",
        "    row = ' '.join(row)\n",
        "    text_corpus_test.append(row)"
      ]
    },
    {
      "cell_type": "code",
      "execution_count": 39,
      "metadata": {
        "colab": {
          "base_uri": "https://localhost:8080/"
        },
        "id": "KwUAV1BkbyXK",
        "outputId": "d029b8a6-4533-4e9f-d467-9e89db8346e7"
      },
      "outputs": [
        {
          "output_type": "execute_result",
          "data": {
            "text/plain": [
              "6501"
            ]
          },
          "metadata": {},
          "execution_count": 39
        }
      ],
      "source": [
        "len(text_corpus_test)"
      ]
    },
    {
      "cell_type": "code",
      "execution_count": 40,
      "metadata": {
        "colab": {
          "base_uri": "https://localhost:8080/",
          "height": 35
        },
        "id": "4d2-H7uXbyXK",
        "outputId": "296ba7d3-23a4-415b-de68-c46d6c5fb766"
      },
      "outputs": [
        {
          "output_type": "execute_result",
          "data": {
            "application/vnd.google.colaboratory.intrinsic+json": {
              "type": "string"
            },
            "text/plain": [
              "'centralized hub procore offer ability communicate team get full view project one place assign task stay connected google map google doc'"
            ]
          },
          "metadata": {},
          "execution_count": 40
        }
      ],
      "source": [
        "text_corpus_test[0]"
      ]
    },
    {
      "cell_type": "markdown",
      "metadata": {
        "id": "aeW6wftSbyXK"
      },
      "source": [
        "_Our Bag of Words_"
      ]
    },
    {
      "cell_type": "code",
      "source": [
        "X_title_test = title_cv.transform(title_corpus_test).toarray()"
      ],
      "metadata": {
        "id": "uaLTksaxEmxT"
      },
      "execution_count": 41,
      "outputs": []
    },
    {
      "cell_type": "code",
      "source": [
        "X_title_test.shape"
      ],
      "metadata": {
        "colab": {
          "base_uri": "https://localhost:8080/"
        },
        "id": "QHZ2KsZ1EowV",
        "outputId": "33f188f1-7997-434b-b57b-5e2ce21d85c0"
      },
      "execution_count": 42,
      "outputs": [
        {
          "output_type": "execute_result",
          "data": {
            "text/plain": [
              "(6501, 300)"
            ]
          },
          "metadata": {},
          "execution_count": 42
        }
      ]
    },
    {
      "cell_type": "code",
      "execution_count": 43,
      "metadata": {
        "id": "11nCp5SmbyXL"
      },
      "outputs": [],
      "source": [
        "X_text_test = text_cv.transform(text_corpus_test).toarray()"
      ]
    },
    {
      "cell_type": "code",
      "execution_count": 44,
      "metadata": {
        "colab": {
          "base_uri": "https://localhost:8080/"
        },
        "id": "WFklhTUzbyXM",
        "outputId": "814c2340-e169-4959-e8a8-a201014f8db4"
      },
      "outputs": [
        {
          "output_type": "execute_result",
          "data": {
            "text/plain": [
              "(6501, 1200)"
            ]
          },
          "metadata": {},
          "execution_count": 44
        }
      ],
      "source": [
        "X_text_test.shape"
      ]
    },
    {
      "cell_type": "code",
      "execution_count": 45,
      "metadata": {
        "id": "VbmRqR09byXM"
      },
      "outputs": [],
      "source": [
        "X_test = np.concatenate((X_title_test, X_text_test), axis=1)\n",
        "y_test = test_data.iloc[:, 2].values"
      ]
    },
    {
      "cell_type": "code",
      "execution_count": 46,
      "metadata": {
        "colab": {
          "base_uri": "https://localhost:8080/"
        },
        "id": "VG0yGQSbbyXM",
        "outputId": "375199d0-8cbb-4a83-c39f-1d8e5f76ae7b"
      },
      "outputs": [
        {
          "output_type": "execute_result",
          "data": {
            "text/plain": [
              "((6501, 1500), (6501,))"
            ]
          },
          "metadata": {},
          "execution_count": 46
        }
      ],
      "source": [
        "X_test.shape, y_test.shape"
      ]
    },
    {
      "cell_type": "code",
      "execution_count": 47,
      "metadata": {
        "id": "xpeUXOpmbyXM"
      },
      "outputs": [],
      "source": [
        "y_test = le.transform(y_test)"
      ]
    },
    {
      "cell_type": "code",
      "execution_count": 48,
      "metadata": {
        "colab": {
          "base_uri": "https://localhost:8080/"
        },
        "id": "lmCHJOIgbyXM",
        "outputId": "ce7a39aa-69c2-4e18-f7b1-8386fe18cd9d"
      },
      "outputs": [
        {
          "output_type": "execute_result",
          "data": {
            "text/plain": [
              "array([ 0,  1,  2,  3,  4,  5,  6,  7,  8,  9, 10, 11, 12, 13, 14])"
            ]
          },
          "metadata": {},
          "execution_count": 48
        }
      ],
      "source": [
        "np.unique(y_test)"
      ]
    },
    {
      "cell_type": "code",
      "execution_count": 49,
      "metadata": {
        "id": "Ld8slHDRc7XJ"
      },
      "outputs": [],
      "source": [
        "import joblib\n",
        "\n",
        "GB_model = joblib.load('GradientBoostingClassifier.sav')\n",
        "XGB_model = joblib.load('XGBoost.sav') \n",
        "LGBM_model = joblib.load('LightGBM.sav')"
      ]
    },
    {
      "cell_type": "code",
      "execution_count": 50,
      "metadata": {
        "colab": {
          "base_uri": "https://localhost:8080/",
          "height": 205
        },
        "id": "kJ7917FybyXO",
        "outputId": "33770252-f235-4d4d-882f-b1049ebf3e73"
      },
      "outputs": [
        {
          "output_type": "execute_result",
          "data": {
            "text/html": [
              "\n",
              "  <div id=\"df-d7ad1d92-6b9c-47e4-a11c-5e2f126db2ab\">\n",
              "    <div class=\"colab-df-container\">\n",
              "      <div>\n",
              "<style scoped>\n",
              "    .dataframe tbody tr th:only-of-type {\n",
              "        vertical-align: middle;\n",
              "    }\n",
              "\n",
              "    .dataframe tbody tr th {\n",
              "        vertical-align: top;\n",
              "    }\n",
              "\n",
              "    .dataframe thead th {\n",
              "        text-align: right;\n",
              "    }\n",
              "</style>\n",
              "<table border=\"1\" class=\"dataframe\">\n",
              "  <thead>\n",
              "    <tr style=\"text-align: right;\">\n",
              "      <th></th>\n",
              "      <th>Model</th>\n",
              "      <th>Accuracy</th>\n",
              "      <th>Precision-MacroAVG</th>\n",
              "      <th>Precision-WeightedAVG</th>\n",
              "      <th>Recall-MacroAVG</th>\n",
              "      <th>Recall-WeightedAVG</th>\n",
              "      <th>F1_score-MacroAVG</th>\n",
              "      <th>F1_score-WeightedAVG</th>\n",
              "    </tr>\n",
              "  </thead>\n",
              "  <tbody>\n",
              "    <tr>\n",
              "      <th>2</th>\n",
              "      <td>LightGBM</td>\n",
              "      <td>91.155207</td>\n",
              "      <td>71.103564</td>\n",
              "      <td>90.857447</td>\n",
              "      <td>67.685188</td>\n",
              "      <td>91.155207</td>\n",
              "      <td>68.186362</td>\n",
              "      <td>90.880317</td>\n",
              "    </tr>\n",
              "    <tr>\n",
              "      <th>0</th>\n",
              "      <td>GradientBoostingClassifier</td>\n",
              "      <td>89.863098</td>\n",
              "      <td>66.932121</td>\n",
              "      <td>89.561999</td>\n",
              "      <td>66.651577</td>\n",
              "      <td>89.863098</td>\n",
              "      <td>66.014310</td>\n",
              "      <td>89.587465</td>\n",
              "    </tr>\n",
              "    <tr>\n",
              "      <th>1</th>\n",
              "      <td>XGBoost</td>\n",
              "      <td>89.355484</td>\n",
              "      <td>67.537305</td>\n",
              "      <td>89.110599</td>\n",
              "      <td>68.279578</td>\n",
              "      <td>89.355484</td>\n",
              "      <td>66.475402</td>\n",
              "      <td>89.018729</td>\n",
              "    </tr>\n",
              "  </tbody>\n",
              "</table>\n",
              "</div>\n",
              "      <button class=\"colab-df-convert\" onclick=\"convertToInteractive('df-d7ad1d92-6b9c-47e4-a11c-5e2f126db2ab')\"\n",
              "              title=\"Convert this dataframe to an interactive table.\"\n",
              "              style=\"display:none;\">\n",
              "        \n",
              "  <svg xmlns=\"http://www.w3.org/2000/svg\" height=\"24px\"viewBox=\"0 0 24 24\"\n",
              "       width=\"24px\">\n",
              "    <path d=\"M0 0h24v24H0V0z\" fill=\"none\"/>\n",
              "    <path d=\"M18.56 5.44l.94 2.06.94-2.06 2.06-.94-2.06-.94-.94-2.06-.94 2.06-2.06.94zm-11 1L8.5 8.5l.94-2.06 2.06-.94-2.06-.94L8.5 2.5l-.94 2.06-2.06.94zm10 10l.94 2.06.94-2.06 2.06-.94-2.06-.94-.94-2.06-.94 2.06-2.06.94z\"/><path d=\"M17.41 7.96l-1.37-1.37c-.4-.4-.92-.59-1.43-.59-.52 0-1.04.2-1.43.59L10.3 9.45l-7.72 7.72c-.78.78-.78 2.05 0 2.83L4 21.41c.39.39.9.59 1.41.59.51 0 1.02-.2 1.41-.59l7.78-7.78 2.81-2.81c.8-.78.8-2.07 0-2.86zM5.41 20L4 18.59l7.72-7.72 1.47 1.35L5.41 20z\"/>\n",
              "  </svg>\n",
              "      </button>\n",
              "      \n",
              "  <style>\n",
              "    .colab-df-container {\n",
              "      display:flex;\n",
              "      flex-wrap:wrap;\n",
              "      gap: 12px;\n",
              "    }\n",
              "\n",
              "    .colab-df-convert {\n",
              "      background-color: #E8F0FE;\n",
              "      border: none;\n",
              "      border-radius: 50%;\n",
              "      cursor: pointer;\n",
              "      display: none;\n",
              "      fill: #1967D2;\n",
              "      height: 32px;\n",
              "      padding: 0 0 0 0;\n",
              "      width: 32px;\n",
              "    }\n",
              "\n",
              "    .colab-df-convert:hover {\n",
              "      background-color: #E2EBFA;\n",
              "      box-shadow: 0px 1px 2px rgba(60, 64, 67, 0.3), 0px 1px 3px 1px rgba(60, 64, 67, 0.15);\n",
              "      fill: #174EA6;\n",
              "    }\n",
              "\n",
              "    [theme=dark] .colab-df-convert {\n",
              "      background-color: #3B4455;\n",
              "      fill: #D2E3FC;\n",
              "    }\n",
              "\n",
              "    [theme=dark] .colab-df-convert:hover {\n",
              "      background-color: #434B5C;\n",
              "      box-shadow: 0px 1px 3px 1px rgba(0, 0, 0, 0.15);\n",
              "      filter: drop-shadow(0px 1px 2px rgba(0, 0, 0, 0.3));\n",
              "      fill: #FFFFFF;\n",
              "    }\n",
              "  </style>\n",
              "\n",
              "      <script>\n",
              "        const buttonEl =\n",
              "          document.querySelector('#df-d7ad1d92-6b9c-47e4-a11c-5e2f126db2ab button.colab-df-convert');\n",
              "        buttonEl.style.display =\n",
              "          google.colab.kernel.accessAllowed ? 'block' : 'none';\n",
              "\n",
              "        async function convertToInteractive(key) {\n",
              "          const element = document.querySelector('#df-d7ad1d92-6b9c-47e4-a11c-5e2f126db2ab');\n",
              "          const dataTable =\n",
              "            await google.colab.kernel.invokeFunction('convertToInteractive',\n",
              "                                                     [key], {});\n",
              "          if (!dataTable) return;\n",
              "\n",
              "          const docLinkHtml = 'Like what you see? Visit the ' +\n",
              "            '<a target=\"_blank\" href=https://colab.research.google.com/notebooks/data_table.ipynb>data table notebook</a>'\n",
              "            + ' to learn more about interactive tables.';\n",
              "          element.innerHTML = '';\n",
              "          dataTable['output_type'] = 'display_data';\n",
              "          await google.colab.output.renderOutput(dataTable, element);\n",
              "          const docLink = document.createElement('div');\n",
              "          docLink.innerHTML = docLinkHtml;\n",
              "          element.appendChild(docLink);\n",
              "        }\n",
              "      </script>\n",
              "    </div>\n",
              "  </div>\n",
              "  "
            ],
            "text/plain": [
              "                        Model  ...  F1_score-WeightedAVG\n",
              "2                    LightGBM  ...             90.880317\n",
              "0  GradientBoostingClassifier  ...             89.587465\n",
              "1                     XGBoost  ...             89.018729\n",
              "\n",
              "[3 rows x 8 columns]"
            ]
          },
          "metadata": {},
          "execution_count": 50
        }
      ],
      "source": [
        "models = [\n",
        "    ('GradientBoostingClassifier',GB_model),\n",
        "    ('XGBoost', XGB_model),\n",
        "    ('LightGBM', LGBM_model)\n",
        "]\n",
        "\n",
        "results = pd.DataFrame(columns = ['Model', 'Accuracy', 'Precision-MacroAVG', 'Precision-WeightedAVG', \n",
        "                                  'Recall-MacroAVG', 'Recall-WeightedAVG', 'F1_score-MacroAVG','F1_score-WeightedAVG'])\n",
        "for model_name, model in models:\n",
        "    y_pred = model.predict(X_test)\n",
        "    \n",
        "    record = {}\n",
        "    record['Model'] = model_name\n",
        "    record['Accuracy'] = accuracy_score(y_test, y_pred)*100\n",
        "    record['Precision-MacroAVG'] = precision_score(y_test, y_pred, average='macro')*100\n",
        "    record['Precision-WeightedAVG'] = precision_score(y_test, y_pred, average='weighted')*100\n",
        "    record['Recall-MacroAVG'] = recall_score(y_test, y_pred, average='macro')*100\n",
        "    record['Recall-WeightedAVG'] = recall_score(y_test, y_pred, average='weighted')*100\n",
        "    record['F1_score-MacroAVG'] = f1_score(y_test, y_pred, average='macro')*100\n",
        "    record['F1_score-WeightedAVG'] = f1_score(y_test, y_pred, average='weighted')*100\n",
        "    \n",
        "    results = results.append(record, ignore_index=True)\n",
        "    \n",
        "results = results.sort_values(by='Accuracy', ascending=False)\n",
        "results"
      ]
    },
    {
      "cell_type": "code",
      "execution_count": null,
      "metadata": {
        "id": "h0uQ6s6veje1"
      },
      "outputs": [],
      "source": [
        ""
      ]
    }
  ],
  "metadata": {
    "colab": {
      "name": "Code_v4.ipynb",
      "provenance": []
    },
    "kernelspec": {
      "display_name": "Python 3",
      "language": "python",
      "name": "python3"
    },
    "language_info": {
      "codemirror_mode": {
        "name": "ipython",
        "version": 3
      },
      "file_extension": ".py",
      "mimetype": "text/x-python",
      "name": "python",
      "nbconvert_exporter": "python",
      "pygments_lexer": "ipython3",
      "version": "3.8.8"
    }
  },
  "nbformat": 4,
  "nbformat_minor": 0
}