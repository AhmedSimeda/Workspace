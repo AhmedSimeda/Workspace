{
  "cells": [
    {
      "cell_type": "markdown",
      "metadata": {
        "id": "uT7OEo0sZbwm"
      },
      "source": [
        "# Exploring and Cleaning the data"
      ]
    },
    {
      "cell_type": "code",
      "execution_count": 1,
      "metadata": {
        "id": "t8-UEaOYSQ0p"
      },
      "outputs": [],
      "source": [
        "import pandas as pd\n",
        "import numpy as np\n",
        "\n",
        "import matplotlib.pyplot as plt\n",
        "import seaborn as sns\n",
        "\n",
        "pd.set_option('display.max_colwidth', None)\n",
        "\n",
        "import warnings\n",
        "warnings.filterwarnings(\"ignore\")"
      ]
    },
    {
      "cell_type": "code",
      "execution_count": 2,
      "metadata": {
        "id": "tUALIVo2ZfYR"
      },
      "outputs": [],
      "source": [
        "data = pd.read_csv('train_aug_in_kag_org.csv')"
      ]
    },
    {
      "cell_type": "code",
      "execution_count": 3,
      "metadata": {
        "colab": {
          "base_uri": "https://localhost:8080/",
          "height": 1000
        },
        "id": "UTp9GwGaaCDg",
        "outputId": "1f9be8e4-3c67-4c48-945b-5a97966c6f93"
      },
      "outputs": [
        {
          "output_type": "execute_result",
          "data": {
            "text/html": [
              "\n",
              "  <div id=\"df-af1f3ba8-2d4d-41e5-a2a5-da1035ef26e6\">\n",
              "    <div class=\"colab-df-container\">\n",
              "      <div>\n",
              "<style scoped>\n",
              "    .dataframe tbody tr th:only-of-type {\n",
              "        vertical-align: middle;\n",
              "    }\n",
              "\n",
              "    .dataframe tbody tr th {\n",
              "        vertical-align: top;\n",
              "    }\n",
              "\n",
              "    .dataframe thead th {\n",
              "        text-align: right;\n",
              "    }\n",
              "</style>\n",
              "<table border=\"1\" class=\"dataframe\">\n",
              "  <thead>\n",
              "    <tr style=\"text-align: right;\">\n",
              "      <th></th>\n",
              "      <th>title</th>\n",
              "      <th>text</th>\n",
              "      <th>title_text</th>\n",
              "      <th>label</th>\n",
              "    </tr>\n",
              "  </thead>\n",
              "  <tbody>\n",
              "    <tr>\n",
              "      <th>0</th>\n",
              "      <td>squirrel financial wellbeing</td>\n",
              "      <td>A Squirrel account makes it easy to stick to your budget and save. Start for free today!</td>\n",
              "      <td>squirrel financial wellbeing. A Squirrel account makes it easy to stick to your budget and save. Start for free today!</td>\n",
              "      <td>payment-credit-card-balance-euro-dollars-credit-debit-receipt-billing</td>\n",
              "    </tr>\n",
              "    <tr>\n",
              "      <th>1</th>\n",
              "      <td>senior insurance marketing</td>\n",
              "      <td>Welcome to the home page of Senior Insurance Marketing, a full service brokerage specializing in Medicare and senior insurance products.  Located in Lincoln, NE.</td>\n",
              "      <td>senior insurance marketing. Welcome to the home page of Senior Insurance Marketing, a full service brokerage specializing in Medicare and senior insurance products.  Located in Lincoln, NE.</td>\n",
              "      <td>payment-credit-card-balance-euro-dollars-credit-debit-receipt-billing</td>\n",
              "    </tr>\n",
              "    <tr>\n",
              "      <th>2</th>\n",
              "      <td>3i financial group inc.</td>\n",
              "      <td>A Small Boutique Firm Dedicated to Achieving Our Clients Goals.#sep#inform.invest.insure Get a Free, No Obligation Quote forAllYour Insurance Needs. 3i Financial offers a wide variety of insurance products to help suit your needs. Choose from individual, family, and group. GET A QUOTE TODAY Travel Insurance Get peace of mind with comprehensive travel insurance. Get a free quote today! Health &amp; Dental Get affordable health  Read more</td>\n",
              "      <td>3i financial group inc.. A Small Boutique Firm Dedicated to Achieving Our Clients Goals.#sep#inform.invest.insure Get a Free, No Obligation Quote forAllYour Insurance Needs. 3i Financial offers a wide variety of insurance products to help suit your needs. Choose from individual, family, and group. GET A QUOTE TODAY Travel Insurance Get peace of mind with comprehensive travel insurance. Get a free quote today! Health &amp; Dental Get affordable health  Read more</td>\n",
              "      <td>payment-credit-card-balance-euro-dollars-credit-debit-receipt-billing</td>\n",
              "    </tr>\n",
              "    <tr>\n",
              "      <th>3</th>\n",
              "      <td>brownstone insurance</td>\n",
              "      <td>Brownstone Insurance provides master insurance policies for multi-unit buildings throughout Massachusetts, as well as personal insurance products such as renter's insurance and homeowner's insurance.#sep#Brownstone Insurance provides master insurance policies for multi-unit \\nbuildings throughout Massachusetts, as well as personal insurance products \\nsuch as renter's insurance and homeowner's insurance.</td>\n",
              "      <td>brownstone insurance. Brownstone Insurance provides master insurance policies for multi-unit buildings throughout Massachusetts, as well as personal insurance products such as renter's insurance and homeowner's insurance.#sep#Brownstone Insurance provides master insurance policies for multi-unit \\nbuildings throughout Massachusetts, as well as personal insurance products \\nsuch as renter's insurance and homeowner's insurance.</td>\n",
              "      <td>payment-credit-card-balance-euro-dollars-credit-debit-receipt-billing</td>\n",
              "    </tr>\n",
              "    <tr>\n",
              "      <th>4</th>\n",
              "      <td>pacificwide lending</td>\n",
              "      <td>Learn more about Pacificwide Lending and our commercial &amp; residential loan services in California.</td>\n",
              "      <td>pacificwide lending. Learn more about Pacificwide Lending and our commercial &amp; residential loan services in California.</td>\n",
              "      <td>payment-credit-card-balance-euro-dollars-credit-debit-receipt-billing</td>\n",
              "    </tr>\n",
              "    <tr>\n",
              "      <th>5</th>\n",
              "      <td>city auto finance</td>\n",
              "      <td>City Auto Finance is the Southeast's most trusted used-car floor plan financing company with locations in Memphis, TN; Mobile, AL; Huntsville, AL and Murfreesboro, TN. We provide you with competitive rates and the capability to make payments online.</td>\n",
              "      <td>city auto finance. City Auto Finance is the Southeast's most trusted used-car floor plan financing company with locations in Memphis, TN; Mobile, AL; Huntsville, AL and Murfreesboro, TN. We provide you with competitive rates and the capability to make payments online.</td>\n",
              "      <td>payment-credit-card-balance-euro-dollars-credit-debit-receipt-billing</td>\n",
              "    </tr>\n",
              "    <tr>\n",
              "      <th>6</th>\n",
              "      <td>veterans financial, inc.</td>\n",
              "      <td>VA Aid and Attendance benefit can help pay for assisted living, home care or nursing home. Veterans Financial Inc can advise you at no cost about benefits</td>\n",
              "      <td>veterans financial, inc.. VA Aid and Attendance benefit can help pay for assisted living, home care or nursing home. Veterans Financial Inc can advise you at no cost about benefits</td>\n",
              "      <td>payment-credit-card-balance-euro-dollars-credit-debit-receipt-billing</td>\n",
              "    </tr>\n",
              "    <tr>\n",
              "      <th>7</th>\n",
              "      <td>keystart country home loans</td>\n",
              "      <td>Make your home ownership dream a reality. Keystart's low-deposit, no LMI home loans lower the entry barriers so you can get into a home of your own sooner.</td>\n",
              "      <td>keystart country home loans. Make your home ownership dream a reality. Keystart's low-deposit, no LMI home loans lower the entry barriers so you can get into a home of your own sooner.</td>\n",
              "      <td>payment-credit-card-balance-euro-dollars-credit-debit-receipt-billing</td>\n",
              "    </tr>\n",
              "    <tr>\n",
              "      <th>8</th>\n",
              "      <td>united insurance</td>\n",
              "      <td>United Insurance provides personal insurance, commercial insurance, and group benefits with 16 location in Maine and New Hampshire since 1976.</td>\n",
              "      <td>united insurance. United Insurance provides personal insurance, commercial insurance, and group benefits with 16 location in Maine and New Hampshire since 1976.</td>\n",
              "      <td>payment-credit-card-balance-euro-dollars-credit-debit-receipt-billing</td>\n",
              "    </tr>\n",
              "    <tr>\n",
              "      <th>9</th>\n",
              "      <td>insurance brokers co., inc.</td>\n",
              "      <td>Auto Insurance, Home Insurance, Business Insurance, Life &amp; Health Insurance in Rockville, Gaithersburg, Potomac, Bethesda, Germantown and Silver Spring.</td>\n",
              "      <td>insurance brokers co., inc.. Auto Insurance, Home Insurance, Business Insurance, Life &amp; Health Insurance in Rockville, Gaithersburg, Potomac, Bethesda, Germantown and Silver Spring.</td>\n",
              "      <td>payment-credit-card-balance-euro-dollars-credit-debit-receipt-billing</td>\n",
              "    </tr>\n",
              "  </tbody>\n",
              "</table>\n",
              "</div>\n",
              "      <button class=\"colab-df-convert\" onclick=\"convertToInteractive('df-af1f3ba8-2d4d-41e5-a2a5-da1035ef26e6')\"\n",
              "              title=\"Convert this dataframe to an interactive table.\"\n",
              "              style=\"display:none;\">\n",
              "        \n",
              "  <svg xmlns=\"http://www.w3.org/2000/svg\" height=\"24px\"viewBox=\"0 0 24 24\"\n",
              "       width=\"24px\">\n",
              "    <path d=\"M0 0h24v24H0V0z\" fill=\"none\"/>\n",
              "    <path d=\"M18.56 5.44l.94 2.06.94-2.06 2.06-.94-2.06-.94-.94-2.06-.94 2.06-2.06.94zm-11 1L8.5 8.5l.94-2.06 2.06-.94-2.06-.94L8.5 2.5l-.94 2.06-2.06.94zm10 10l.94 2.06.94-2.06 2.06-.94-2.06-.94-.94-2.06-.94 2.06-2.06.94z\"/><path d=\"M17.41 7.96l-1.37-1.37c-.4-.4-.92-.59-1.43-.59-.52 0-1.04.2-1.43.59L10.3 9.45l-7.72 7.72c-.78.78-.78 2.05 0 2.83L4 21.41c.39.39.9.59 1.41.59.51 0 1.02-.2 1.41-.59l7.78-7.78 2.81-2.81c.8-.78.8-2.07 0-2.86zM5.41 20L4 18.59l7.72-7.72 1.47 1.35L5.41 20z\"/>\n",
              "  </svg>\n",
              "      </button>\n",
              "      \n",
              "  <style>\n",
              "    .colab-df-container {\n",
              "      display:flex;\n",
              "      flex-wrap:wrap;\n",
              "      gap: 12px;\n",
              "    }\n",
              "\n",
              "    .colab-df-convert {\n",
              "      background-color: #E8F0FE;\n",
              "      border: none;\n",
              "      border-radius: 50%;\n",
              "      cursor: pointer;\n",
              "      display: none;\n",
              "      fill: #1967D2;\n",
              "      height: 32px;\n",
              "      padding: 0 0 0 0;\n",
              "      width: 32px;\n",
              "    }\n",
              "\n",
              "    .colab-df-convert:hover {\n",
              "      background-color: #E2EBFA;\n",
              "      box-shadow: 0px 1px 2px rgba(60, 64, 67, 0.3), 0px 1px 3px 1px rgba(60, 64, 67, 0.15);\n",
              "      fill: #174EA6;\n",
              "    }\n",
              "\n",
              "    [theme=dark] .colab-df-convert {\n",
              "      background-color: #3B4455;\n",
              "      fill: #D2E3FC;\n",
              "    }\n",
              "\n",
              "    [theme=dark] .colab-df-convert:hover {\n",
              "      background-color: #434B5C;\n",
              "      box-shadow: 0px 1px 3px 1px rgba(0, 0, 0, 0.15);\n",
              "      filter: drop-shadow(0px 1px 2px rgba(0, 0, 0, 0.3));\n",
              "      fill: #FFFFFF;\n",
              "    }\n",
              "  </style>\n",
              "\n",
              "      <script>\n",
              "        const buttonEl =\n",
              "          document.querySelector('#df-af1f3ba8-2d4d-41e5-a2a5-da1035ef26e6 button.colab-df-convert');\n",
              "        buttonEl.style.display =\n",
              "          google.colab.kernel.accessAllowed ? 'block' : 'none';\n",
              "\n",
              "        async function convertToInteractive(key) {\n",
              "          const element = document.querySelector('#df-af1f3ba8-2d4d-41e5-a2a5-da1035ef26e6');\n",
              "          const dataTable =\n",
              "            await google.colab.kernel.invokeFunction('convertToInteractive',\n",
              "                                                     [key], {});\n",
              "          if (!dataTable) return;\n",
              "\n",
              "          const docLinkHtml = 'Like what you see? Visit the ' +\n",
              "            '<a target=\"_blank\" href=https://colab.research.google.com/notebooks/data_table.ipynb>data table notebook</a>'\n",
              "            + ' to learn more about interactive tables.';\n",
              "          element.innerHTML = '';\n",
              "          dataTable['output_type'] = 'display_data';\n",
              "          await google.colab.output.renderOutput(dataTable, element);\n",
              "          const docLink = document.createElement('div');\n",
              "          docLink.innerHTML = docLinkHtml;\n",
              "          element.appendChild(docLink);\n",
              "        }\n",
              "      </script>\n",
              "    </div>\n",
              "  </div>\n",
              "  "
            ],
            "text/plain": [
              "                          title  \\\n",
              "0  squirrel financial wellbeing   \n",
              "1    senior insurance marketing   \n",
              "2       3i financial group inc.   \n",
              "3          brownstone insurance   \n",
              "4           pacificwide lending   \n",
              "5             city auto finance   \n",
              "6      veterans financial, inc.   \n",
              "7   keystart country home loans   \n",
              "8              united insurance   \n",
              "9   insurance brokers co., inc.   \n",
              "\n",
              "                                                                                                                                                                                                                                                                                                                                                                                                                                                   text  \\\n",
              "0                                                                                                                                                                                                                                                                                                                                                              A Squirrel account makes it easy to stick to your budget and save. Start for free today!   \n",
              "1                                                                                                                                                                                                                                                                                     Welcome to the home page of Senior Insurance Marketing, a full service brokerage specializing in Medicare and senior insurance products.  Located in Lincoln, NE.   \n",
              "2  A Small Boutique Firm Dedicated to Achieving Our Clients Goals.#sep#inform.invest.insure Get a Free, No Obligation Quote forAllYour Insurance Needs. 3i Financial offers a wide variety of insurance products to help suit your needs. Choose from individual, family, and group. GET A QUOTE TODAY Travel Insurance Get peace of mind with comprehensive travel insurance. Get a free quote today! Health & Dental Get affordable health  Read more   \n",
              "3                               Brownstone Insurance provides master insurance policies for multi-unit buildings throughout Massachusetts, as well as personal insurance products such as renter's insurance and homeowner's insurance.#sep#Brownstone Insurance provides master insurance policies for multi-unit \\nbuildings throughout Massachusetts, as well as personal insurance products \\nsuch as renter's insurance and homeowner's insurance.   \n",
              "4                                                                                                                                                                                                                                                                                                                                                    Learn more about Pacificwide Lending and our commercial & residential loan services in California.   \n",
              "5                                                                                                                                                                                             City Auto Finance is the Southeast's most trusted used-car floor plan financing company with locations in Memphis, TN; Mobile, AL; Huntsville, AL and Murfreesboro, TN. We provide you with competitive rates and the capability to make payments online.   \n",
              "6                                                                                                                                                                                                                                                                                            VA Aid and Attendance benefit can help pay for assisted living, home care or nursing home. Veterans Financial Inc can advise you at no cost about benefits   \n",
              "7                                                                                                                                                                                                                                                                                           Make your home ownership dream a reality. Keystart's low-deposit, no LMI home loans lower the entry barriers so you can get into a home of your own sooner.   \n",
              "8                                                                                                                                                                                                                                                                                                        United Insurance provides personal insurance, commercial insurance, and group benefits with 16 location in Maine and New Hampshire since 1976.   \n",
              "9                                                                                                                                                                                                                                                                                              Auto Insurance, Home Insurance, Business Insurance, Life & Health Insurance in Rockville, Gaithersburg, Potomac, Bethesda, Germantown and Silver Spring.   \n",
              "\n",
              "                                                                                                                                                                                                                                                                                                                                                                                                                                                                      title_text  \\\n",
              "0                                                                                                                                                                                                                                                                                                                                                         squirrel financial wellbeing. A Squirrel account makes it easy to stick to your budget and save. Start for free today!   \n",
              "1                                                                                                                                                                                                                                                                                  senior insurance marketing. Welcome to the home page of Senior Insurance Marketing, a full service brokerage specializing in Medicare and senior insurance products.  Located in Lincoln, NE.   \n",
              "2  3i financial group inc.. A Small Boutique Firm Dedicated to Achieving Our Clients Goals.#sep#inform.invest.insure Get a Free, No Obligation Quote forAllYour Insurance Needs. 3i Financial offers a wide variety of insurance products to help suit your needs. Choose from individual, family, and group. GET A QUOTE TODAY Travel Insurance Get peace of mind with comprehensive travel insurance. Get a free quote today! Health & Dental Get affordable health  Read more   \n",
              "3                                  brownstone insurance. Brownstone Insurance provides master insurance policies for multi-unit buildings throughout Massachusetts, as well as personal insurance products such as renter's insurance and homeowner's insurance.#sep#Brownstone Insurance provides master insurance policies for multi-unit \\nbuildings throughout Massachusetts, as well as personal insurance products \\nsuch as renter's insurance and homeowner's insurance.   \n",
              "4                                                                                                                                                                                                                                                                                                                                                        pacificwide lending. Learn more about Pacificwide Lending and our commercial & residential loan services in California.   \n",
              "5                                                                                                                                                                                                   city auto finance. City Auto Finance is the Southeast's most trusted used-car floor plan financing company with locations in Memphis, TN; Mobile, AL; Huntsville, AL and Murfreesboro, TN. We provide you with competitive rates and the capability to make payments online.   \n",
              "6                                                                                                                                                                                                                                                                                           veterans financial, inc.. VA Aid and Attendance benefit can help pay for assisted living, home care or nursing home. Veterans Financial Inc can advise you at no cost about benefits   \n",
              "7                                                                                                                                                                                                                                                                                       keystart country home loans. Make your home ownership dream a reality. Keystart's low-deposit, no LMI home loans lower the entry barriers so you can get into a home of your own sooner.   \n",
              "8                                                                                                                                                                                                                                                                                                               united insurance. United Insurance provides personal insurance, commercial insurance, and group benefits with 16 location in Maine and New Hampshire since 1976.   \n",
              "9                                                                                                                                                                                                                                                                                          insurance brokers co., inc.. Auto Insurance, Home Insurance, Business Insurance, Life & Health Insurance in Rockville, Gaithersburg, Potomac, Bethesda, Germantown and Silver Spring.   \n",
              "\n",
              "                                                                   label  \n",
              "0  payment-credit-card-balance-euro-dollars-credit-debit-receipt-billing  \n",
              "1  payment-credit-card-balance-euro-dollars-credit-debit-receipt-billing  \n",
              "2  payment-credit-card-balance-euro-dollars-credit-debit-receipt-billing  \n",
              "3  payment-credit-card-balance-euro-dollars-credit-debit-receipt-billing  \n",
              "4  payment-credit-card-balance-euro-dollars-credit-debit-receipt-billing  \n",
              "5  payment-credit-card-balance-euro-dollars-credit-debit-receipt-billing  \n",
              "6  payment-credit-card-balance-euro-dollars-credit-debit-receipt-billing  \n",
              "7  payment-credit-card-balance-euro-dollars-credit-debit-receipt-billing  \n",
              "8  payment-credit-card-balance-euro-dollars-credit-debit-receipt-billing  \n",
              "9  payment-credit-card-balance-euro-dollars-credit-debit-receipt-billing  "
            ]
          },
          "metadata": {},
          "execution_count": 3
        }
      ],
      "source": [
        "data.head(10)"
      ]
    },
    {
      "cell_type": "code",
      "execution_count": 4,
      "metadata": {
        "colab": {
          "base_uri": "https://localhost:8080/"
        },
        "id": "9O8GdDjMaDYC",
        "outputId": "60dd85df-38ab-4bd9-a138-0cde4e881bba"
      },
      "outputs": [
        {
          "output_type": "execute_result",
          "data": {
            "text/plain": [
              "(34953, 4)"
            ]
          },
          "metadata": {},
          "execution_count": 4
        }
      ],
      "source": [
        "data.shape"
      ]
    },
    {
      "cell_type": "code",
      "execution_count": 5,
      "metadata": {
        "colab": {
          "base_uri": "https://localhost:8080/"
        },
        "id": "pSjePuz1aEuc",
        "outputId": "dd54f4bd-46df-4a2c-a540-65e4ec38ce6b"
      },
      "outputs": [
        {
          "output_type": "execute_result",
          "data": {
            "text/plain": [
              "title         42\n",
              "text           0\n",
              "title_text     0\n",
              "label          0\n",
              "dtype: int64"
            ]
          },
          "metadata": {},
          "execution_count": 5
        }
      ],
      "source": [
        "data.isnull().sum()"
      ]
    },
    {
      "cell_type": "code",
      "execution_count": 6,
      "metadata": {
        "id": "qYM2MS4kaSx1"
      },
      "outputs": [],
      "source": [
        "data.dropna(inplace=True)\n",
        "data.drop(columns=['text'], inplace=True)"
      ]
    },
    {
      "cell_type": "code",
      "execution_count": 7,
      "metadata": {
        "colab": {
          "base_uri": "https://localhost:8080/",
          "height": 510
        },
        "id": "Vit6MnU0aUC2",
        "outputId": "3be1d379-46e5-4c56-874f-e06d4c4d3bb6"
      },
      "outputs": [
        {
          "output_type": "execute_result",
          "data": {
            "text/html": [
              "\n",
              "  <div id=\"df-4cd8daa3-d9d4-4d83-bb4f-c0dadf9b449f\">\n",
              "    <div class=\"colab-df-container\">\n",
              "      <div>\n",
              "<style scoped>\n",
              "    .dataframe tbody tr th:only-of-type {\n",
              "        vertical-align: middle;\n",
              "    }\n",
              "\n",
              "    .dataframe tbody tr th {\n",
              "        vertical-align: top;\n",
              "    }\n",
              "\n",
              "    .dataframe thead th {\n",
              "        text-align: right;\n",
              "    }\n",
              "</style>\n",
              "<table border=\"1\" class=\"dataframe\">\n",
              "  <thead>\n",
              "    <tr style=\"text-align: right;\">\n",
              "      <th></th>\n",
              "      <th>title</th>\n",
              "      <th>title_text</th>\n",
              "      <th>label</th>\n",
              "    </tr>\n",
              "  </thead>\n",
              "  <tbody>\n",
              "    <tr>\n",
              "      <th>0</th>\n",
              "      <td>squirrel financial wellbeing</td>\n",
              "      <td>squirrel financial wellbeing. A Squirrel account makes it easy to stick to your budget and save. Start for free today!</td>\n",
              "      <td>payment-credit-card-balance-euro-dollars-credit-debit-receipt-billing</td>\n",
              "    </tr>\n",
              "    <tr>\n",
              "      <th>1</th>\n",
              "      <td>senior insurance marketing</td>\n",
              "      <td>senior insurance marketing. Welcome to the home page of Senior Insurance Marketing, a full service brokerage specializing in Medicare and senior insurance products.  Located in Lincoln, NE.</td>\n",
              "      <td>payment-credit-card-balance-euro-dollars-credit-debit-receipt-billing</td>\n",
              "    </tr>\n",
              "    <tr>\n",
              "      <th>2</th>\n",
              "      <td>3i financial group inc.</td>\n",
              "      <td>3i financial group inc.. A Small Boutique Firm Dedicated to Achieving Our Clients Goals.#sep#inform.invest.insure Get a Free, No Obligation Quote forAllYour Insurance Needs. 3i Financial offers a wide variety of insurance products to help suit your needs. Choose from individual, family, and group. GET A QUOTE TODAY Travel Insurance Get peace of mind with comprehensive travel insurance. Get a free quote today! Health &amp; Dental Get affordable health  Read more</td>\n",
              "      <td>payment-credit-card-balance-euro-dollars-credit-debit-receipt-billing</td>\n",
              "    </tr>\n",
              "    <tr>\n",
              "      <th>3</th>\n",
              "      <td>brownstone insurance</td>\n",
              "      <td>brownstone insurance. Brownstone Insurance provides master insurance policies for multi-unit buildings throughout Massachusetts, as well as personal insurance products such as renter's insurance and homeowner's insurance.#sep#Brownstone Insurance provides master insurance policies for multi-unit \\nbuildings throughout Massachusetts, as well as personal insurance products \\nsuch as renter's insurance and homeowner's insurance.</td>\n",
              "      <td>payment-credit-card-balance-euro-dollars-credit-debit-receipt-billing</td>\n",
              "    </tr>\n",
              "    <tr>\n",
              "      <th>4</th>\n",
              "      <td>pacificwide lending</td>\n",
              "      <td>pacificwide lending. Learn more about Pacificwide Lending and our commercial &amp; residential loan services in California.</td>\n",
              "      <td>payment-credit-card-balance-euro-dollars-credit-debit-receipt-billing</td>\n",
              "    </tr>\n",
              "  </tbody>\n",
              "</table>\n",
              "</div>\n",
              "      <button class=\"colab-df-convert\" onclick=\"convertToInteractive('df-4cd8daa3-d9d4-4d83-bb4f-c0dadf9b449f')\"\n",
              "              title=\"Convert this dataframe to an interactive table.\"\n",
              "              style=\"display:none;\">\n",
              "        \n",
              "  <svg xmlns=\"http://www.w3.org/2000/svg\" height=\"24px\"viewBox=\"0 0 24 24\"\n",
              "       width=\"24px\">\n",
              "    <path d=\"M0 0h24v24H0V0z\" fill=\"none\"/>\n",
              "    <path d=\"M18.56 5.44l.94 2.06.94-2.06 2.06-.94-2.06-.94-.94-2.06-.94 2.06-2.06.94zm-11 1L8.5 8.5l.94-2.06 2.06-.94-2.06-.94L8.5 2.5l-.94 2.06-2.06.94zm10 10l.94 2.06.94-2.06 2.06-.94-2.06-.94-.94-2.06-.94 2.06-2.06.94z\"/><path d=\"M17.41 7.96l-1.37-1.37c-.4-.4-.92-.59-1.43-.59-.52 0-1.04.2-1.43.59L10.3 9.45l-7.72 7.72c-.78.78-.78 2.05 0 2.83L4 21.41c.39.39.9.59 1.41.59.51 0 1.02-.2 1.41-.59l7.78-7.78 2.81-2.81c.8-.78.8-2.07 0-2.86zM5.41 20L4 18.59l7.72-7.72 1.47 1.35L5.41 20z\"/>\n",
              "  </svg>\n",
              "      </button>\n",
              "      \n",
              "  <style>\n",
              "    .colab-df-container {\n",
              "      display:flex;\n",
              "      flex-wrap:wrap;\n",
              "      gap: 12px;\n",
              "    }\n",
              "\n",
              "    .colab-df-convert {\n",
              "      background-color: #E8F0FE;\n",
              "      border: none;\n",
              "      border-radius: 50%;\n",
              "      cursor: pointer;\n",
              "      display: none;\n",
              "      fill: #1967D2;\n",
              "      height: 32px;\n",
              "      padding: 0 0 0 0;\n",
              "      width: 32px;\n",
              "    }\n",
              "\n",
              "    .colab-df-convert:hover {\n",
              "      background-color: #E2EBFA;\n",
              "      box-shadow: 0px 1px 2px rgba(60, 64, 67, 0.3), 0px 1px 3px 1px rgba(60, 64, 67, 0.15);\n",
              "      fill: #174EA6;\n",
              "    }\n",
              "\n",
              "    [theme=dark] .colab-df-convert {\n",
              "      background-color: #3B4455;\n",
              "      fill: #D2E3FC;\n",
              "    }\n",
              "\n",
              "    [theme=dark] .colab-df-convert:hover {\n",
              "      background-color: #434B5C;\n",
              "      box-shadow: 0px 1px 3px 1px rgba(0, 0, 0, 0.15);\n",
              "      filter: drop-shadow(0px 1px 2px rgba(0, 0, 0, 0.3));\n",
              "      fill: #FFFFFF;\n",
              "    }\n",
              "  </style>\n",
              "\n",
              "      <script>\n",
              "        const buttonEl =\n",
              "          document.querySelector('#df-4cd8daa3-d9d4-4d83-bb4f-c0dadf9b449f button.colab-df-convert');\n",
              "        buttonEl.style.display =\n",
              "          google.colab.kernel.accessAllowed ? 'block' : 'none';\n",
              "\n",
              "        async function convertToInteractive(key) {\n",
              "          const element = document.querySelector('#df-4cd8daa3-d9d4-4d83-bb4f-c0dadf9b449f');\n",
              "          const dataTable =\n",
              "            await google.colab.kernel.invokeFunction('convertToInteractive',\n",
              "                                                     [key], {});\n",
              "          if (!dataTable) return;\n",
              "\n",
              "          const docLinkHtml = 'Like what you see? Visit the ' +\n",
              "            '<a target=\"_blank\" href=https://colab.research.google.com/notebooks/data_table.ipynb>data table notebook</a>'\n",
              "            + ' to learn more about interactive tables.';\n",
              "          element.innerHTML = '';\n",
              "          dataTable['output_type'] = 'display_data';\n",
              "          await google.colab.output.renderOutput(dataTable, element);\n",
              "          const docLink = document.createElement('div');\n",
              "          docLink.innerHTML = docLinkHtml;\n",
              "          element.appendChild(docLink);\n",
              "        }\n",
              "      </script>\n",
              "    </div>\n",
              "  </div>\n",
              "  "
            ],
            "text/plain": [
              "                          title  \\\n",
              "0  squirrel financial wellbeing   \n",
              "1    senior insurance marketing   \n",
              "2       3i financial group inc.   \n",
              "3          brownstone insurance   \n",
              "4           pacificwide lending   \n",
              "\n",
              "                                                                                                                                                                                                                                                                                                                                                                                                                                                                      title_text  \\\n",
              "0                                                                                                                                                                                                                                                                                                                                                         squirrel financial wellbeing. A Squirrel account makes it easy to stick to your budget and save. Start for free today!   \n",
              "1                                                                                                                                                                                                                                                                                  senior insurance marketing. Welcome to the home page of Senior Insurance Marketing, a full service brokerage specializing in Medicare and senior insurance products.  Located in Lincoln, NE.   \n",
              "2  3i financial group inc.. A Small Boutique Firm Dedicated to Achieving Our Clients Goals.#sep#inform.invest.insure Get a Free, No Obligation Quote forAllYour Insurance Needs. 3i Financial offers a wide variety of insurance products to help suit your needs. Choose from individual, family, and group. GET A QUOTE TODAY Travel Insurance Get peace of mind with comprehensive travel insurance. Get a free quote today! Health & Dental Get affordable health  Read more   \n",
              "3                                  brownstone insurance. Brownstone Insurance provides master insurance policies for multi-unit buildings throughout Massachusetts, as well as personal insurance products such as renter's insurance and homeowner's insurance.#sep#Brownstone Insurance provides master insurance policies for multi-unit \\nbuildings throughout Massachusetts, as well as personal insurance products \\nsuch as renter's insurance and homeowner's insurance.   \n",
              "4                                                                                                                                                                                                                                                                                                                                                        pacificwide lending. Learn more about Pacificwide Lending and our commercial & residential loan services in California.   \n",
              "\n",
              "                                                                   label  \n",
              "0  payment-credit-card-balance-euro-dollars-credit-debit-receipt-billing  \n",
              "1  payment-credit-card-balance-euro-dollars-credit-debit-receipt-billing  \n",
              "2  payment-credit-card-balance-euro-dollars-credit-debit-receipt-billing  \n",
              "3  payment-credit-card-balance-euro-dollars-credit-debit-receipt-billing  \n",
              "4  payment-credit-card-balance-euro-dollars-credit-debit-receipt-billing  "
            ]
          },
          "metadata": {},
          "execution_count": 7
        }
      ],
      "source": [
        "data.head()"
      ]
    },
    {
      "cell_type": "markdown",
      "metadata": {
        "id": "S1-p4caBaXE8"
      },
      "source": [
        "# Preparing our data for modeling "
      ]
    },
    {
      "cell_type": "code",
      "execution_count": 8,
      "metadata": {
        "colab": {
          "base_uri": "https://localhost:8080/"
        },
        "id": "eavokoSeaVKp",
        "outputId": "6d0df9e1-3f3d-423b-d755-f32bce292a52"
      },
      "outputs": [
        {
          "output_type": "stream",
          "name": "stdout",
          "text": [
            "[nltk_data] Downloading package wordnet to /root/nltk_data...\n",
            "[nltk_data]   Package wordnet is already up-to-date!\n",
            "[nltk_data] Downloading package stopwords to /root/nltk_data...\n",
            "[nltk_data]   Package stopwords is already up-to-date!\n"
          ]
        }
      ],
      "source": [
        "import re\n",
        "import nltk\n",
        "nltk.download('wordnet')\n",
        "nltk.download('stopwords')\n",
        "from nltk.corpus import stopwords\n",
        "from nltk.stem import WordNetLemmatizer"
      ]
    },
    {
      "cell_type": "code",
      "source": [
        "# title\n",
        "title_corpus = []\n",
        "lm = WordNetLemmatizer()\n",
        "words = stopwords.words('english')\n",
        "\n",
        "for i in range(data.shape[0]):\n",
        "    row = re.sub('[^a-zA-Z\\s]', '', data.iloc[i, 0]).lower()\n",
        "    row = row.split()  \n",
        "    row = [lm.lemmatize(word) for word in row if word not in words]\n",
        "    row = ' '.join(row)\n",
        "    title_corpus.append(row)"
      ],
      "metadata": {
        "id": "CSbtsAanCfZa"
      },
      "execution_count": 9,
      "outputs": []
    },
    {
      "cell_type": "code",
      "execution_count": 10,
      "metadata": {
        "id": "il1p9GXcab24"
      },
      "outputs": [],
      "source": [
        "# text\n",
        "text_corpus = []\n",
        "lm = WordNetLemmatizer()\n",
        "words = stopwords.words('english')\n",
        "\n",
        "for i in range(data.shape[0]):\n",
        "    row = re.sub('[^a-zA-Z\\s]', '', data.iloc[i, 1]).lower()\n",
        "    row = row.split()  \n",
        "    row = [lm.lemmatize(word) for word in row if word not in words]\n",
        "    row = ' '.join(row)\n",
        "    text_corpus.append(row)"
      ]
    },
    {
      "cell_type": "markdown",
      "metadata": {
        "id": "r4iGwbELrg7h"
      },
      "source": [
        "_Our Bag of Words_"
      ]
    },
    {
      "cell_type": "code",
      "execution_count": 11,
      "metadata": {
        "id": "NizfHsrPbCaR"
      },
      "outputs": [],
      "source": [
        "from sklearn.feature_extraction.text import CountVectorizer"
      ]
    },
    {
      "cell_type": "code",
      "source": [
        "title_cv = CountVectorizer(ngram_range=(1, 2), analyzer=\"word\", max_features=300)   \n",
        "X_title = title_cv.fit_transform(title_corpus).toarray()"
      ],
      "metadata": {
        "id": "0xDsCcQLCnlv"
      },
      "execution_count": 12,
      "outputs": []
    },
    {
      "cell_type": "code",
      "source": [
        "X_title.shape"
      ],
      "metadata": {
        "colab": {
          "base_uri": "https://localhost:8080/"
        },
        "id": "rMPw6j3JESlD",
        "outputId": "e99821fd-6830-455f-ef8b-21d65678594e"
      },
      "execution_count": 13,
      "outputs": [
        {
          "output_type": "execute_result",
          "data": {
            "text/plain": [
              "(34911, 300)"
            ]
          },
          "metadata": {},
          "execution_count": 13
        }
      ]
    },
    {
      "cell_type": "code",
      "execution_count": 14,
      "metadata": {
        "id": "YCnDgfDirvuT"
      },
      "outputs": [],
      "source": [
        "text_cv = CountVectorizer(ngram_range=(1, 2), analyzer=\"word\", max_features=1200)   \n",
        "X_text = text_cv.fit_transform(text_corpus).toarray()"
      ]
    },
    {
      "cell_type": "code",
      "execution_count": 15,
      "metadata": {
        "colab": {
          "base_uri": "https://localhost:8080/"
        },
        "id": "DATaht2csTTc",
        "outputId": "7402af06-4710-425f-f0ff-936811dd62e9"
      },
      "outputs": [
        {
          "output_type": "execute_result",
          "data": {
            "text/plain": [
              "(34911, 1200)"
            ]
          },
          "metadata": {},
          "execution_count": 15
        }
      ],
      "source": [
        "X_text.shape"
      ]
    },
    {
      "cell_type": "code",
      "execution_count": 16,
      "metadata": {
        "id": "wfaFp6GGsZyQ"
      },
      "outputs": [],
      "source": [
        "X = np.concatenate((X_title, X_text), axis=1)\n",
        "y = data.iloc[:, 2].values"
      ]
    },
    {
      "cell_type": "code",
      "execution_count": 17,
      "metadata": {
        "colab": {
          "base_uri": "https://localhost:8080/"
        },
        "id": "oC1oCc0Asn8I",
        "outputId": "d19b5f1b-dc59-4ca9-a43e-35b74de7f5d7"
      },
      "outputs": [
        {
          "output_type": "execute_result",
          "data": {
            "text/plain": [
              "((34911, 1500), (34911,))"
            ]
          },
          "metadata": {},
          "execution_count": 17
        }
      ],
      "source": [
        "X.shape, y.shape"
      ]
    },
    {
      "cell_type": "code",
      "execution_count": 18,
      "metadata": {
        "id": "tog76JXvtQCL"
      },
      "outputs": [],
      "source": [
        "# LabelEncoder\n",
        "from sklearn.preprocessing import LabelEncoder\n",
        "\n",
        "le = LabelEncoder()\n",
        "y = le.fit_transform(y)"
      ]
    },
    {
      "cell_type": "code",
      "execution_count": 19,
      "metadata": {
        "colab": {
          "base_uri": "https://localhost:8080/"
        },
        "id": "2oGcR5Y7tdwE",
        "outputId": "a0f1fe1a-f20c-4a6f-c629-1e2c738dd773"
      },
      "outputs": [
        {
          "output_type": "execute_result",
          "data": {
            "text/plain": [
              "array([ 0,  1,  2,  3,  4,  5,  6,  7,  8,  9, 10, 11, 12, 13, 14])"
            ]
          },
          "metadata": {},
          "execution_count": 19
        }
      ],
      "source": [
        "np.unique(y)"
      ]
    },
    {
      "cell_type": "markdown",
      "metadata": {
        "id": "mN9jwYozsr8v"
      },
      "source": [
        "# Splitting the data"
      ]
    },
    {
      "cell_type": "code",
      "execution_count": 20,
      "metadata": {
        "id": "HCdz0m_cspOo"
      },
      "outputs": [],
      "source": [
        "from sklearn.model_selection import train_test_split\n",
        "\n",
        "X_train, X_val, y_train, y_val = train_test_split(X, y, test_size = 0.2, random_state = 42)"
      ]
    },
    {
      "cell_type": "code",
      "execution_count": 21,
      "metadata": {
        "colab": {
          "base_uri": "https://localhost:8080/"
        },
        "id": "FC49gEmus2Ql",
        "outputId": "a21e136a-832b-4fba-bd70-cf142e1eceba"
      },
      "outputs": [
        {
          "output_type": "execute_result",
          "data": {
            "text/plain": [
              "((27928, 1500), (6983, 1500))"
            ]
          },
          "metadata": {},
          "execution_count": 21
        }
      ],
      "source": [
        "X_train.shape, X_val.shape"
      ]
    },
    {
      "cell_type": "markdown",
      "metadata": {
        "id": "bcUUtSEas7iD"
      },
      "source": [
        "# Modeling"
      ]
    },
    {
      "cell_type": "code",
      "execution_count": 22,
      "metadata": {
        "id": "U8ykykQos4Q5"
      },
      "outputs": [],
      "source": [
        "from time import time \n",
        "\n",
        "from sklearn.naive_bayes import GaussianNB, ComplementNB, MultinomialNB\n",
        "\n",
        "from sklearn.metrics import accuracy_score, roc_auc_score, precision_score, recall_score, f1_score"
      ]
    },
    {
      "cell_type": "code",
      "execution_count": 36,
      "metadata": {
        "id": "odcPwx0rtmER"
      },
      "outputs": [],
      "source": [
        "models = [\n",
        "    ('GaussianNB', GaussianNB()),\n",
        "    ('ComplementNB', ComplementNB()), \n",
        "    ('MultinomialNB', MultinomialNB())\n",
        "]\n",
        "\n",
        "results = pd.DataFrame(columns = ['Model', 'Accuracy', 'Precision-MacroAVG', 'Precision-WeightedAVG', \n",
        "                                  'Recall-MacroAVG', 'Recall-WeightedAVG', 'F1_score-MacroAVG','F1_score-WeightedAVG', 'Time_taken'])\n",
        "for model_name, model in models:\n",
        "    start = time()\n",
        "    model.fit(X_train, y_train)\n",
        "    y_pred = model.predict(X_val)\n",
        "    end = time()\n",
        "    \n",
        "    record = {}\n",
        "    record['Model'] = model_name\n",
        "    record['Accuracy'] = accuracy_score(y_val, y_pred)*100\n",
        "    record['Precision-MacroAVG'] = precision_score(y_val, y_pred, average='macro')*100\n",
        "    record['Precision-WeightedAVG'] = precision_score(y_val, y_pred, average='weighted')*100\n",
        "    record['Recall-MacroAVG'] = recall_score(y_val, y_pred, average='macro')*100\n",
        "    record['Recall-WeightedAVG'] = recall_score(y_val, y_pred, average='weighted')*100\n",
        "    record['F1_score-MacroAVG'] = f1_score(y_val, y_pred, average='macro')*100\n",
        "    record['F1_score-WeightedAVG'] = f1_score(y_val, y_pred, average='weighted')*100\n",
        "    record['Time_taken'] = end-start\n",
        "    \n",
        "    results = results.append(record, ignore_index=True)\n",
        "    \n",
        "results = results.sort_values(by='Accuracy', ascending=False)"
      ]
    },
    {
      "cell_type": "code",
      "execution_count": 37,
      "metadata": {
        "colab": {
          "base_uri": "https://localhost:8080/",
          "height": 205
        },
        "id": "50aMbsKHHT1R",
        "outputId": "3c415c93-1e57-4abc-cd36-a1d06b3b4bf5"
      },
      "outputs": [
        {
          "output_type": "execute_result",
          "data": {
            "text/html": [
              "\n",
              "  <div id=\"df-55cd1bee-bbcf-4d88-97d7-445fa174dc05\">\n",
              "    <div class=\"colab-df-container\">\n",
              "      <div>\n",
              "<style scoped>\n",
              "    .dataframe tbody tr th:only-of-type {\n",
              "        vertical-align: middle;\n",
              "    }\n",
              "\n",
              "    .dataframe tbody tr th {\n",
              "        vertical-align: top;\n",
              "    }\n",
              "\n",
              "    .dataframe thead th {\n",
              "        text-align: right;\n",
              "    }\n",
              "</style>\n",
              "<table border=\"1\" class=\"dataframe\">\n",
              "  <thead>\n",
              "    <tr style=\"text-align: right;\">\n",
              "      <th></th>\n",
              "      <th>Model</th>\n",
              "      <th>Accuracy</th>\n",
              "      <th>Precision-MacroAVG</th>\n",
              "      <th>Precision-WeightedAVG</th>\n",
              "      <th>Recall-MacroAVG</th>\n",
              "      <th>Recall-WeightedAVG</th>\n",
              "      <th>F1_score-MacroAVG</th>\n",
              "      <th>F1_score-WeightedAVG</th>\n",
              "      <th>Time_taken</th>\n",
              "    </tr>\n",
              "  </thead>\n",
              "  <tbody>\n",
              "    <tr>\n",
              "      <th>1</th>\n",
              "      <td>ComplementNB</td>\n",
              "      <td>83.846484</td>\n",
              "      <td>67.305035</td>\n",
              "      <td>82.729130</td>\n",
              "      <td>60.638036</td>\n",
              "      <td>83.846484</td>\n",
              "      <td>61.279612</td>\n",
              "      <td>82.406499</td>\n",
              "      <td>4.514647</td>\n",
              "    </tr>\n",
              "    <tr>\n",
              "      <th>2</th>\n",
              "      <td>MultinomialNB</td>\n",
              "      <td>83.703279</td>\n",
              "      <td>68.211160</td>\n",
              "      <td>85.579353</td>\n",
              "      <td>77.247976</td>\n",
              "      <td>83.703279</td>\n",
              "      <td>71.156935</td>\n",
              "      <td>84.376142</td>\n",
              "      <td>5.329692</td>\n",
              "    </tr>\n",
              "    <tr>\n",
              "      <th>0</th>\n",
              "      <td>GaussianNB</td>\n",
              "      <td>57.754547</td>\n",
              "      <td>49.829791</td>\n",
              "      <td>75.212289</td>\n",
              "      <td>60.661665</td>\n",
              "      <td>57.754547</td>\n",
              "      <td>48.437445</td>\n",
              "      <td>61.163903</td>\n",
              "      <td>1.377748</td>\n",
              "    </tr>\n",
              "  </tbody>\n",
              "</table>\n",
              "</div>\n",
              "      <button class=\"colab-df-convert\" onclick=\"convertToInteractive('df-55cd1bee-bbcf-4d88-97d7-445fa174dc05')\"\n",
              "              title=\"Convert this dataframe to an interactive table.\"\n",
              "              style=\"display:none;\">\n",
              "        \n",
              "  <svg xmlns=\"http://www.w3.org/2000/svg\" height=\"24px\"viewBox=\"0 0 24 24\"\n",
              "       width=\"24px\">\n",
              "    <path d=\"M0 0h24v24H0V0z\" fill=\"none\"/>\n",
              "    <path d=\"M18.56 5.44l.94 2.06.94-2.06 2.06-.94-2.06-.94-.94-2.06-.94 2.06-2.06.94zm-11 1L8.5 8.5l.94-2.06 2.06-.94-2.06-.94L8.5 2.5l-.94 2.06-2.06.94zm10 10l.94 2.06.94-2.06 2.06-.94-2.06-.94-.94-2.06-.94 2.06-2.06.94z\"/><path d=\"M17.41 7.96l-1.37-1.37c-.4-.4-.92-.59-1.43-.59-.52 0-1.04.2-1.43.59L10.3 9.45l-7.72 7.72c-.78.78-.78 2.05 0 2.83L4 21.41c.39.39.9.59 1.41.59.51 0 1.02-.2 1.41-.59l7.78-7.78 2.81-2.81c.8-.78.8-2.07 0-2.86zM5.41 20L4 18.59l7.72-7.72 1.47 1.35L5.41 20z\"/>\n",
              "  </svg>\n",
              "      </button>\n",
              "      \n",
              "  <style>\n",
              "    .colab-df-container {\n",
              "      display:flex;\n",
              "      flex-wrap:wrap;\n",
              "      gap: 12px;\n",
              "    }\n",
              "\n",
              "    .colab-df-convert {\n",
              "      background-color: #E8F0FE;\n",
              "      border: none;\n",
              "      border-radius: 50%;\n",
              "      cursor: pointer;\n",
              "      display: none;\n",
              "      fill: #1967D2;\n",
              "      height: 32px;\n",
              "      padding: 0 0 0 0;\n",
              "      width: 32px;\n",
              "    }\n",
              "\n",
              "    .colab-df-convert:hover {\n",
              "      background-color: #E2EBFA;\n",
              "      box-shadow: 0px 1px 2px rgba(60, 64, 67, 0.3), 0px 1px 3px 1px rgba(60, 64, 67, 0.15);\n",
              "      fill: #174EA6;\n",
              "    }\n",
              "\n",
              "    [theme=dark] .colab-df-convert {\n",
              "      background-color: #3B4455;\n",
              "      fill: #D2E3FC;\n",
              "    }\n",
              "\n",
              "    [theme=dark] .colab-df-convert:hover {\n",
              "      background-color: #434B5C;\n",
              "      box-shadow: 0px 1px 3px 1px rgba(0, 0, 0, 0.15);\n",
              "      filter: drop-shadow(0px 1px 2px rgba(0, 0, 0, 0.3));\n",
              "      fill: #FFFFFF;\n",
              "    }\n",
              "  </style>\n",
              "\n",
              "      <script>\n",
              "        const buttonEl =\n",
              "          document.querySelector('#df-55cd1bee-bbcf-4d88-97d7-445fa174dc05 button.colab-df-convert');\n",
              "        buttonEl.style.display =\n",
              "          google.colab.kernel.accessAllowed ? 'block' : 'none';\n",
              "\n",
              "        async function convertToInteractive(key) {\n",
              "          const element = document.querySelector('#df-55cd1bee-bbcf-4d88-97d7-445fa174dc05');\n",
              "          const dataTable =\n",
              "            await google.colab.kernel.invokeFunction('convertToInteractive',\n",
              "                                                     [key], {});\n",
              "          if (!dataTable) return;\n",
              "\n",
              "          const docLinkHtml = 'Like what you see? Visit the ' +\n",
              "            '<a target=\"_blank\" href=https://colab.research.google.com/notebooks/data_table.ipynb>data table notebook</a>'\n",
              "            + ' to learn more about interactive tables.';\n",
              "          element.innerHTML = '';\n",
              "          dataTable['output_type'] = 'display_data';\n",
              "          await google.colab.output.renderOutput(dataTable, element);\n",
              "          const docLink = document.createElement('div');\n",
              "          docLink.innerHTML = docLinkHtml;\n",
              "          element.appendChild(docLink);\n",
              "        }\n",
              "      </script>\n",
              "    </div>\n",
              "  </div>\n",
              "  "
            ],
            "text/plain": [
              "           Model   Accuracy  Precision-MacroAVG  Precision-WeightedAVG  \\\n",
              "1   ComplementNB  83.846484           67.305035              82.729130   \n",
              "2  MultinomialNB  83.703279           68.211160              85.579353   \n",
              "0     GaussianNB  57.754547           49.829791              75.212289   \n",
              "\n",
              "   Recall-MacroAVG  Recall-WeightedAVG  F1_score-MacroAVG  \\\n",
              "1        60.638036           83.846484          61.279612   \n",
              "2        77.247976           83.703279          71.156935   \n",
              "0        60.661665           57.754547          48.437445   \n",
              "\n",
              "   F1_score-WeightedAVG  Time_taken  \n",
              "1             82.406499    4.514647  \n",
              "2             84.376142    5.329692  \n",
              "0             61.163903    1.377748  "
            ]
          },
          "metadata": {},
          "execution_count": 37
        }
      ],
      "source": [
        "results"
      ]
    },
    {
      "cell_type": "code",
      "execution_count": 39,
      "metadata": {
        "id": "Vj80xhQ8ICSh",
        "colab": {
          "base_uri": "https://localhost:8080/"
        },
        "outputId": "d3b8228e-e8bf-41f6-9ab9-7764af8d7b59"
      },
      "outputs": [
        {
          "output_type": "execute_result",
          "data": {
            "text/plain": [
              "['MultinomialNB.sav']"
            ]
          },
          "metadata": {},
          "execution_count": 39
        }
      ],
      "source": [
        "# saving the models\n",
        "import joblib\n",
        "\n",
        "joblib.dump(models[0][1], 'GaussianNB.sav')\n",
        "joblib.dump(models[1][1], 'ComplementNB.sav')\n",
        "joblib.dump(models[2][1], 'MultinomialNB.sav')"
      ]
    },
    {
      "cell_type": "markdown",
      "metadata": {
        "id": "6iRF9wHh8isg"
      },
      "source": [
        "# Testing on test_data"
      ]
    },
    {
      "cell_type": "code",
      "execution_count": 40,
      "metadata": {
        "id": "dj9_KHpbbkFY"
      },
      "outputs": [],
      "source": [
        "test_data = pd.read_csv('test_in_kag_org.csv')"
      ]
    },
    {
      "cell_type": "code",
      "execution_count": 41,
      "metadata": {
        "colab": {
          "base_uri": "https://localhost:8080/"
        },
        "id": "yj9X0ocpbyXD",
        "outputId": "02967632-a210-4404-e178-7d1600fafcc7"
      },
      "outputs": [
        {
          "output_type": "execute_result",
          "data": {
            "text/plain": [
              "(6501, 4)"
            ]
          },
          "metadata": {},
          "execution_count": 41
        }
      ],
      "source": [
        "test_data.shape"
      ]
    },
    {
      "cell_type": "code",
      "execution_count": 42,
      "metadata": {
        "colab": {
          "base_uri": "https://localhost:8080/"
        },
        "id": "wk8Fmr0lbyXE",
        "outputId": "167db032-6e61-4927-d8c9-0341b4832ddb"
      },
      "outputs": [
        {
          "output_type": "execute_result",
          "data": {
            "text/plain": [
              "title         0\n",
              "text          0\n",
              "title_text    0\n",
              "label         0\n",
              "dtype: int64"
            ]
          },
          "metadata": {},
          "execution_count": 42
        }
      ],
      "source": [
        "test_data.isnull().sum()"
      ]
    },
    {
      "cell_type": "code",
      "execution_count": 43,
      "metadata": {
        "colab": {
          "base_uri": "https://localhost:8080/"
        },
        "id": "ncrp6S9cbyXF",
        "outputId": "67ab908a-88bc-40e7-cb91-4b5218286c9a"
      },
      "outputs": [
        {
          "output_type": "execute_result",
          "data": {
            "text/plain": [
              "15"
            ]
          },
          "metadata": {},
          "execution_count": 43
        }
      ],
      "source": [
        "test_data['label'].nunique()"
      ]
    },
    {
      "cell_type": "code",
      "execution_count": 44,
      "metadata": {
        "id": "Rv1JGvYbbyXH"
      },
      "outputs": [],
      "source": [
        "test_data.drop(columns=['text'], inplace=True)"
      ]
    },
    {
      "cell_type": "markdown",
      "metadata": {
        "id": "MpBjhsx8byXI"
      },
      "source": [
        "# Preparing our data for modeling "
      ]
    },
    {
      "cell_type": "code",
      "source": [
        "# title\n",
        "title_corpus_test = []\n",
        "lm = WordNetLemmatizer()\n",
        "words = stopwords.words('english')\n",
        "\n",
        "for i in range(test_data.shape[0]):\n",
        "    row = re.sub('[^a-zA-Z\\s]', '', test_data.iloc[i, 0]).lower()\n",
        "    row = row.split()  \n",
        "    row = [lm.lemmatize(word) for word in row if word not in words]\n",
        "    row = ' '.join(row)\n",
        "    title_corpus_test.append(row)"
      ],
      "metadata": {
        "id": "OIqFyd4hEihj"
      },
      "execution_count": 45,
      "outputs": []
    },
    {
      "cell_type": "code",
      "execution_count": 46,
      "metadata": {
        "id": "ZwBgz1hjbyXK"
      },
      "outputs": [],
      "source": [
        "# text\n",
        "text_corpus_test = []\n",
        "lm = WordNetLemmatizer()\n",
        "words = stopwords.words('english')\n",
        "\n",
        "for i in range(test_data.shape[0]):\n",
        "    row = re.sub('[^a-zA-Z\\s]', '', test_data.iloc[i, 1]).lower()\n",
        "    row = row.split()  \n",
        "    row = [lm.lemmatize(word) for word in row if word not in words]\n",
        "    row = ' '.join(row)\n",
        "    text_corpus_test.append(row)"
      ]
    },
    {
      "cell_type": "code",
      "execution_count": 47,
      "metadata": {
        "colab": {
          "base_uri": "https://localhost:8080/"
        },
        "id": "KwUAV1BkbyXK",
        "outputId": "5c2d1674-cc68-4d01-ea62-85890a8f0d28"
      },
      "outputs": [
        {
          "output_type": "execute_result",
          "data": {
            "text/plain": [
              "6501"
            ]
          },
          "metadata": {},
          "execution_count": 47
        }
      ],
      "source": [
        "len(text_corpus_test)"
      ]
    },
    {
      "cell_type": "code",
      "execution_count": 48,
      "metadata": {
        "colab": {
          "base_uri": "https://localhost:8080/",
          "height": 35
        },
        "id": "4d2-H7uXbyXK",
        "outputId": "4f83c3bb-af23-45a3-cd5c-845a90fe0c30"
      },
      "outputs": [
        {
          "output_type": "execute_result",
          "data": {
            "application/vnd.google.colaboratory.intrinsic+json": {
              "type": "string"
            },
            "text/plain": [
              "'centralized hub procore offer ability communicate team get full view project one place assign task stay connected google map google doc'"
            ]
          },
          "metadata": {},
          "execution_count": 48
        }
      ],
      "source": [
        "text_corpus_test[0]"
      ]
    },
    {
      "cell_type": "markdown",
      "metadata": {
        "id": "aeW6wftSbyXK"
      },
      "source": [
        "_Our Bag of Words_"
      ]
    },
    {
      "cell_type": "code",
      "source": [
        "X_title_test = title_cv.transform(title_corpus_test).toarray()"
      ],
      "metadata": {
        "id": "uaLTksaxEmxT"
      },
      "execution_count": 49,
      "outputs": []
    },
    {
      "cell_type": "code",
      "source": [
        "X_title_test.shape"
      ],
      "metadata": {
        "colab": {
          "base_uri": "https://localhost:8080/"
        },
        "id": "QHZ2KsZ1EowV",
        "outputId": "ac1d2daa-f6e2-4cda-8d90-5a9998b81d11"
      },
      "execution_count": 50,
      "outputs": [
        {
          "output_type": "execute_result",
          "data": {
            "text/plain": [
              "(6501, 300)"
            ]
          },
          "metadata": {},
          "execution_count": 50
        }
      ]
    },
    {
      "cell_type": "code",
      "execution_count": 51,
      "metadata": {
        "id": "11nCp5SmbyXL"
      },
      "outputs": [],
      "source": [
        "X_text_test = text_cv.transform(text_corpus_test).toarray()"
      ]
    },
    {
      "cell_type": "code",
      "execution_count": 52,
      "metadata": {
        "colab": {
          "base_uri": "https://localhost:8080/"
        },
        "id": "WFklhTUzbyXM",
        "outputId": "4f2aabe3-17c2-467b-fcd1-d0f8c3284d0d"
      },
      "outputs": [
        {
          "output_type": "execute_result",
          "data": {
            "text/plain": [
              "(6501, 1200)"
            ]
          },
          "metadata": {},
          "execution_count": 52
        }
      ],
      "source": [
        "X_text_test.shape"
      ]
    },
    {
      "cell_type": "code",
      "execution_count": 53,
      "metadata": {
        "id": "VbmRqR09byXM"
      },
      "outputs": [],
      "source": [
        "X_test = np.concatenate((X_title_test, X_text_test), axis=1)\n",
        "y_test = test_data.iloc[:, 2].values"
      ]
    },
    {
      "cell_type": "code",
      "execution_count": 54,
      "metadata": {
        "colab": {
          "base_uri": "https://localhost:8080/"
        },
        "id": "VG0yGQSbbyXM",
        "outputId": "2919602b-799c-4ef9-f2aa-5ad0c27a310d"
      },
      "outputs": [
        {
          "output_type": "execute_result",
          "data": {
            "text/plain": [
              "((6501, 1500), (6501,))"
            ]
          },
          "metadata": {},
          "execution_count": 54
        }
      ],
      "source": [
        "X_test.shape, y_test.shape"
      ]
    },
    {
      "cell_type": "code",
      "execution_count": 55,
      "metadata": {
        "id": "xpeUXOpmbyXM"
      },
      "outputs": [],
      "source": [
        "y_test = le.transform(y_test)"
      ]
    },
    {
      "cell_type": "code",
      "execution_count": 56,
      "metadata": {
        "colab": {
          "base_uri": "https://localhost:8080/"
        },
        "id": "lmCHJOIgbyXM",
        "outputId": "5df60ae7-6144-4e25-f34a-b38e3b06a16b"
      },
      "outputs": [
        {
          "output_type": "execute_result",
          "data": {
            "text/plain": [
              "array([ 0,  1,  2,  3,  4,  5,  6,  7,  8,  9, 10, 11, 12, 13, 14])"
            ]
          },
          "metadata": {},
          "execution_count": 56
        }
      ],
      "source": [
        "np.unique(y_test)"
      ]
    },
    {
      "cell_type": "code",
      "execution_count": 58,
      "metadata": {
        "id": "Ld8slHDRc7XJ"
      },
      "outputs": [],
      "source": [
        "GaussianNB_model    = joblib.load('GaussianNB.sav')\n",
        "ComplementNB_model  = joblib.load('ComplementNB.sav')\n",
        "MultinomialNB_model  = joblib.load('MultinomialNB.sav')"
      ]
    },
    {
      "cell_type": "code",
      "execution_count": 60,
      "metadata": {
        "colab": {
          "base_uri": "https://localhost:8080/",
          "height": 205
        },
        "id": "kJ7917FybyXO",
        "outputId": "dc74ff64-6d51-4c5e-8af8-0ded36a97248"
      },
      "outputs": [
        {
          "output_type": "execute_result",
          "data": {
            "text/html": [
              "\n",
              "  <div id=\"df-399cd88d-f599-43cd-8f90-28929b7c3d8f\">\n",
              "    <div class=\"colab-df-container\">\n",
              "      <div>\n",
              "<style scoped>\n",
              "    .dataframe tbody tr th:only-of-type {\n",
              "        vertical-align: middle;\n",
              "    }\n",
              "\n",
              "    .dataframe tbody tr th {\n",
              "        vertical-align: top;\n",
              "    }\n",
              "\n",
              "    .dataframe thead th {\n",
              "        text-align: right;\n",
              "    }\n",
              "</style>\n",
              "<table border=\"1\" class=\"dataframe\">\n",
              "  <thead>\n",
              "    <tr style=\"text-align: right;\">\n",
              "      <th></th>\n",
              "      <th>Model</th>\n",
              "      <th>Accuracy</th>\n",
              "      <th>Precision-MacroAVG</th>\n",
              "      <th>Precision-WeightedAVG</th>\n",
              "      <th>Recall-MacroAVG</th>\n",
              "      <th>Recall-WeightedAVG</th>\n",
              "      <th>F1_score-MacroAVG</th>\n",
              "      <th>F1_score-WeightedAVG</th>\n",
              "    </tr>\n",
              "  </thead>\n",
              "  <tbody>\n",
              "    <tr>\n",
              "      <th>1</th>\n",
              "      <td>ComplementNB</td>\n",
              "      <td>89.478542</td>\n",
              "      <td>63.610026</td>\n",
              "      <td>89.112706</td>\n",
              "      <td>62.686290</td>\n",
              "      <td>89.478542</td>\n",
              "      <td>60.855531</td>\n",
              "      <td>88.919215</td>\n",
              "    </tr>\n",
              "    <tr>\n",
              "      <th>2</th>\n",
              "      <td>MultinomialNB</td>\n",
              "      <td>86.279034</td>\n",
              "      <td>57.170145</td>\n",
              "      <td>89.853797</td>\n",
              "      <td>73.910764</td>\n",
              "      <td>86.279034</td>\n",
              "      <td>62.595837</td>\n",
              "      <td>87.638338</td>\n",
              "    </tr>\n",
              "    <tr>\n",
              "      <th>0</th>\n",
              "      <td>GaussianNB</td>\n",
              "      <td>54.637748</td>\n",
              "      <td>34.676613</td>\n",
              "      <td>83.907349</td>\n",
              "      <td>46.489703</td>\n",
              "      <td>54.637748</td>\n",
              "      <td>32.164753</td>\n",
              "      <td>62.549027</td>\n",
              "    </tr>\n",
              "  </tbody>\n",
              "</table>\n",
              "</div>\n",
              "      <button class=\"colab-df-convert\" onclick=\"convertToInteractive('df-399cd88d-f599-43cd-8f90-28929b7c3d8f')\"\n",
              "              title=\"Convert this dataframe to an interactive table.\"\n",
              "              style=\"display:none;\">\n",
              "        \n",
              "  <svg xmlns=\"http://www.w3.org/2000/svg\" height=\"24px\"viewBox=\"0 0 24 24\"\n",
              "       width=\"24px\">\n",
              "    <path d=\"M0 0h24v24H0V0z\" fill=\"none\"/>\n",
              "    <path d=\"M18.56 5.44l.94 2.06.94-2.06 2.06-.94-2.06-.94-.94-2.06-.94 2.06-2.06.94zm-11 1L8.5 8.5l.94-2.06 2.06-.94-2.06-.94L8.5 2.5l-.94 2.06-2.06.94zm10 10l.94 2.06.94-2.06 2.06-.94-2.06-.94-.94-2.06-.94 2.06-2.06.94z\"/><path d=\"M17.41 7.96l-1.37-1.37c-.4-.4-.92-.59-1.43-.59-.52 0-1.04.2-1.43.59L10.3 9.45l-7.72 7.72c-.78.78-.78 2.05 0 2.83L4 21.41c.39.39.9.59 1.41.59.51 0 1.02-.2 1.41-.59l7.78-7.78 2.81-2.81c.8-.78.8-2.07 0-2.86zM5.41 20L4 18.59l7.72-7.72 1.47 1.35L5.41 20z\"/>\n",
              "  </svg>\n",
              "      </button>\n",
              "      \n",
              "  <style>\n",
              "    .colab-df-container {\n",
              "      display:flex;\n",
              "      flex-wrap:wrap;\n",
              "      gap: 12px;\n",
              "    }\n",
              "\n",
              "    .colab-df-convert {\n",
              "      background-color: #E8F0FE;\n",
              "      border: none;\n",
              "      border-radius: 50%;\n",
              "      cursor: pointer;\n",
              "      display: none;\n",
              "      fill: #1967D2;\n",
              "      height: 32px;\n",
              "      padding: 0 0 0 0;\n",
              "      width: 32px;\n",
              "    }\n",
              "\n",
              "    .colab-df-convert:hover {\n",
              "      background-color: #E2EBFA;\n",
              "      box-shadow: 0px 1px 2px rgba(60, 64, 67, 0.3), 0px 1px 3px 1px rgba(60, 64, 67, 0.15);\n",
              "      fill: #174EA6;\n",
              "    }\n",
              "\n",
              "    [theme=dark] .colab-df-convert {\n",
              "      background-color: #3B4455;\n",
              "      fill: #D2E3FC;\n",
              "    }\n",
              "\n",
              "    [theme=dark] .colab-df-convert:hover {\n",
              "      background-color: #434B5C;\n",
              "      box-shadow: 0px 1px 3px 1px rgba(0, 0, 0, 0.15);\n",
              "      filter: drop-shadow(0px 1px 2px rgba(0, 0, 0, 0.3));\n",
              "      fill: #FFFFFF;\n",
              "    }\n",
              "  </style>\n",
              "\n",
              "      <script>\n",
              "        const buttonEl =\n",
              "          document.querySelector('#df-399cd88d-f599-43cd-8f90-28929b7c3d8f button.colab-df-convert');\n",
              "        buttonEl.style.display =\n",
              "          google.colab.kernel.accessAllowed ? 'block' : 'none';\n",
              "\n",
              "        async function convertToInteractive(key) {\n",
              "          const element = document.querySelector('#df-399cd88d-f599-43cd-8f90-28929b7c3d8f');\n",
              "          const dataTable =\n",
              "            await google.colab.kernel.invokeFunction('convertToInteractive',\n",
              "                                                     [key], {});\n",
              "          if (!dataTable) return;\n",
              "\n",
              "          const docLinkHtml = 'Like what you see? Visit the ' +\n",
              "            '<a target=\"_blank\" href=https://colab.research.google.com/notebooks/data_table.ipynb>data table notebook</a>'\n",
              "            + ' to learn more about interactive tables.';\n",
              "          element.innerHTML = '';\n",
              "          dataTable['output_type'] = 'display_data';\n",
              "          await google.colab.output.renderOutput(dataTable, element);\n",
              "          const docLink = document.createElement('div');\n",
              "          docLink.innerHTML = docLinkHtml;\n",
              "          element.appendChild(docLink);\n",
              "        }\n",
              "      </script>\n",
              "    </div>\n",
              "  </div>\n",
              "  "
            ],
            "text/plain": [
              "           Model   Accuracy  Precision-MacroAVG  Precision-WeightedAVG  \\\n",
              "1   ComplementNB  89.478542           63.610026              89.112706   \n",
              "2  MultinomialNB  86.279034           57.170145              89.853797   \n",
              "0     GaussianNB  54.637748           34.676613              83.907349   \n",
              "\n",
              "   Recall-MacroAVG  Recall-WeightedAVG  F1_score-MacroAVG  \\\n",
              "1        62.686290           89.478542          60.855531   \n",
              "2        73.910764           86.279034          62.595837   \n",
              "0        46.489703           54.637748          32.164753   \n",
              "\n",
              "   F1_score-WeightedAVG  \n",
              "1             88.919215  \n",
              "2             87.638338  \n",
              "0             62.549027  "
            ]
          },
          "metadata": {},
          "execution_count": 60
        }
      ],
      "source": [
        "models = [\n",
        "    ('GaussianNB', GaussianNB_model),\n",
        "    ('ComplementNB', ComplementNB_model), \n",
        "    ('MultinomialNB', MultinomialNB_model)\n",
        "]\n",
        "\n",
        "results = pd.DataFrame(columns = ['Model', 'Accuracy', 'Precision-MacroAVG', 'Precision-WeightedAVG', \n",
        "                                  'Recall-MacroAVG', 'Recall-WeightedAVG', 'F1_score-MacroAVG','F1_score-WeightedAVG'])\n",
        "for model_name, model in models:\n",
        "    y_pred = model.predict(X_test)\n",
        "    \n",
        "    record = {}\n",
        "    record['Model'] = model_name\n",
        "    record['Accuracy'] = accuracy_score(y_test, y_pred)*100\n",
        "    record['Precision-MacroAVG'] = precision_score(y_test, y_pred, average='macro')*100\n",
        "    record['Precision-WeightedAVG'] = precision_score(y_test, y_pred, average='weighted')*100\n",
        "    record['Recall-MacroAVG'] = recall_score(y_test, y_pred, average='macro')*100\n",
        "    record['Recall-WeightedAVG'] = recall_score(y_test, y_pred, average='weighted')*100\n",
        "    record['F1_score-MacroAVG'] = f1_score(y_test, y_pred, average='macro')*100\n",
        "    record['F1_score-WeightedAVG'] = f1_score(y_test, y_pred, average='weighted')*100\n",
        "    \n",
        "    results = results.append(record, ignore_index=True)\n",
        "    \n",
        "results = results.sort_values(by='Accuracy', ascending=False)\n",
        "results"
      ]
    },
    {
      "cell_type": "code",
      "execution_count": null,
      "metadata": {
        "id": "h0uQ6s6veje1"
      },
      "outputs": [],
      "source": [
        ""
      ]
    }
  ],
  "metadata": {
    "colab": {
      "name": "Code_v7.ipynb",
      "provenance": [],
      "collapsed_sections": []
    },
    "kernelspec": {
      "display_name": "Python 3",
      "language": "python",
      "name": "python3"
    },
    "language_info": {
      "codemirror_mode": {
        "name": "ipython",
        "version": 3
      },
      "file_extension": ".py",
      "mimetype": "text/x-python",
      "name": "python",
      "nbconvert_exporter": "python",
      "pygments_lexer": "ipython3",
      "version": "3.8.8"
    }
  },
  "nbformat": 4,
  "nbformat_minor": 0
}