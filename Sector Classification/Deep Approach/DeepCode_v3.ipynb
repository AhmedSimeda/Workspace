{
  "cells": [
    {
      "cell_type": "code",
      "source": [
        "!pip install kaggle\n",
        "!mkdir ~/.kaggle\n",
        "!cp kaggle.json ~/.kaggle/\n",
        "!chmod 600 ~/.kaggle/kaggle.json"
      ],
      "metadata": {
        "colab": {
          "base_uri": "https://localhost:8080/"
        },
        "id": "a1HhHMCWTWff",
        "outputId": "34b32594-8d6f-4b58-bbcc-9399faf60d1e"
      },
      "execution_count": 1,
      "outputs": [
        {
          "output_type": "stream",
          "name": "stdout",
          "text": [
            "Requirement already satisfied: kaggle in /usr/local/lib/python3.7/dist-packages (1.5.12)\n",
            "Requirement already satisfied: tqdm in /usr/local/lib/python3.7/dist-packages (from kaggle) (4.62.3)\n",
            "Requirement already satisfied: urllib3 in /usr/local/lib/python3.7/dist-packages (from kaggle) (1.24.3)\n",
            "Requirement already satisfied: six>=1.10 in /usr/local/lib/python3.7/dist-packages (from kaggle) (1.15.0)\n",
            "Requirement already satisfied: python-slugify in /usr/local/lib/python3.7/dist-packages (from kaggle) (6.1.0)\n",
            "Requirement already satisfied: python-dateutil in /usr/local/lib/python3.7/dist-packages (from kaggle) (2.8.2)\n",
            "Requirement already satisfied: requests in /usr/local/lib/python3.7/dist-packages (from kaggle) (2.23.0)\n",
            "Requirement already satisfied: certifi in /usr/local/lib/python3.7/dist-packages (from kaggle) (2021.10.8)\n",
            "Requirement already satisfied: text-unidecode>=1.3 in /usr/local/lib/python3.7/dist-packages (from python-slugify->kaggle) (1.3)\n",
            "Requirement already satisfied: idna<3,>=2.5 in /usr/local/lib/python3.7/dist-packages (from requests->kaggle) (2.10)\n",
            "Requirement already satisfied: chardet<4,>=3.0.2 in /usr/local/lib/python3.7/dist-packages (from requests->kaggle) (3.0.4)\n"
          ]
        }
      ]
    },
    {
      "cell_type": "code",
      "source": [
        "# glove embedding\n",
        "!kaggle competitions download -c quora-insincere-questions-classification"
      ],
      "metadata": {
        "colab": {
          "base_uri": "https://localhost:8080/"
        },
        "id": "BYQ5GKUtTY8t",
        "outputId": "67fc691f-85e4-40da-bca2-eafbe55f556f"
      },
      "execution_count": 2,
      "outputs": [
        {
          "output_type": "stream",
          "name": "stdout",
          "text": [
            "Warning: Looks like you're using an outdated API Version, please consider updating (server 1.5.12 / client 1.5.4)\n",
            "Downloading train.csv.zip to /content\n",
            " 89% 49.0M/54.9M [00:01<00:00, 41.6MB/s]\n",
            "100% 54.9M/54.9M [00:01<00:00, 47.4MB/s]\n",
            "Downloading sample_submission.csv.zip to /content\n",
            "  0% 0.00/4.09M [00:00<?, ?B/s]\n",
            "100% 4.09M/4.09M [00:00<00:00, 66.7MB/s]\n",
            "Downloading embeddings.zip to /content\n",
            "100% 5.95G/5.96G [00:48<00:00, 157MB/s]\n",
            "100% 5.96G/5.96G [00:48<00:00, 132MB/s]\n",
            "Downloading test.csv.zip to /content\n",
            " 57% 9.00M/15.8M [00:00<00:00, 31.8MB/s]\n",
            "100% 15.8M/15.8M [00:00<00:00, 33.9MB/s]\n"
          ]
        }
      ]
    },
    {
      "cell_type": "code",
      "source": [
        "!unzip /content/embeddings.zip > /dev/null"
      ],
      "metadata": {
        "id": "nXFW-8z4UFro"
      },
      "execution_count": 3,
      "outputs": []
    },
    {
      "cell_type": "markdown",
      "metadata": {
        "id": "uT7OEo0sZbwm"
      },
      "source": [
        "# Exploring and Cleaning the data"
      ]
    },
    {
      "cell_type": "code",
      "execution_count": 4,
      "metadata": {
        "id": "t8-UEaOYSQ0p"
      },
      "outputs": [],
      "source": [
        "import pandas as pd\n",
        "import numpy as np\n",
        "\n",
        "import matplotlib.pyplot as plt\n",
        "import seaborn as sns\n",
        "\n",
        "pd.set_option('display.max_colwidth', None)\n",
        "\n",
        "import warnings\n",
        "warnings.filterwarnings(\"ignore\")"
      ]
    },
    {
      "cell_type": "code",
      "execution_count": 5,
      "metadata": {
        "id": "tUALIVo2ZfYR"
      },
      "outputs": [],
      "source": [
        "data = pd.read_csv('train_aug_in_kag_org.csv')"
      ]
    },
    {
      "cell_type": "code",
      "execution_count": 6,
      "metadata": {
        "colab": {
          "base_uri": "https://localhost:8080/",
          "height": 1000
        },
        "id": "UTp9GwGaaCDg",
        "outputId": "cdd9a313-27ae-4893-a608-994c560dd08e"
      },
      "outputs": [
        {
          "output_type": "execute_result",
          "data": {
            "text/html": [
              "\n",
              "  <div id=\"df-24e6c6d0-c9c6-4286-836b-2fac2ff922c6\">\n",
              "    <div class=\"colab-df-container\">\n",
              "      <div>\n",
              "<style scoped>\n",
              "    .dataframe tbody tr th:only-of-type {\n",
              "        vertical-align: middle;\n",
              "    }\n",
              "\n",
              "    .dataframe tbody tr th {\n",
              "        vertical-align: top;\n",
              "    }\n",
              "\n",
              "    .dataframe thead th {\n",
              "        text-align: right;\n",
              "    }\n",
              "</style>\n",
              "<table border=\"1\" class=\"dataframe\">\n",
              "  <thead>\n",
              "    <tr style=\"text-align: right;\">\n",
              "      <th></th>\n",
              "      <th>title</th>\n",
              "      <th>text</th>\n",
              "      <th>title_text</th>\n",
              "      <th>label</th>\n",
              "    </tr>\n",
              "  </thead>\n",
              "  <tbody>\n",
              "    <tr>\n",
              "      <th>0</th>\n",
              "      <td>squirrel financial wellbeing</td>\n",
              "      <td>A Squirrel account makes it easy to stick to your budget and save. Start for free today!</td>\n",
              "      <td>squirrel financial wellbeing. A Squirrel account makes it easy to stick to your budget and save. Start for free today!</td>\n",
              "      <td>payment-credit-card-balance-euro-dollars-credit-debit-receipt-billing</td>\n",
              "    </tr>\n",
              "    <tr>\n",
              "      <th>1</th>\n",
              "      <td>senior insurance marketing</td>\n",
              "      <td>Welcome to the home page of Senior Insurance Marketing, a full service brokerage specializing in Medicare and senior insurance products.  Located in Lincoln, NE.</td>\n",
              "      <td>senior insurance marketing. Welcome to the home page of Senior Insurance Marketing, a full service brokerage specializing in Medicare and senior insurance products.  Located in Lincoln, NE.</td>\n",
              "      <td>payment-credit-card-balance-euro-dollars-credit-debit-receipt-billing</td>\n",
              "    </tr>\n",
              "    <tr>\n",
              "      <th>2</th>\n",
              "      <td>3i financial group inc.</td>\n",
              "      <td>A Small Boutique Firm Dedicated to Achieving Our Clients Goals.#sep#inform.invest.insure Get a Free, No Obligation Quote forAllYour Insurance Needs. 3i Financial offers a wide variety of insurance products to help suit your needs. Choose from individual, family, and group. GET A QUOTE TODAY Travel Insurance Get peace of mind with comprehensive travel insurance. Get a free quote today! Health &amp; Dental Get affordable health  Read more</td>\n",
              "      <td>3i financial group inc.. A Small Boutique Firm Dedicated to Achieving Our Clients Goals.#sep#inform.invest.insure Get a Free, No Obligation Quote forAllYour Insurance Needs. 3i Financial offers a wide variety of insurance products to help suit your needs. Choose from individual, family, and group. GET A QUOTE TODAY Travel Insurance Get peace of mind with comprehensive travel insurance. Get a free quote today! Health &amp; Dental Get affordable health  Read more</td>\n",
              "      <td>payment-credit-card-balance-euro-dollars-credit-debit-receipt-billing</td>\n",
              "    </tr>\n",
              "    <tr>\n",
              "      <th>3</th>\n",
              "      <td>brownstone insurance</td>\n",
              "      <td>Brownstone Insurance provides master insurance policies for multi-unit buildings throughout Massachusetts, as well as personal insurance products such as renter's insurance and homeowner's insurance.#sep#Brownstone Insurance provides master insurance policies for multi-unit \\nbuildings throughout Massachusetts, as well as personal insurance products \\nsuch as renter's insurance and homeowner's insurance.</td>\n",
              "      <td>brownstone insurance. Brownstone Insurance provides master insurance policies for multi-unit buildings throughout Massachusetts, as well as personal insurance products such as renter's insurance and homeowner's insurance.#sep#Brownstone Insurance provides master insurance policies for multi-unit \\nbuildings throughout Massachusetts, as well as personal insurance products \\nsuch as renter's insurance and homeowner's insurance.</td>\n",
              "      <td>payment-credit-card-balance-euro-dollars-credit-debit-receipt-billing</td>\n",
              "    </tr>\n",
              "    <tr>\n",
              "      <th>4</th>\n",
              "      <td>pacificwide lending</td>\n",
              "      <td>Learn more about Pacificwide Lending and our commercial &amp; residential loan services in California.</td>\n",
              "      <td>pacificwide lending. Learn more about Pacificwide Lending and our commercial &amp; residential loan services in California.</td>\n",
              "      <td>payment-credit-card-balance-euro-dollars-credit-debit-receipt-billing</td>\n",
              "    </tr>\n",
              "    <tr>\n",
              "      <th>5</th>\n",
              "      <td>city auto finance</td>\n",
              "      <td>City Auto Finance is the Southeast's most trusted used-car floor plan financing company with locations in Memphis, TN; Mobile, AL; Huntsville, AL and Murfreesboro, TN. We provide you with competitive rates and the capability to make payments online.</td>\n",
              "      <td>city auto finance. City Auto Finance is the Southeast's most trusted used-car floor plan financing company with locations in Memphis, TN; Mobile, AL; Huntsville, AL and Murfreesboro, TN. We provide you with competitive rates and the capability to make payments online.</td>\n",
              "      <td>payment-credit-card-balance-euro-dollars-credit-debit-receipt-billing</td>\n",
              "    </tr>\n",
              "    <tr>\n",
              "      <th>6</th>\n",
              "      <td>veterans financial, inc.</td>\n",
              "      <td>VA Aid and Attendance benefit can help pay for assisted living, home care or nursing home. Veterans Financial Inc can advise you at no cost about benefits</td>\n",
              "      <td>veterans financial, inc.. VA Aid and Attendance benefit can help pay for assisted living, home care or nursing home. Veterans Financial Inc can advise you at no cost about benefits</td>\n",
              "      <td>payment-credit-card-balance-euro-dollars-credit-debit-receipt-billing</td>\n",
              "    </tr>\n",
              "    <tr>\n",
              "      <th>7</th>\n",
              "      <td>keystart country home loans</td>\n",
              "      <td>Make your home ownership dream a reality. Keystart's low-deposit, no LMI home loans lower the entry barriers so you can get into a home of your own sooner.</td>\n",
              "      <td>keystart country home loans. Make your home ownership dream a reality. Keystart's low-deposit, no LMI home loans lower the entry barriers so you can get into a home of your own sooner.</td>\n",
              "      <td>payment-credit-card-balance-euro-dollars-credit-debit-receipt-billing</td>\n",
              "    </tr>\n",
              "    <tr>\n",
              "      <th>8</th>\n",
              "      <td>united insurance</td>\n",
              "      <td>United Insurance provides personal insurance, commercial insurance, and group benefits with 16 location in Maine and New Hampshire since 1976.</td>\n",
              "      <td>united insurance. United Insurance provides personal insurance, commercial insurance, and group benefits with 16 location in Maine and New Hampshire since 1976.</td>\n",
              "      <td>payment-credit-card-balance-euro-dollars-credit-debit-receipt-billing</td>\n",
              "    </tr>\n",
              "    <tr>\n",
              "      <th>9</th>\n",
              "      <td>insurance brokers co., inc.</td>\n",
              "      <td>Auto Insurance, Home Insurance, Business Insurance, Life &amp; Health Insurance in Rockville, Gaithersburg, Potomac, Bethesda, Germantown and Silver Spring.</td>\n",
              "      <td>insurance brokers co., inc.. Auto Insurance, Home Insurance, Business Insurance, Life &amp; Health Insurance in Rockville, Gaithersburg, Potomac, Bethesda, Germantown and Silver Spring.</td>\n",
              "      <td>payment-credit-card-balance-euro-dollars-credit-debit-receipt-billing</td>\n",
              "    </tr>\n",
              "  </tbody>\n",
              "</table>\n",
              "</div>\n",
              "      <button class=\"colab-df-convert\" onclick=\"convertToInteractive('df-24e6c6d0-c9c6-4286-836b-2fac2ff922c6')\"\n",
              "              title=\"Convert this dataframe to an interactive table.\"\n",
              "              style=\"display:none;\">\n",
              "        \n",
              "  <svg xmlns=\"http://www.w3.org/2000/svg\" height=\"24px\"viewBox=\"0 0 24 24\"\n",
              "       width=\"24px\">\n",
              "    <path d=\"M0 0h24v24H0V0z\" fill=\"none\"/>\n",
              "    <path d=\"M18.56 5.44l.94 2.06.94-2.06 2.06-.94-2.06-.94-.94-2.06-.94 2.06-2.06.94zm-11 1L8.5 8.5l.94-2.06 2.06-.94-2.06-.94L8.5 2.5l-.94 2.06-2.06.94zm10 10l.94 2.06.94-2.06 2.06-.94-2.06-.94-.94-2.06-.94 2.06-2.06.94z\"/><path d=\"M17.41 7.96l-1.37-1.37c-.4-.4-.92-.59-1.43-.59-.52 0-1.04.2-1.43.59L10.3 9.45l-7.72 7.72c-.78.78-.78 2.05 0 2.83L4 21.41c.39.39.9.59 1.41.59.51 0 1.02-.2 1.41-.59l7.78-7.78 2.81-2.81c.8-.78.8-2.07 0-2.86zM5.41 20L4 18.59l7.72-7.72 1.47 1.35L5.41 20z\"/>\n",
              "  </svg>\n",
              "      </button>\n",
              "      \n",
              "  <style>\n",
              "    .colab-df-container {\n",
              "      display:flex;\n",
              "      flex-wrap:wrap;\n",
              "      gap: 12px;\n",
              "    }\n",
              "\n",
              "    .colab-df-convert {\n",
              "      background-color: #E8F0FE;\n",
              "      border: none;\n",
              "      border-radius: 50%;\n",
              "      cursor: pointer;\n",
              "      display: none;\n",
              "      fill: #1967D2;\n",
              "      height: 32px;\n",
              "      padding: 0 0 0 0;\n",
              "      width: 32px;\n",
              "    }\n",
              "\n",
              "    .colab-df-convert:hover {\n",
              "      background-color: #E2EBFA;\n",
              "      box-shadow: 0px 1px 2px rgba(60, 64, 67, 0.3), 0px 1px 3px 1px rgba(60, 64, 67, 0.15);\n",
              "      fill: #174EA6;\n",
              "    }\n",
              "\n",
              "    [theme=dark] .colab-df-convert {\n",
              "      background-color: #3B4455;\n",
              "      fill: #D2E3FC;\n",
              "    }\n",
              "\n",
              "    [theme=dark] .colab-df-convert:hover {\n",
              "      background-color: #434B5C;\n",
              "      box-shadow: 0px 1px 3px 1px rgba(0, 0, 0, 0.15);\n",
              "      filter: drop-shadow(0px 1px 2px rgba(0, 0, 0, 0.3));\n",
              "      fill: #FFFFFF;\n",
              "    }\n",
              "  </style>\n",
              "\n",
              "      <script>\n",
              "        const buttonEl =\n",
              "          document.querySelector('#df-24e6c6d0-c9c6-4286-836b-2fac2ff922c6 button.colab-df-convert');\n",
              "        buttonEl.style.display =\n",
              "          google.colab.kernel.accessAllowed ? 'block' : 'none';\n",
              "\n",
              "        async function convertToInteractive(key) {\n",
              "          const element = document.querySelector('#df-24e6c6d0-c9c6-4286-836b-2fac2ff922c6');\n",
              "          const dataTable =\n",
              "            await google.colab.kernel.invokeFunction('convertToInteractive',\n",
              "                                                     [key], {});\n",
              "          if (!dataTable) return;\n",
              "\n",
              "          const docLinkHtml = 'Like what you see? Visit the ' +\n",
              "            '<a target=\"_blank\" href=https://colab.research.google.com/notebooks/data_table.ipynb>data table notebook</a>'\n",
              "            + ' to learn more about interactive tables.';\n",
              "          element.innerHTML = '';\n",
              "          dataTable['output_type'] = 'display_data';\n",
              "          await google.colab.output.renderOutput(dataTable, element);\n",
              "          const docLink = document.createElement('div');\n",
              "          docLink.innerHTML = docLinkHtml;\n",
              "          element.appendChild(docLink);\n",
              "        }\n",
              "      </script>\n",
              "    </div>\n",
              "  </div>\n",
              "  "
            ],
            "text/plain": [
              "                          title  ...                                                                  label\n",
              "0  squirrel financial wellbeing  ...  payment-credit-card-balance-euro-dollars-credit-debit-receipt-billing\n",
              "1    senior insurance marketing  ...  payment-credit-card-balance-euro-dollars-credit-debit-receipt-billing\n",
              "2       3i financial group inc.  ...  payment-credit-card-balance-euro-dollars-credit-debit-receipt-billing\n",
              "3          brownstone insurance  ...  payment-credit-card-balance-euro-dollars-credit-debit-receipt-billing\n",
              "4           pacificwide lending  ...  payment-credit-card-balance-euro-dollars-credit-debit-receipt-billing\n",
              "5             city auto finance  ...  payment-credit-card-balance-euro-dollars-credit-debit-receipt-billing\n",
              "6      veterans financial, inc.  ...  payment-credit-card-balance-euro-dollars-credit-debit-receipt-billing\n",
              "7   keystart country home loans  ...  payment-credit-card-balance-euro-dollars-credit-debit-receipt-billing\n",
              "8              united insurance  ...  payment-credit-card-balance-euro-dollars-credit-debit-receipt-billing\n",
              "9   insurance brokers co., inc.  ...  payment-credit-card-balance-euro-dollars-credit-debit-receipt-billing\n",
              "\n",
              "[10 rows x 4 columns]"
            ]
          },
          "metadata": {},
          "execution_count": 6
        }
      ],
      "source": [
        "data.head(10)"
      ]
    },
    {
      "cell_type": "code",
      "execution_count": 7,
      "metadata": {
        "colab": {
          "base_uri": "https://localhost:8080/"
        },
        "id": "9O8GdDjMaDYC",
        "outputId": "f9b06d61-0c8b-49c6-de9a-4204ac5d2d61"
      },
      "outputs": [
        {
          "output_type": "execute_result",
          "data": {
            "text/plain": [
              "(34953, 4)"
            ]
          },
          "metadata": {},
          "execution_count": 7
        }
      ],
      "source": [
        "data.shape"
      ]
    },
    {
      "cell_type": "code",
      "execution_count": 8,
      "metadata": {
        "colab": {
          "base_uri": "https://localhost:8080/"
        },
        "id": "pSjePuz1aEuc",
        "outputId": "9d01cda7-8775-4305-8ca4-08038068612e"
      },
      "outputs": [
        {
          "output_type": "execute_result",
          "data": {
            "text/plain": [
              "title         42\n",
              "text           0\n",
              "title_text     0\n",
              "label          0\n",
              "dtype: int64"
            ]
          },
          "metadata": {},
          "execution_count": 8
        }
      ],
      "source": [
        "data.isnull().sum()"
      ]
    },
    {
      "cell_type": "code",
      "execution_count": 9,
      "metadata": {
        "id": "WEVoPlBSaFzQ"
      },
      "outputs": [],
      "source": [
        "data.dropna(inplace=True)"
      ]
    },
    {
      "cell_type": "code",
      "execution_count": 10,
      "metadata": {
        "id": "qYM2MS4kaSx1"
      },
      "outputs": [],
      "source": [
        "data.drop(columns=['title', 'text'], inplace=True)"
      ]
    },
    {
      "cell_type": "code",
      "execution_count": 11,
      "metadata": {
        "colab": {
          "base_uri": "https://localhost:8080/",
          "height": 510
        },
        "id": "Vit6MnU0aUC2",
        "outputId": "44a35933-fe6b-4896-eb5a-400efb23e5b0"
      },
      "outputs": [
        {
          "output_type": "execute_result",
          "data": {
            "text/html": [
              "\n",
              "  <div id=\"df-a680af0d-c874-4fd0-bcba-4dc48c6f905e\">\n",
              "    <div class=\"colab-df-container\">\n",
              "      <div>\n",
              "<style scoped>\n",
              "    .dataframe tbody tr th:only-of-type {\n",
              "        vertical-align: middle;\n",
              "    }\n",
              "\n",
              "    .dataframe tbody tr th {\n",
              "        vertical-align: top;\n",
              "    }\n",
              "\n",
              "    .dataframe thead th {\n",
              "        text-align: right;\n",
              "    }\n",
              "</style>\n",
              "<table border=\"1\" class=\"dataframe\">\n",
              "  <thead>\n",
              "    <tr style=\"text-align: right;\">\n",
              "      <th></th>\n",
              "      <th>title_text</th>\n",
              "      <th>label</th>\n",
              "    </tr>\n",
              "  </thead>\n",
              "  <tbody>\n",
              "    <tr>\n",
              "      <th>0</th>\n",
              "      <td>squirrel financial wellbeing. A Squirrel account makes it easy to stick to your budget and save. Start for free today!</td>\n",
              "      <td>payment-credit-card-balance-euro-dollars-credit-debit-receipt-billing</td>\n",
              "    </tr>\n",
              "    <tr>\n",
              "      <th>1</th>\n",
              "      <td>senior insurance marketing. Welcome to the home page of Senior Insurance Marketing, a full service brokerage specializing in Medicare and senior insurance products.  Located in Lincoln, NE.</td>\n",
              "      <td>payment-credit-card-balance-euro-dollars-credit-debit-receipt-billing</td>\n",
              "    </tr>\n",
              "    <tr>\n",
              "      <th>2</th>\n",
              "      <td>3i financial group inc.. A Small Boutique Firm Dedicated to Achieving Our Clients Goals.#sep#inform.invest.insure Get a Free, No Obligation Quote forAllYour Insurance Needs. 3i Financial offers a wide variety of insurance products to help suit your needs. Choose from individual, family, and group. GET A QUOTE TODAY Travel Insurance Get peace of mind with comprehensive travel insurance. Get a free quote today! Health &amp; Dental Get affordable health  Read more</td>\n",
              "      <td>payment-credit-card-balance-euro-dollars-credit-debit-receipt-billing</td>\n",
              "    </tr>\n",
              "    <tr>\n",
              "      <th>3</th>\n",
              "      <td>brownstone insurance. Brownstone Insurance provides master insurance policies for multi-unit buildings throughout Massachusetts, as well as personal insurance products such as renter's insurance and homeowner's insurance.#sep#Brownstone Insurance provides master insurance policies for multi-unit \\nbuildings throughout Massachusetts, as well as personal insurance products \\nsuch as renter's insurance and homeowner's insurance.</td>\n",
              "      <td>payment-credit-card-balance-euro-dollars-credit-debit-receipt-billing</td>\n",
              "    </tr>\n",
              "    <tr>\n",
              "      <th>4</th>\n",
              "      <td>pacificwide lending. Learn more about Pacificwide Lending and our commercial &amp; residential loan services in California.</td>\n",
              "      <td>payment-credit-card-balance-euro-dollars-credit-debit-receipt-billing</td>\n",
              "    </tr>\n",
              "  </tbody>\n",
              "</table>\n",
              "</div>\n",
              "      <button class=\"colab-df-convert\" onclick=\"convertToInteractive('df-a680af0d-c874-4fd0-bcba-4dc48c6f905e')\"\n",
              "              title=\"Convert this dataframe to an interactive table.\"\n",
              "              style=\"display:none;\">\n",
              "        \n",
              "  <svg xmlns=\"http://www.w3.org/2000/svg\" height=\"24px\"viewBox=\"0 0 24 24\"\n",
              "       width=\"24px\">\n",
              "    <path d=\"M0 0h24v24H0V0z\" fill=\"none\"/>\n",
              "    <path d=\"M18.56 5.44l.94 2.06.94-2.06 2.06-.94-2.06-.94-.94-2.06-.94 2.06-2.06.94zm-11 1L8.5 8.5l.94-2.06 2.06-.94-2.06-.94L8.5 2.5l-.94 2.06-2.06.94zm10 10l.94 2.06.94-2.06 2.06-.94-2.06-.94-.94-2.06-.94 2.06-2.06.94z\"/><path d=\"M17.41 7.96l-1.37-1.37c-.4-.4-.92-.59-1.43-.59-.52 0-1.04.2-1.43.59L10.3 9.45l-7.72 7.72c-.78.78-.78 2.05 0 2.83L4 21.41c.39.39.9.59 1.41.59.51 0 1.02-.2 1.41-.59l7.78-7.78 2.81-2.81c.8-.78.8-2.07 0-2.86zM5.41 20L4 18.59l7.72-7.72 1.47 1.35L5.41 20z\"/>\n",
              "  </svg>\n",
              "      </button>\n",
              "      \n",
              "  <style>\n",
              "    .colab-df-container {\n",
              "      display:flex;\n",
              "      flex-wrap:wrap;\n",
              "      gap: 12px;\n",
              "    }\n",
              "\n",
              "    .colab-df-convert {\n",
              "      background-color: #E8F0FE;\n",
              "      border: none;\n",
              "      border-radius: 50%;\n",
              "      cursor: pointer;\n",
              "      display: none;\n",
              "      fill: #1967D2;\n",
              "      height: 32px;\n",
              "      padding: 0 0 0 0;\n",
              "      width: 32px;\n",
              "    }\n",
              "\n",
              "    .colab-df-convert:hover {\n",
              "      background-color: #E2EBFA;\n",
              "      box-shadow: 0px 1px 2px rgba(60, 64, 67, 0.3), 0px 1px 3px 1px rgba(60, 64, 67, 0.15);\n",
              "      fill: #174EA6;\n",
              "    }\n",
              "\n",
              "    [theme=dark] .colab-df-convert {\n",
              "      background-color: #3B4455;\n",
              "      fill: #D2E3FC;\n",
              "    }\n",
              "\n",
              "    [theme=dark] .colab-df-convert:hover {\n",
              "      background-color: #434B5C;\n",
              "      box-shadow: 0px 1px 3px 1px rgba(0, 0, 0, 0.15);\n",
              "      filter: drop-shadow(0px 1px 2px rgba(0, 0, 0, 0.3));\n",
              "      fill: #FFFFFF;\n",
              "    }\n",
              "  </style>\n",
              "\n",
              "      <script>\n",
              "        const buttonEl =\n",
              "          document.querySelector('#df-a680af0d-c874-4fd0-bcba-4dc48c6f905e button.colab-df-convert');\n",
              "        buttonEl.style.display =\n",
              "          google.colab.kernel.accessAllowed ? 'block' : 'none';\n",
              "\n",
              "        async function convertToInteractive(key) {\n",
              "          const element = document.querySelector('#df-a680af0d-c874-4fd0-bcba-4dc48c6f905e');\n",
              "          const dataTable =\n",
              "            await google.colab.kernel.invokeFunction('convertToInteractive',\n",
              "                                                     [key], {});\n",
              "          if (!dataTable) return;\n",
              "\n",
              "          const docLinkHtml = 'Like what you see? Visit the ' +\n",
              "            '<a target=\"_blank\" href=https://colab.research.google.com/notebooks/data_table.ipynb>data table notebook</a>'\n",
              "            + ' to learn more about interactive tables.';\n",
              "          element.innerHTML = '';\n",
              "          dataTable['output_type'] = 'display_data';\n",
              "          await google.colab.output.renderOutput(dataTable, element);\n",
              "          const docLink = document.createElement('div');\n",
              "          docLink.innerHTML = docLinkHtml;\n",
              "          element.appendChild(docLink);\n",
              "        }\n",
              "      </script>\n",
              "    </div>\n",
              "  </div>\n",
              "  "
            ],
            "text/plain": [
              "                                                                                                                                                                                                                                                                                                                                                                                                                                                                      title_text                                                                  label\n",
              "0                                                                                                                                                                                                                                                                                                                                                         squirrel financial wellbeing. A Squirrel account makes it easy to stick to your budget and save. Start for free today!  payment-credit-card-balance-euro-dollars-credit-debit-receipt-billing\n",
              "1                                                                                                                                                                                                                                                                                  senior insurance marketing. Welcome to the home page of Senior Insurance Marketing, a full service brokerage specializing in Medicare and senior insurance products.  Located in Lincoln, NE.  payment-credit-card-balance-euro-dollars-credit-debit-receipt-billing\n",
              "2  3i financial group inc.. A Small Boutique Firm Dedicated to Achieving Our Clients Goals.#sep#inform.invest.insure Get a Free, No Obligation Quote forAllYour Insurance Needs. 3i Financial offers a wide variety of insurance products to help suit your needs. Choose from individual, family, and group. GET A QUOTE TODAY Travel Insurance Get peace of mind with comprehensive travel insurance. Get a free quote today! Health & Dental Get affordable health  Read more  payment-credit-card-balance-euro-dollars-credit-debit-receipt-billing\n",
              "3                                  brownstone insurance. Brownstone Insurance provides master insurance policies for multi-unit buildings throughout Massachusetts, as well as personal insurance products such as renter's insurance and homeowner's insurance.#sep#Brownstone Insurance provides master insurance policies for multi-unit \\nbuildings throughout Massachusetts, as well as personal insurance products \\nsuch as renter's insurance and homeowner's insurance.  payment-credit-card-balance-euro-dollars-credit-debit-receipt-billing\n",
              "4                                                                                                                                                                                                                                                                                                                                                        pacificwide lending. Learn more about Pacificwide Lending and our commercial & residential loan services in California.  payment-credit-card-balance-euro-dollars-credit-debit-receipt-billing"
            ]
          },
          "metadata": {},
          "execution_count": 11
        }
      ],
      "source": [
        "data.head()"
      ]
    },
    {
      "cell_type": "markdown",
      "metadata": {
        "id": "S1-p4caBaXE8"
      },
      "source": [
        "# Preparing our data for modeling "
      ]
    },
    {
      "cell_type": "code",
      "execution_count": 12,
      "metadata": {
        "id": "eavokoSeaVKp"
      },
      "outputs": [],
      "source": [
        "# import re\n",
        "# import nltk\n",
        "# nltk.download('wordnet')\n",
        "# nltk.download('stopwords')\n",
        "# from nltk.corpus import stopwords\n",
        "# from nltk.stem import WordNetLemmatizer"
      ]
    },
    {
      "cell_type": "code",
      "execution_count": 13,
      "metadata": {
        "id": "il1p9GXcab24"
      },
      "outputs": [],
      "source": [
        "# # text\n",
        "# text_corpus = []\n",
        "# lm = WordNetLemmatizer()\n",
        "# words = stopwords.words('english')\n",
        "\n",
        "# for i in range(data.shape[0]):\n",
        "#     row = re.sub('[^a-zA-Z\\s]', '', data.iloc[i, 0]).lower()\n",
        "#     row = row.split()  \n",
        "#     row = [lm.lemmatize(word) for word in row if word not in words]\n",
        "#     row = ' '.join(row)\n",
        "#     text_corpus.append(row)"
      ]
    },
    {
      "cell_type": "code",
      "execution_count": 14,
      "metadata": {
        "id": "sjXi-jDvar0_"
      },
      "outputs": [],
      "source": [
        "# len(text_corpus)"
      ]
    },
    {
      "cell_type": "code",
      "execution_count": 15,
      "metadata": {
        "id": "qGm578wFatbS"
      },
      "outputs": [],
      "source": [
        "# text_corpus[0]"
      ]
    },
    {
      "cell_type": "markdown",
      "metadata": {
        "id": "r4iGwbELrg7h"
      },
      "source": [
        "_Our Bag of Words_"
      ]
    },
    {
      "cell_type": "code",
      "source": [
        "# X = np.array(text_corpus)\n",
        "X = data.iloc[:, 0].values\n",
        "y = data.iloc[:, 1].values"
      ],
      "metadata": {
        "id": "NLKTeIh5diob"
      },
      "execution_count": 16,
      "outputs": []
    },
    {
      "cell_type": "code",
      "source": [
        "X.shape, y.shape"
      ],
      "metadata": {
        "colab": {
          "base_uri": "https://localhost:8080/"
        },
        "id": "Lt9ENji1dj8O",
        "outputId": "675941dc-d5f9-4159-9c68-1c8ca55471e7"
      },
      "execution_count": 17,
      "outputs": [
        {
          "output_type": "execute_result",
          "data": {
            "text/plain": [
              "((34911,), (34911,))"
            ]
          },
          "metadata": {},
          "execution_count": 17
        }
      ]
    },
    {
      "cell_type": "code",
      "execution_count": 18,
      "metadata": {
        "id": "tog76JXvtQCL"
      },
      "outputs": [],
      "source": [
        "# LabelEncoder\n",
        "from sklearn.preprocessing import LabelEncoder\n",
        "\n",
        "le = LabelEncoder()\n",
        "y = le.fit_transform(y)"
      ]
    },
    {
      "cell_type": "code",
      "execution_count": 19,
      "metadata": {
        "colab": {
          "base_uri": "https://localhost:8080/"
        },
        "id": "2oGcR5Y7tdwE",
        "outputId": "52d59c41-9f5e-4576-fe84-a9cff2a0abfe"
      },
      "outputs": [
        {
          "output_type": "execute_result",
          "data": {
            "text/plain": [
              "array([ 0,  1,  2,  3,  4,  5,  6,  7,  8,  9, 10, 11, 12, 13, 14])"
            ]
          },
          "metadata": {},
          "execution_count": 19
        }
      ],
      "source": [
        "np.unique(y)"
      ]
    },
    {
      "cell_type": "markdown",
      "source": [
        "# Preparing for modeling "
      ],
      "metadata": {
        "id": "4gqEol0DLV4A"
      }
    },
    {
      "cell_type": "code",
      "source": [
        "from tqdm import tqdm\n",
        "\n",
        "from keras.preprocessing.text import Tokenizer\n",
        "from keras.preprocessing.sequence import pad_sequences"
      ],
      "metadata": {
        "id": "KRUFz8GELc5Q"
      },
      "execution_count": 20,
      "outputs": []
    },
    {
      "cell_type": "code",
      "source": [
        "token = Tokenizer()"
      ],
      "metadata": {
        "id": "25E8P4W6LT70"
      },
      "execution_count": 21,
      "outputs": []
    },
    {
      "cell_type": "code",
      "source": [
        "token.fit_on_texts(X)\n",
        "seq = token.texts_to_sequences(X)"
      ],
      "metadata": {
        "id": "m65Y2jWFLZB7"
      },
      "execution_count": 22,
      "outputs": []
    },
    {
      "cell_type": "code",
      "source": [
        "len(token.word_index)"
      ],
      "metadata": {
        "colab": {
          "base_uri": "https://localhost:8080/"
        },
        "id": "6dp2lL6TMNZG",
        "outputId": "1ab9a446-6bb9-43cb-8e68-ef9c90ab4d71"
      },
      "execution_count": 23,
      "outputs": [
        {
          "output_type": "execute_result",
          "data": {
            "text/plain": [
              "58761"
            ]
          },
          "metadata": {},
          "execution_count": 23
        }
      ]
    },
    {
      "cell_type": "code",
      "source": [
        "vocab_size = len(token.word_index)+1    #OOV token"
      ],
      "metadata": {
        "id": "baru0DXpMMVu"
      },
      "execution_count": 24,
      "outputs": []
    },
    {
      "cell_type": "code",
      "source": [
        "l_seq = map(lambda x: len(x), seq)\n",
        "max(l_seq)"
      ],
      "metadata": {
        "colab": {
          "base_uri": "https://localhost:8080/"
        },
        "id": "XZcSQSj5L93g",
        "outputId": "427ff111-4283-4395-ee35-05196bf91ac0"
      },
      "execution_count": 25,
      "outputs": [
        {
          "output_type": "execute_result",
          "data": {
            "text/plain": [
              "1791"
            ]
          },
          "metadata": {},
          "execution_count": 25
        }
      ]
    },
    {
      "cell_type": "code",
      "source": [
        "pad_seq = pad_sequences(seq, maxlen=1000)"
      ],
      "metadata": {
        "id": "53LzkPQZMA4Z"
      },
      "execution_count": 26,
      "outputs": []
    },
    {
      "cell_type": "code",
      "execution_count": 27,
      "metadata": {
        "id": "HCdz0m_cspOo"
      },
      "outputs": [],
      "source": [
        "# Splitting the data\n",
        "from sklearn.model_selection import train_test_split\n",
        "\n",
        "X_train, X_val, y_train, y_val = train_test_split(pad_seq, y, test_size = 0.2, random_state = 42)"
      ]
    },
    {
      "cell_type": "code",
      "execution_count": 28,
      "metadata": {
        "colab": {
          "base_uri": "https://localhost:8080/"
        },
        "id": "FC49gEmus2Ql",
        "outputId": "5e105c70-e221-436c-de0f-20c1490cd2c6"
      },
      "outputs": [
        {
          "output_type": "execute_result",
          "data": {
            "text/plain": [
              "((27928, 1000), (6983, 1000))"
            ]
          },
          "metadata": {},
          "execution_count": 28
        }
      ],
      "source": [
        "X_train.shape, X_val.shape"
      ]
    },
    {
      "cell_type": "code",
      "source": [
        "embedding_vector = {}\n",
        "with open('glove.840B.300d/glove.840B.300d.txt') as f:\n",
        "    for line in tqdm(f):\n",
        "        value = line.split(' ')\n",
        "        word = value[0]\n",
        "        coef = np.array(value[1:],dtype = 'float32')\n",
        "        embedding_vector[word] = coef"
      ],
      "metadata": {
        "id": "uTi7BSNpRth5",
        "colab": {
          "base_uri": "https://localhost:8080/"
        },
        "outputId": "ecb074a3-8e6b-46ad-999d-77794968e360"
      },
      "execution_count": 29,
      "outputs": [
        {
          "output_type": "stream",
          "name": "stderr",
          "text": [
            "2196017it [02:06, 17418.38it/s]\n"
          ]
        }
      ]
    },
    {
      "cell_type": "code",
      "source": [
        "embedding_matrix = np.zeros((vocab_size, 300))\n",
        "for word, idx in tqdm(token.word_index.items()):\n",
        "    embedding_value = embedding_vector.get(word)\n",
        "    if embedding_value is not None:\n",
        "        embedding_matrix[idx] = embedding_value"
      ],
      "metadata": {
        "colab": {
          "base_uri": "https://localhost:8080/"
        },
        "id": "cP-yrRwJVb4B",
        "outputId": "e9fea30b-223c-45fa-cb9b-fbaac428cdc6"
      },
      "execution_count": 30,
      "outputs": [
        {
          "output_type": "stream",
          "name": "stderr",
          "text": [
            "100%|██████████| 58761/58761 [00:00<00:00, 426117.93it/s]\n"
          ]
        }
      ]
    },
    {
      "cell_type": "markdown",
      "metadata": {
        "id": "bcUUtSEas7iD"
      },
      "source": [
        "# Modeling"
      ]
    },
    {
      "cell_type": "code",
      "execution_count": 31,
      "metadata": {
        "id": "U8ykykQos4Q5"
      },
      "outputs": [],
      "source": [
        "import tensorflow as tf\n",
        "from keras.models import Sequential\n",
        "from keras.layers import Embedding, LSTM, Dense, Dropout, CuDNNLSTM, Bidirectional\n",
        "from keras.callbacks import EarlyStopping #ModelCheckpoint, Callback, "
      ]
    },
    {
      "cell_type": "code",
      "source": [
        "model = Sequential()\n",
        "model.add(Embedding(vocab_size, 300, weights=[embedding_matrix], input_length=1000, trainable = False))\n",
        "model.add(LSTM(128))\n",
        "model.add(Dense(64,activation = 'relu'))\n",
        "model.add(Dropout(0.2))\n",
        "model.add(Dense(32,activation = 'relu'))\n",
        "model.add(Dropout(0.2))\n",
        "model.add(Dense(15,activation = 'softmax'))"
      ],
      "metadata": {
        "id": "OLmTB0irtxeC"
      },
      "execution_count": 55,
      "outputs": []
    },
    {
      "cell_type": "code",
      "source": [
        "model.compile(optimizer='adam', loss='sparse_categorical_crossentropy', metrics=['accuracy'])"
      ],
      "metadata": {
        "id": "NJxde1sUWrMc"
      },
      "execution_count": 56,
      "outputs": []
    },
    {
      "cell_type": "code",
      "source": [
        "early = EarlyStopping(monitor=\"val_accuracy\", mode='max', patience=5, restore_best_weights=True)"
      ],
      "metadata": {
        "id": "dK6JlhfrbyjE"
      },
      "execution_count": 57,
      "outputs": []
    },
    {
      "cell_type": "code",
      "source": [
        "history = model.fit(X_train, y_train, validation_data=(X_val, y_val), epochs = 50, batch_size=256, callbacks=[early]) "
      ],
      "metadata": {
        "colab": {
          "base_uri": "https://localhost:8080/"
        },
        "id": "GQNhQ9uBW4B7",
        "outputId": "ac75dbd7-d55d-4444-a114-061de5142318"
      },
      "execution_count": 58,
      "outputs": [
        {
          "output_type": "stream",
          "name": "stdout",
          "text": [
            "Epoch 1/50\n",
            "110/110 [==============================] - 19s 157ms/step - loss: 1.5281 - accuracy: 0.5318 - val_loss: 0.9542 - val_accuracy: 0.7480\n",
            "Epoch 2/50\n",
            "110/110 [==============================] - 17s 155ms/step - loss: 1.0085 - accuracy: 0.7213 - val_loss: 0.7729 - val_accuracy: 0.7938\n",
            "Epoch 3/50\n",
            "110/110 [==============================] - 17s 156ms/step - loss: 0.7972 - accuracy: 0.7896 - val_loss: 0.7417 - val_accuracy: 0.7989\n",
            "Epoch 4/50\n",
            "110/110 [==============================] - 17s 157ms/step - loss: 0.6960 - accuracy: 0.8151 - val_loss: 0.6200 - val_accuracy: 0.8314\n",
            "Epoch 5/50\n",
            "110/110 [==============================] - 17s 159ms/step - loss: 0.6077 - accuracy: 0.8408 - val_loss: 0.5557 - val_accuracy: 0.8483\n",
            "Epoch 6/50\n",
            "110/110 [==============================] - 18s 160ms/step - loss: 0.5696 - accuracy: 0.8512 - val_loss: 0.5113 - val_accuracy: 0.8624\n",
            "Epoch 7/50\n",
            "110/110 [==============================] - 18s 161ms/step - loss: 0.5109 - accuracy: 0.8651 - val_loss: 0.4990 - val_accuracy: 0.8644\n",
            "Epoch 8/50\n",
            "110/110 [==============================] - 18s 163ms/step - loss: 0.4681 - accuracy: 0.8742 - val_loss: 0.4746 - val_accuracy: 0.8715\n",
            "Epoch 9/50\n",
            "110/110 [==============================] - 18s 163ms/step - loss: 0.4517 - accuracy: 0.8774 - val_loss: 0.4705 - val_accuracy: 0.8724\n",
            "Epoch 10/50\n",
            "110/110 [==============================] - 18s 163ms/step - loss: 0.4493 - accuracy: 0.8787 - val_loss: 0.4464 - val_accuracy: 0.8747\n",
            "Epoch 11/50\n",
            "110/110 [==============================] - 18s 163ms/step - loss: 0.3746 - accuracy: 0.8962 - val_loss: 0.4319 - val_accuracy: 0.8877\n",
            "Epoch 12/50\n",
            "110/110 [==============================] - 18s 163ms/step - loss: 0.3467 - accuracy: 0.9036 - val_loss: 0.4144 - val_accuracy: 0.8915\n",
            "Epoch 13/50\n",
            "110/110 [==============================] - 18s 162ms/step - loss: 0.3225 - accuracy: 0.9105 - val_loss: 0.4073 - val_accuracy: 0.8909\n",
            "Epoch 14/50\n",
            "110/110 [==============================] - 18s 162ms/step - loss: 0.3044 - accuracy: 0.9145 - val_loss: 0.4070 - val_accuracy: 0.8912\n",
            "Epoch 15/50\n",
            "110/110 [==============================] - 18s 163ms/step - loss: 0.2854 - accuracy: 0.9207 - val_loss: 0.3949 - val_accuracy: 0.8973\n",
            "Epoch 16/50\n",
            "110/110 [==============================] - 18s 163ms/step - loss: 0.2638 - accuracy: 0.9265 - val_loss: 0.3910 - val_accuracy: 0.9035\n",
            "Epoch 17/50\n",
            "110/110 [==============================] - 18s 162ms/step - loss: 0.2334 - accuracy: 0.9335 - val_loss: 0.3933 - val_accuracy: 0.8953\n",
            "Epoch 18/50\n",
            "110/110 [==============================] - 18s 163ms/step - loss: 0.2458 - accuracy: 0.9286 - val_loss: 0.3746 - val_accuracy: 0.9038\n",
            "Epoch 19/50\n",
            "110/110 [==============================] - 18s 163ms/step - loss: 0.2024 - accuracy: 0.9425 - val_loss: 0.4059 - val_accuracy: 0.9003\n",
            "Epoch 20/50\n",
            "110/110 [==============================] - 18s 163ms/step - loss: 0.1879 - accuracy: 0.9470 - val_loss: 0.3725 - val_accuracy: 0.9089\n",
            "Epoch 21/50\n",
            "110/110 [==============================] - 18s 162ms/step - loss: 0.1592 - accuracy: 0.9557 - val_loss: 0.3644 - val_accuracy: 0.9075\n",
            "Epoch 22/50\n",
            "110/110 [==============================] - 18s 162ms/step - loss: 0.1528 - accuracy: 0.9561 - val_loss: 0.4113 - val_accuracy: 0.9083\n",
            "Epoch 23/50\n",
            "110/110 [==============================] - 18s 162ms/step - loss: 0.1401 - accuracy: 0.9585 - val_loss: 0.3987 - val_accuracy: 0.9095\n",
            "Epoch 24/50\n",
            "110/110 [==============================] - 18s 162ms/step - loss: 0.1563 - accuracy: 0.9538 - val_loss: 0.3701 - val_accuracy: 0.9145\n",
            "Epoch 25/50\n",
            "110/110 [==============================] - 18s 162ms/step - loss: 0.1241 - accuracy: 0.9624 - val_loss: 0.3677 - val_accuracy: 0.9154\n",
            "Epoch 26/50\n",
            "110/110 [==============================] - 18s 163ms/step - loss: 0.1097 - accuracy: 0.9686 - val_loss: 0.3929 - val_accuracy: 0.9172\n",
            "Epoch 27/50\n",
            "110/110 [==============================] - 19s 172ms/step - loss: 0.0985 - accuracy: 0.9714 - val_loss: 0.4053 - val_accuracy: 0.9194\n",
            "Epoch 28/50\n",
            "110/110 [==============================] - 18s 162ms/step - loss: 0.0863 - accuracy: 0.9746 - val_loss: 0.4188 - val_accuracy: 0.9194\n",
            "Epoch 29/50\n",
            "110/110 [==============================] - 18s 163ms/step - loss: 0.0699 - accuracy: 0.9791 - val_loss: 0.4222 - val_accuracy: 0.9224\n",
            "Epoch 30/50\n",
            "110/110 [==============================] - 18s 163ms/step - loss: 0.0636 - accuracy: 0.9813 - val_loss: 0.4273 - val_accuracy: 0.9202\n",
            "Epoch 31/50\n",
            "110/110 [==============================] - 18s 162ms/step - loss: 0.0592 - accuracy: 0.9824 - val_loss: 0.4496 - val_accuracy: 0.9204\n",
            "Epoch 32/50\n",
            "110/110 [==============================] - 18s 162ms/step - loss: 0.0561 - accuracy: 0.9836 - val_loss: 0.4848 - val_accuracy: 0.9199\n",
            "Epoch 33/50\n",
            "110/110 [==============================] - 18s 163ms/step - loss: 0.0786 - accuracy: 0.9777 - val_loss: 0.4508 - val_accuracy: 0.9169\n",
            "Epoch 34/50\n",
            "110/110 [==============================] - 18s 162ms/step - loss: 0.0661 - accuracy: 0.9810 - val_loss: 0.4646 - val_accuracy: 0.9149\n"
          ]
        }
      ]
    },
    {
      "cell_type": "code",
      "execution_count": 59,
      "metadata": {
        "id": "odcPwx0rtmER"
      },
      "outputs": [],
      "source": [
        "from sklearn.metrics import accuracy_score, roc_auc_score, precision_score, recall_score, f1_score\n",
        "\n",
        "columns = ['Accuracy', 'Precision-MacroAVG', 'Precision-WeightedAVG', 'Recall-MacroAVG', 'Recall-WeightedAVG', \n",
        "           'F1_score-MacroAVG','F1_score-WeightedAVG']\n",
        "\n",
        "y_pred = model.predict(X_val)\n",
        "y_pred = np.argmax(y_pred, axis=1)\n",
        "\n",
        "record = {}\n",
        "record['Accuracy'] = accuracy_score(y_val, y_pred)*100\n",
        "record['Precision-MacroAVG'] = precision_score(y_val, y_pred, average='macro')*100\n",
        "record['Precision-WeightedAVG'] = precision_score(y_val, y_pred, average='weighted')*100\n",
        "record['Recall-MacroAVG'] = recall_score(y_val, y_pred, average='macro')*100\n",
        "record['Recall-WeightedAVG'] = recall_score(y_val, y_pred, average='weighted')*100\n",
        "record['F1_score-MacroAVG'] = f1_score(y_val, y_pred, average='macro')*100\n",
        "record['F1_score-WeightedAVG'] = f1_score(y_val, y_pred, average='weighted')*100\n",
        "\n",
        "results = pd.Series(record, index=columns)"
      ]
    },
    {
      "cell_type": "code",
      "execution_count": 60,
      "metadata": {
        "colab": {
          "base_uri": "https://localhost:8080/"
        },
        "id": "50aMbsKHHT1R",
        "outputId": "736441e7-6f63-4f26-a45a-9d824d57ae3a"
      },
      "outputs": [
        {
          "output_type": "execute_result",
          "data": {
            "text/plain": [
              "Accuracy                 92.238293\n",
              "Precision-MacroAVG       85.597175\n",
              "Precision-WeightedAVG    92.230706\n",
              "Recall-MacroAVG          84.473029\n",
              "Recall-WeightedAVG       92.238293\n",
              "F1_score-MacroAVG        84.555692\n",
              "F1_score-WeightedAVG     92.185053\n",
              "dtype: float64"
            ]
          },
          "metadata": {},
          "execution_count": 60
        }
      ],
      "source": [
        "results"
      ]
    },
    {
      "cell_type": "code",
      "execution_count": 61,
      "metadata": {
        "id": "Vj80xhQ8ICSh"
      },
      "outputs": [],
      "source": [
        "model.save('DeepApproach.h5')"
      ]
    },
    {
      "cell_type": "markdown",
      "metadata": {
        "id": "6iRF9wHh8isg"
      },
      "source": [
        "# Testing on test_data"
      ]
    },
    {
      "cell_type": "code",
      "execution_count": 62,
      "metadata": {
        "id": "dj9_KHpbbkFY"
      },
      "outputs": [],
      "source": [
        "test_data = pd.read_csv('test_in_kag_org.csv')"
      ]
    },
    {
      "cell_type": "code",
      "execution_count": 63,
      "metadata": {
        "colab": {
          "base_uri": "https://localhost:8080/"
        },
        "id": "yj9X0ocpbyXD",
        "outputId": "0f865c9e-04f9-4700-d93a-cc03457e08b5"
      },
      "outputs": [
        {
          "output_type": "execute_result",
          "data": {
            "text/plain": [
              "(6501, 4)"
            ]
          },
          "metadata": {},
          "execution_count": 63
        }
      ],
      "source": [
        "test_data.shape"
      ]
    },
    {
      "cell_type": "code",
      "execution_count": 64,
      "metadata": {
        "colab": {
          "base_uri": "https://localhost:8080/"
        },
        "id": "wk8Fmr0lbyXE",
        "outputId": "adbeeffc-f669-4049-df7e-c919b8ea7adb"
      },
      "outputs": [
        {
          "output_type": "execute_result",
          "data": {
            "text/plain": [
              "title         0\n",
              "text          0\n",
              "title_text    0\n",
              "label         0\n",
              "dtype: int64"
            ]
          },
          "metadata": {},
          "execution_count": 64
        }
      ],
      "source": [
        "test_data.isnull().sum()"
      ]
    },
    {
      "cell_type": "code",
      "execution_count": 65,
      "metadata": {
        "id": "Rv1JGvYbbyXH"
      },
      "outputs": [],
      "source": [
        "test_data.drop(columns=['title', 'text'], inplace=True)"
      ]
    },
    {
      "cell_type": "markdown",
      "metadata": {
        "id": "MpBjhsx8byXI"
      },
      "source": [
        "# Preparing our data for modeling "
      ]
    },
    {
      "cell_type": "code",
      "execution_count": 66,
      "metadata": {
        "id": "ZwBgz1hjbyXK"
      },
      "outputs": [],
      "source": [
        "# # text\n",
        "# text_corpus_test = []\n",
        "# lm = WordNetLemmatizer()\n",
        "# words = stopwords.words('english')\n",
        "\n",
        "# for i in range(test_data.shape[0]):\n",
        "#     row = re.sub('[^a-zA-Z\\s]', '', test_data.iloc[i, 0]).lower()\n",
        "#     row = row.split()  \n",
        "#     row = [lm.lemmatize(word) for word in row if word not in words]\n",
        "#     row = ' '.join(row)\n",
        "#     text_corpus_test.append(row)"
      ]
    },
    {
      "cell_type": "code",
      "execution_count": 67,
      "metadata": {
        "id": "KwUAV1BkbyXK"
      },
      "outputs": [],
      "source": [
        "# len(text_corpus_test)"
      ]
    },
    {
      "cell_type": "code",
      "execution_count": 68,
      "metadata": {
        "id": "4d2-H7uXbyXK"
      },
      "outputs": [],
      "source": [
        "# text_corpus_test[0]"
      ]
    },
    {
      "cell_type": "markdown",
      "metadata": {
        "id": "aeW6wftSbyXK"
      },
      "source": [
        "_Our Bag of Words_"
      ]
    },
    {
      "cell_type": "code",
      "execution_count": 69,
      "metadata": {
        "id": "11nCp5SmbyXL"
      },
      "outputs": [],
      "source": [
        "# X_text_test = token.texts_to_sequences(text_corpus_test)\n",
        "X_text_test = token.texts_to_sequences(test_data.iloc[:, 0].values)\n",
        "pad_seq_test = pad_sequences(X_text_test, maxlen=1000)"
      ]
    },
    {
      "cell_type": "code",
      "execution_count": 70,
      "metadata": {
        "id": "VbmRqR09byXM"
      },
      "outputs": [],
      "source": [
        "X_test = pad_seq_test.copy()\n",
        "y_test = test_data.iloc[:, 1].values"
      ]
    },
    {
      "cell_type": "code",
      "execution_count": 71,
      "metadata": {
        "colab": {
          "base_uri": "https://localhost:8080/"
        },
        "id": "VG0yGQSbbyXM",
        "outputId": "2f8f5bf3-7609-48af-c673-e031da1e8d2f"
      },
      "outputs": [
        {
          "output_type": "execute_result",
          "data": {
            "text/plain": [
              "((6501, 1000), (6501,))"
            ]
          },
          "metadata": {},
          "execution_count": 71
        }
      ],
      "source": [
        "X_test.shape, y_test.shape"
      ]
    },
    {
      "cell_type": "code",
      "execution_count": 72,
      "metadata": {
        "id": "xpeUXOpmbyXM"
      },
      "outputs": [],
      "source": [
        "y_test = le.transform(y_test)"
      ]
    },
    {
      "cell_type": "code",
      "execution_count": 73,
      "metadata": {
        "colab": {
          "base_uri": "https://localhost:8080/"
        },
        "id": "lmCHJOIgbyXM",
        "outputId": "248fbad9-c5e8-473e-9008-180e0dcc528e"
      },
      "outputs": [
        {
          "output_type": "execute_result",
          "data": {
            "text/plain": [
              "array([ 0,  1,  2,  3,  4,  5,  6,  7,  8,  9, 10, 11, 12, 13, 14])"
            ]
          },
          "metadata": {},
          "execution_count": 73
        }
      ],
      "source": [
        "np.unique(y_test)"
      ]
    },
    {
      "cell_type": "code",
      "execution_count": 74,
      "metadata": {
        "id": "Ld8slHDRc7XJ",
        "colab": {
          "base_uri": "https://localhost:8080/"
        },
        "outputId": "1c114543-08c1-4aa5-a9af-193f9627221b"
      },
      "outputs": [
        {
          "output_type": "execute_result",
          "data": {
            "text/plain": [
              "<keras.engine.sequential.Sequential at 0x7f5dbc2499d0>"
            ]
          },
          "metadata": {},
          "execution_count": 74
        }
      ],
      "source": [
        "tf.keras.models.load_model('DeepApproach.h5')"
      ]
    },
    {
      "cell_type": "code",
      "execution_count": 75,
      "metadata": {
        "colab": {
          "base_uri": "https://localhost:8080/"
        },
        "id": "kJ7917FybyXO",
        "outputId": "1909d62b-4616-4ca7-c169-d23948ff96a0"
      },
      "outputs": [
        {
          "output_type": "execute_result",
          "data": {
            "text/plain": [
              "Accuracy                 91.432087\n",
              "Precision-MacroAVG       67.912601\n",
              "Precision-WeightedAVG    91.453354\n",
              "Recall-MacroAVG          70.560968\n",
              "Recall-WeightedAVG       91.432087\n",
              "F1_score-MacroAVG        69.031933\n",
              "F1_score-WeightedAVG     91.387426\n",
              "dtype: float64"
            ]
          },
          "metadata": {},
          "execution_count": 75
        }
      ],
      "source": [
        "y_pred = model.predict(X_test)\n",
        "y_pred = np.argmax(y_pred, axis=1)\n",
        "\n",
        "record = {}\n",
        "record['Accuracy'] = accuracy_score(y_test, y_pred)*100\n",
        "record['Precision-MacroAVG'] = precision_score(y_test, y_pred, average='macro')*100\n",
        "record['Precision-WeightedAVG'] = precision_score(y_test, y_pred, average='weighted')*100\n",
        "record['Recall-MacroAVG'] = recall_score(y_test, y_pred, average='macro')*100\n",
        "record['Recall-WeightedAVG'] = recall_score(y_test, y_pred, average='weighted')*100\n",
        "record['F1_score-MacroAVG'] = f1_score(y_test, y_pred, average='macro')*100\n",
        "record['F1_score-WeightedAVG'] = f1_score(y_test, y_pred, average='weighted')*100\n",
        "\n",
        "results = pd.Series(record, index=columns)\n",
        "results"
      ]
    },
    {
      "cell_type": "code",
      "source": [
        ""
      ],
      "metadata": {
        "id": "sRPT57FngQF_"
      },
      "execution_count": 75,
      "outputs": []
    }
  ],
  "metadata": {
    "colab": {
      "name": "DeepCode_v3.ipynb",
      "provenance": []
    },
    "kernelspec": {
      "display_name": "Python 3",
      "language": "python",
      "name": "python3"
    },
    "language_info": {
      "codemirror_mode": {
        "name": "ipython",
        "version": 3
      },
      "file_extension": ".py",
      "mimetype": "text/x-python",
      "name": "python",
      "nbconvert_exporter": "python",
      "pygments_lexer": "ipython3",
      "version": "3.8.8"
    },
    "accelerator": "GPU"
  },
  "nbformat": 4,
  "nbformat_minor": 0
}