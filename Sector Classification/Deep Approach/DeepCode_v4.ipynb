{
  "cells": [
    {
      "cell_type": "code",
      "source": [
        "!pip install kaggle\n",
        "!mkdir ~/.kaggle\n",
        "!cp kaggle.json ~/.kaggle/\n",
        "!chmod 600 ~/.kaggle/kaggle.json"
      ],
      "metadata": {
        "colab": {
          "base_uri": "https://localhost:8080/"
        },
        "id": "a1HhHMCWTWff",
        "outputId": "e0dc02cb-0e45-488f-e2b4-b16296a77f18"
      },
      "execution_count": 1,
      "outputs": [
        {
          "output_type": "stream",
          "name": "stdout",
          "text": [
            "Requirement already satisfied: kaggle in /usr/local/lib/python3.7/dist-packages (1.5.12)\n",
            "Requirement already satisfied: certifi in /usr/local/lib/python3.7/dist-packages (from kaggle) (2021.10.8)\n",
            "Requirement already satisfied: python-dateutil in /usr/local/lib/python3.7/dist-packages (from kaggle) (2.8.2)\n",
            "Requirement already satisfied: python-slugify in /usr/local/lib/python3.7/dist-packages (from kaggle) (6.1.1)\n",
            "Requirement already satisfied: urllib3 in /usr/local/lib/python3.7/dist-packages (from kaggle) (1.24.3)\n",
            "Requirement already satisfied: tqdm in /usr/local/lib/python3.7/dist-packages (from kaggle) (4.63.0)\n",
            "Requirement already satisfied: six>=1.10 in /usr/local/lib/python3.7/dist-packages (from kaggle) (1.15.0)\n",
            "Requirement already satisfied: requests in /usr/local/lib/python3.7/dist-packages (from kaggle) (2.23.0)\n",
            "Requirement already satisfied: text-unidecode>=1.3 in /usr/local/lib/python3.7/dist-packages (from python-slugify->kaggle) (1.3)\n",
            "Requirement already satisfied: chardet<4,>=3.0.2 in /usr/local/lib/python3.7/dist-packages (from requests->kaggle) (3.0.4)\n",
            "Requirement already satisfied: idna<3,>=2.5 in /usr/local/lib/python3.7/dist-packages (from requests->kaggle) (2.10)\n"
          ]
        }
      ]
    },
    {
      "cell_type": "code",
      "source": [
        "# glove embedding\n",
        "!kaggle competitions download -c quora-insincere-questions-classification"
      ],
      "metadata": {
        "colab": {
          "base_uri": "https://localhost:8080/"
        },
        "id": "BYQ5GKUtTY8t",
        "outputId": "75c04c0b-2745-452c-c34a-b9609cb876d1"
      },
      "execution_count": 2,
      "outputs": [
        {
          "output_type": "stream",
          "name": "stdout",
          "text": [
            "Warning: Looks like you're using an outdated API Version, please consider updating (server 1.5.12 / client 1.5.4)\n",
            "Downloading sample_submission.csv.zip to /content\n",
            "  0% 0.00/4.09M [00:00<?, ?B/s]\n",
            "100% 4.09M/4.09M [00:00<00:00, 57.9MB/s]\n",
            "Downloading test.csv.zip to /content\n",
            " 38% 6.00M/15.8M [00:00<00:00, 60.5MB/s]\n",
            "100% 15.8M/15.8M [00:00<00:00, 101MB/s] \n",
            "Downloading train.csv.zip to /content\n",
            " 86% 47.0M/54.9M [00:00<00:00, 69.9MB/s]\n",
            "100% 54.9M/54.9M [00:00<00:00, 112MB/s] \n",
            "Downloading embeddings.zip to /content\n",
            "100% 5.95G/5.96G [01:12<00:00, 82.3MB/s]\n",
            "100% 5.96G/5.96G [01:12<00:00, 88.0MB/s]\n"
          ]
        }
      ]
    },
    {
      "cell_type": "code",
      "source": [
        "!unzip /content/embeddings.zip > /dev/null"
      ],
      "metadata": {
        "id": "nXFW-8z4UFro"
      },
      "execution_count": 3,
      "outputs": []
    },
    {
      "cell_type": "markdown",
      "metadata": {
        "id": "uT7OEo0sZbwm"
      },
      "source": [
        "# Exploring and Cleaning the data"
      ]
    },
    {
      "cell_type": "code",
      "execution_count": 1,
      "metadata": {
        "id": "t8-UEaOYSQ0p"
      },
      "outputs": [],
      "source": [
        "import pandas as pd\n",
        "import numpy as np\n",
        "\n",
        "import matplotlib.pyplot as plt\n",
        "import seaborn as sns\n",
        "\n",
        "pd.set_option('display.max_colwidth', None)\n",
        "\n",
        "import warnings\n",
        "warnings.filterwarnings(\"ignore\")"
      ]
    },
    {
      "cell_type": "code",
      "execution_count": 2,
      "metadata": {
        "id": "tUALIVo2ZfYR"
      },
      "outputs": [],
      "source": [
        "data = pd.read_csv('train_aug_in_kag_org.csv')"
      ]
    },
    {
      "cell_type": "code",
      "execution_count": 3,
      "metadata": {
        "colab": {
          "base_uri": "https://localhost:8080/",
          "height": 1000
        },
        "id": "UTp9GwGaaCDg",
        "outputId": "231501c8-6c00-4ad4-92e2-eb3bb3f5f9f9"
      },
      "outputs": [
        {
          "output_type": "execute_result",
          "data": {
            "text/html": [
              "\n",
              "  <div id=\"df-c17d6ab7-9039-46a0-9419-13b076b6a2d8\">\n",
              "    <div class=\"colab-df-container\">\n",
              "      <div>\n",
              "<style scoped>\n",
              "    .dataframe tbody tr th:only-of-type {\n",
              "        vertical-align: middle;\n",
              "    }\n",
              "\n",
              "    .dataframe tbody tr th {\n",
              "        vertical-align: top;\n",
              "    }\n",
              "\n",
              "    .dataframe thead th {\n",
              "        text-align: right;\n",
              "    }\n",
              "</style>\n",
              "<table border=\"1\" class=\"dataframe\">\n",
              "  <thead>\n",
              "    <tr style=\"text-align: right;\">\n",
              "      <th></th>\n",
              "      <th>title</th>\n",
              "      <th>text</th>\n",
              "      <th>title_text</th>\n",
              "      <th>label</th>\n",
              "    </tr>\n",
              "  </thead>\n",
              "  <tbody>\n",
              "    <tr>\n",
              "      <th>0</th>\n",
              "      <td>squirrel financial wellbeing</td>\n",
              "      <td>A Squirrel account makes it easy to stick to your budget and save. Start for free today!</td>\n",
              "      <td>squirrel financial wellbeing. A Squirrel account makes it easy to stick to your budget and save. Start for free today!</td>\n",
              "      <td>payment-credit-card-balance-euro-dollars-credit-debit-receipt-billing</td>\n",
              "    </tr>\n",
              "    <tr>\n",
              "      <th>1</th>\n",
              "      <td>senior insurance marketing</td>\n",
              "      <td>Welcome to the home page of Senior Insurance Marketing, a full service brokerage specializing in Medicare and senior insurance products.  Located in Lincoln, NE.</td>\n",
              "      <td>senior insurance marketing. Welcome to the home page of Senior Insurance Marketing, a full service brokerage specializing in Medicare and senior insurance products.  Located in Lincoln, NE.</td>\n",
              "      <td>payment-credit-card-balance-euro-dollars-credit-debit-receipt-billing</td>\n",
              "    </tr>\n",
              "    <tr>\n",
              "      <th>2</th>\n",
              "      <td>3i financial group inc.</td>\n",
              "      <td>A Small Boutique Firm Dedicated to Achieving Our Clients Goals.#sep#inform.invest.insure Get a Free, No Obligation Quote forAllYour Insurance Needs. 3i Financial offers a wide variety of insurance products to help suit your needs. Choose from individual, family, and group. GET A QUOTE TODAY Travel Insurance Get peace of mind with comprehensive travel insurance. Get a free quote today! Health &amp; Dental Get affordable health  Read more</td>\n",
              "      <td>3i financial group inc.. A Small Boutique Firm Dedicated to Achieving Our Clients Goals.#sep#inform.invest.insure Get a Free, No Obligation Quote forAllYour Insurance Needs. 3i Financial offers a wide variety of insurance products to help suit your needs. Choose from individual, family, and group. GET A QUOTE TODAY Travel Insurance Get peace of mind with comprehensive travel insurance. Get a free quote today! Health &amp; Dental Get affordable health  Read more</td>\n",
              "      <td>payment-credit-card-balance-euro-dollars-credit-debit-receipt-billing</td>\n",
              "    </tr>\n",
              "    <tr>\n",
              "      <th>3</th>\n",
              "      <td>brownstone insurance</td>\n",
              "      <td>Brownstone Insurance provides master insurance policies for multi-unit buildings throughout Massachusetts, as well as personal insurance products such as renter's insurance and homeowner's insurance.#sep#Brownstone Insurance provides master insurance policies for multi-unit \\nbuildings throughout Massachusetts, as well as personal insurance products \\nsuch as renter's insurance and homeowner's insurance.</td>\n",
              "      <td>brownstone insurance. Brownstone Insurance provides master insurance policies for multi-unit buildings throughout Massachusetts, as well as personal insurance products such as renter's insurance and homeowner's insurance.#sep#Brownstone Insurance provides master insurance policies for multi-unit \\nbuildings throughout Massachusetts, as well as personal insurance products \\nsuch as renter's insurance and homeowner's insurance.</td>\n",
              "      <td>payment-credit-card-balance-euro-dollars-credit-debit-receipt-billing</td>\n",
              "    </tr>\n",
              "    <tr>\n",
              "      <th>4</th>\n",
              "      <td>pacificwide lending</td>\n",
              "      <td>Learn more about Pacificwide Lending and our commercial &amp; residential loan services in California.</td>\n",
              "      <td>pacificwide lending. Learn more about Pacificwide Lending and our commercial &amp; residential loan services in California.</td>\n",
              "      <td>payment-credit-card-balance-euro-dollars-credit-debit-receipt-billing</td>\n",
              "    </tr>\n",
              "    <tr>\n",
              "      <th>5</th>\n",
              "      <td>city auto finance</td>\n",
              "      <td>City Auto Finance is the Southeast's most trusted used-car floor plan financing company with locations in Memphis, TN; Mobile, AL; Huntsville, AL and Murfreesboro, TN. We provide you with competitive rates and the capability to make payments online.</td>\n",
              "      <td>city auto finance. City Auto Finance is the Southeast's most trusted used-car floor plan financing company with locations in Memphis, TN; Mobile, AL; Huntsville, AL and Murfreesboro, TN. We provide you with competitive rates and the capability to make payments online.</td>\n",
              "      <td>payment-credit-card-balance-euro-dollars-credit-debit-receipt-billing</td>\n",
              "    </tr>\n",
              "    <tr>\n",
              "      <th>6</th>\n",
              "      <td>veterans financial, inc.</td>\n",
              "      <td>VA Aid and Attendance benefit can help pay for assisted living, home care or nursing home. Veterans Financial Inc can advise you at no cost about benefits</td>\n",
              "      <td>veterans financial, inc.. VA Aid and Attendance benefit can help pay for assisted living, home care or nursing home. Veterans Financial Inc can advise you at no cost about benefits</td>\n",
              "      <td>payment-credit-card-balance-euro-dollars-credit-debit-receipt-billing</td>\n",
              "    </tr>\n",
              "    <tr>\n",
              "      <th>7</th>\n",
              "      <td>keystart country home loans</td>\n",
              "      <td>Make your home ownership dream a reality. Keystart's low-deposit, no LMI home loans lower the entry barriers so you can get into a home of your own sooner.</td>\n",
              "      <td>keystart country home loans. Make your home ownership dream a reality. Keystart's low-deposit, no LMI home loans lower the entry barriers so you can get into a home of your own sooner.</td>\n",
              "      <td>payment-credit-card-balance-euro-dollars-credit-debit-receipt-billing</td>\n",
              "    </tr>\n",
              "    <tr>\n",
              "      <th>8</th>\n",
              "      <td>united insurance</td>\n",
              "      <td>United Insurance provides personal insurance, commercial insurance, and group benefits with 16 location in Maine and New Hampshire since 1976.</td>\n",
              "      <td>united insurance. United Insurance provides personal insurance, commercial insurance, and group benefits with 16 location in Maine and New Hampshire since 1976.</td>\n",
              "      <td>payment-credit-card-balance-euro-dollars-credit-debit-receipt-billing</td>\n",
              "    </tr>\n",
              "    <tr>\n",
              "      <th>9</th>\n",
              "      <td>insurance brokers co., inc.</td>\n",
              "      <td>Auto Insurance, Home Insurance, Business Insurance, Life &amp; Health Insurance in Rockville, Gaithersburg, Potomac, Bethesda, Germantown and Silver Spring.</td>\n",
              "      <td>insurance brokers co., inc.. Auto Insurance, Home Insurance, Business Insurance, Life &amp; Health Insurance in Rockville, Gaithersburg, Potomac, Bethesda, Germantown and Silver Spring.</td>\n",
              "      <td>payment-credit-card-balance-euro-dollars-credit-debit-receipt-billing</td>\n",
              "    </tr>\n",
              "  </tbody>\n",
              "</table>\n",
              "</div>\n",
              "      <button class=\"colab-df-convert\" onclick=\"convertToInteractive('df-c17d6ab7-9039-46a0-9419-13b076b6a2d8')\"\n",
              "              title=\"Convert this dataframe to an interactive table.\"\n",
              "              style=\"display:none;\">\n",
              "        \n",
              "  <svg xmlns=\"http://www.w3.org/2000/svg\" height=\"24px\"viewBox=\"0 0 24 24\"\n",
              "       width=\"24px\">\n",
              "    <path d=\"M0 0h24v24H0V0z\" fill=\"none\"/>\n",
              "    <path d=\"M18.56 5.44l.94 2.06.94-2.06 2.06-.94-2.06-.94-.94-2.06-.94 2.06-2.06.94zm-11 1L8.5 8.5l.94-2.06 2.06-.94-2.06-.94L8.5 2.5l-.94 2.06-2.06.94zm10 10l.94 2.06.94-2.06 2.06-.94-2.06-.94-.94-2.06-.94 2.06-2.06.94z\"/><path d=\"M17.41 7.96l-1.37-1.37c-.4-.4-.92-.59-1.43-.59-.52 0-1.04.2-1.43.59L10.3 9.45l-7.72 7.72c-.78.78-.78 2.05 0 2.83L4 21.41c.39.39.9.59 1.41.59.51 0 1.02-.2 1.41-.59l7.78-7.78 2.81-2.81c.8-.78.8-2.07 0-2.86zM5.41 20L4 18.59l7.72-7.72 1.47 1.35L5.41 20z\"/>\n",
              "  </svg>\n",
              "      </button>\n",
              "      \n",
              "  <style>\n",
              "    .colab-df-container {\n",
              "      display:flex;\n",
              "      flex-wrap:wrap;\n",
              "      gap: 12px;\n",
              "    }\n",
              "\n",
              "    .colab-df-convert {\n",
              "      background-color: #E8F0FE;\n",
              "      border: none;\n",
              "      border-radius: 50%;\n",
              "      cursor: pointer;\n",
              "      display: none;\n",
              "      fill: #1967D2;\n",
              "      height: 32px;\n",
              "      padding: 0 0 0 0;\n",
              "      width: 32px;\n",
              "    }\n",
              "\n",
              "    .colab-df-convert:hover {\n",
              "      background-color: #E2EBFA;\n",
              "      box-shadow: 0px 1px 2px rgba(60, 64, 67, 0.3), 0px 1px 3px 1px rgba(60, 64, 67, 0.15);\n",
              "      fill: #174EA6;\n",
              "    }\n",
              "\n",
              "    [theme=dark] .colab-df-convert {\n",
              "      background-color: #3B4455;\n",
              "      fill: #D2E3FC;\n",
              "    }\n",
              "\n",
              "    [theme=dark] .colab-df-convert:hover {\n",
              "      background-color: #434B5C;\n",
              "      box-shadow: 0px 1px 3px 1px rgba(0, 0, 0, 0.15);\n",
              "      filter: drop-shadow(0px 1px 2px rgba(0, 0, 0, 0.3));\n",
              "      fill: #FFFFFF;\n",
              "    }\n",
              "  </style>\n",
              "\n",
              "      <script>\n",
              "        const buttonEl =\n",
              "          document.querySelector('#df-c17d6ab7-9039-46a0-9419-13b076b6a2d8 button.colab-df-convert');\n",
              "        buttonEl.style.display =\n",
              "          google.colab.kernel.accessAllowed ? 'block' : 'none';\n",
              "\n",
              "        async function convertToInteractive(key) {\n",
              "          const element = document.querySelector('#df-c17d6ab7-9039-46a0-9419-13b076b6a2d8');\n",
              "          const dataTable =\n",
              "            await google.colab.kernel.invokeFunction('convertToInteractive',\n",
              "                                                     [key], {});\n",
              "          if (!dataTable) return;\n",
              "\n",
              "          const docLinkHtml = 'Like what you see? Visit the ' +\n",
              "            '<a target=\"_blank\" href=https://colab.research.google.com/notebooks/data_table.ipynb>data table notebook</a>'\n",
              "            + ' to learn more about interactive tables.';\n",
              "          element.innerHTML = '';\n",
              "          dataTable['output_type'] = 'display_data';\n",
              "          await google.colab.output.renderOutput(dataTable, element);\n",
              "          const docLink = document.createElement('div');\n",
              "          docLink.innerHTML = docLinkHtml;\n",
              "          element.appendChild(docLink);\n",
              "        }\n",
              "      </script>\n",
              "    </div>\n",
              "  </div>\n",
              "  "
            ],
            "text/plain": [
              "                          title  \\\n",
              "0  squirrel financial wellbeing   \n",
              "1    senior insurance marketing   \n",
              "2       3i financial group inc.   \n",
              "3          brownstone insurance   \n",
              "4           pacificwide lending   \n",
              "5             city auto finance   \n",
              "6      veterans financial, inc.   \n",
              "7   keystart country home loans   \n",
              "8              united insurance   \n",
              "9   insurance brokers co., inc.   \n",
              "\n",
              "                                                                                                                                                                                                                                                                                                                                                                                                                                                   text  \\\n",
              "0                                                                                                                                                                                                                                                                                                                                                              A Squirrel account makes it easy to stick to your budget and save. Start for free today!   \n",
              "1                                                                                                                                                                                                                                                                                     Welcome to the home page of Senior Insurance Marketing, a full service brokerage specializing in Medicare and senior insurance products.  Located in Lincoln, NE.   \n",
              "2  A Small Boutique Firm Dedicated to Achieving Our Clients Goals.#sep#inform.invest.insure Get a Free, No Obligation Quote forAllYour Insurance Needs. 3i Financial offers a wide variety of insurance products to help suit your needs. Choose from individual, family, and group. GET A QUOTE TODAY Travel Insurance Get peace of mind with comprehensive travel insurance. Get a free quote today! Health & Dental Get affordable health  Read more   \n",
              "3                               Brownstone Insurance provides master insurance policies for multi-unit buildings throughout Massachusetts, as well as personal insurance products such as renter's insurance and homeowner's insurance.#sep#Brownstone Insurance provides master insurance policies for multi-unit \\nbuildings throughout Massachusetts, as well as personal insurance products \\nsuch as renter's insurance and homeowner's insurance.   \n",
              "4                                                                                                                                                                                                                                                                                                                                                    Learn more about Pacificwide Lending and our commercial & residential loan services in California.   \n",
              "5                                                                                                                                                                                             City Auto Finance is the Southeast's most trusted used-car floor plan financing company with locations in Memphis, TN; Mobile, AL; Huntsville, AL and Murfreesboro, TN. We provide you with competitive rates and the capability to make payments online.   \n",
              "6                                                                                                                                                                                                                                                                                            VA Aid and Attendance benefit can help pay for assisted living, home care or nursing home. Veterans Financial Inc can advise you at no cost about benefits   \n",
              "7                                                                                                                                                                                                                                                                                           Make your home ownership dream a reality. Keystart's low-deposit, no LMI home loans lower the entry barriers so you can get into a home of your own sooner.   \n",
              "8                                                                                                                                                                                                                                                                                                        United Insurance provides personal insurance, commercial insurance, and group benefits with 16 location in Maine and New Hampshire since 1976.   \n",
              "9                                                                                                                                                                                                                                                                                              Auto Insurance, Home Insurance, Business Insurance, Life & Health Insurance in Rockville, Gaithersburg, Potomac, Bethesda, Germantown and Silver Spring.   \n",
              "\n",
              "                                                                                                                                                                                                                                                                                                                                                                                                                                                                      title_text  \\\n",
              "0                                                                                                                                                                                                                                                                                                                                                         squirrel financial wellbeing. A Squirrel account makes it easy to stick to your budget and save. Start for free today!   \n",
              "1                                                                                                                                                                                                                                                                                  senior insurance marketing. Welcome to the home page of Senior Insurance Marketing, a full service brokerage specializing in Medicare and senior insurance products.  Located in Lincoln, NE.   \n",
              "2  3i financial group inc.. A Small Boutique Firm Dedicated to Achieving Our Clients Goals.#sep#inform.invest.insure Get a Free, No Obligation Quote forAllYour Insurance Needs. 3i Financial offers a wide variety of insurance products to help suit your needs. Choose from individual, family, and group. GET A QUOTE TODAY Travel Insurance Get peace of mind with comprehensive travel insurance. Get a free quote today! Health & Dental Get affordable health  Read more   \n",
              "3                                  brownstone insurance. Brownstone Insurance provides master insurance policies for multi-unit buildings throughout Massachusetts, as well as personal insurance products such as renter's insurance and homeowner's insurance.#sep#Brownstone Insurance provides master insurance policies for multi-unit \\nbuildings throughout Massachusetts, as well as personal insurance products \\nsuch as renter's insurance and homeowner's insurance.   \n",
              "4                                                                                                                                                                                                                                                                                                                                                        pacificwide lending. Learn more about Pacificwide Lending and our commercial & residential loan services in California.   \n",
              "5                                                                                                                                                                                                   city auto finance. City Auto Finance is the Southeast's most trusted used-car floor plan financing company with locations in Memphis, TN; Mobile, AL; Huntsville, AL and Murfreesboro, TN. We provide you with competitive rates and the capability to make payments online.   \n",
              "6                                                                                                                                                                                                                                                                                           veterans financial, inc.. VA Aid and Attendance benefit can help pay for assisted living, home care or nursing home. Veterans Financial Inc can advise you at no cost about benefits   \n",
              "7                                                                                                                                                                                                                                                                                       keystart country home loans. Make your home ownership dream a reality. Keystart's low-deposit, no LMI home loans lower the entry barriers so you can get into a home of your own sooner.   \n",
              "8                                                                                                                                                                                                                                                                                                               united insurance. United Insurance provides personal insurance, commercial insurance, and group benefits with 16 location in Maine and New Hampshire since 1976.   \n",
              "9                                                                                                                                                                                                                                                                                          insurance brokers co., inc.. Auto Insurance, Home Insurance, Business Insurance, Life & Health Insurance in Rockville, Gaithersburg, Potomac, Bethesda, Germantown and Silver Spring.   \n",
              "\n",
              "                                                                   label  \n",
              "0  payment-credit-card-balance-euro-dollars-credit-debit-receipt-billing  \n",
              "1  payment-credit-card-balance-euro-dollars-credit-debit-receipt-billing  \n",
              "2  payment-credit-card-balance-euro-dollars-credit-debit-receipt-billing  \n",
              "3  payment-credit-card-balance-euro-dollars-credit-debit-receipt-billing  \n",
              "4  payment-credit-card-balance-euro-dollars-credit-debit-receipt-billing  \n",
              "5  payment-credit-card-balance-euro-dollars-credit-debit-receipt-billing  \n",
              "6  payment-credit-card-balance-euro-dollars-credit-debit-receipt-billing  \n",
              "7  payment-credit-card-balance-euro-dollars-credit-debit-receipt-billing  \n",
              "8  payment-credit-card-balance-euro-dollars-credit-debit-receipt-billing  \n",
              "9  payment-credit-card-balance-euro-dollars-credit-debit-receipt-billing  "
            ]
          },
          "metadata": {},
          "execution_count": 3
        }
      ],
      "source": [
        "data.head(10)"
      ]
    },
    {
      "cell_type": "code",
      "execution_count": 4,
      "metadata": {
        "colab": {
          "base_uri": "https://localhost:8080/"
        },
        "id": "9O8GdDjMaDYC",
        "outputId": "cef3cbba-a287-4dd5-aaae-696af6d17d23"
      },
      "outputs": [
        {
          "output_type": "execute_result",
          "data": {
            "text/plain": [
              "(34953, 4)"
            ]
          },
          "metadata": {},
          "execution_count": 4
        }
      ],
      "source": [
        "data.shape"
      ]
    },
    {
      "cell_type": "code",
      "execution_count": 5,
      "metadata": {
        "colab": {
          "base_uri": "https://localhost:8080/"
        },
        "id": "pSjePuz1aEuc",
        "outputId": "175038f0-acbb-4168-bf54-d50aab0f8117"
      },
      "outputs": [
        {
          "output_type": "execute_result",
          "data": {
            "text/plain": [
              "title         42\n",
              "text           0\n",
              "title_text     0\n",
              "label          0\n",
              "dtype: int64"
            ]
          },
          "metadata": {},
          "execution_count": 5
        }
      ],
      "source": [
        "data.isnull().sum()"
      ]
    },
    {
      "cell_type": "code",
      "execution_count": 6,
      "metadata": {
        "id": "WEVoPlBSaFzQ"
      },
      "outputs": [],
      "source": [
        "data.dropna(inplace=True)"
      ]
    },
    {
      "cell_type": "code",
      "execution_count": 7,
      "metadata": {
        "id": "qYM2MS4kaSx1"
      },
      "outputs": [],
      "source": [
        "data.drop(columns=['title', 'text'], inplace=True)"
      ]
    },
    {
      "cell_type": "code",
      "execution_count": 8,
      "metadata": {
        "colab": {
          "base_uri": "https://localhost:8080/",
          "height": 510
        },
        "id": "Vit6MnU0aUC2",
        "outputId": "03a0b7a0-9165-46ea-d81b-a21ee437b73e"
      },
      "outputs": [
        {
          "output_type": "execute_result",
          "data": {
            "text/html": [
              "\n",
              "  <div id=\"df-d770541c-0408-4f46-b193-53e725a73025\">\n",
              "    <div class=\"colab-df-container\">\n",
              "      <div>\n",
              "<style scoped>\n",
              "    .dataframe tbody tr th:only-of-type {\n",
              "        vertical-align: middle;\n",
              "    }\n",
              "\n",
              "    .dataframe tbody tr th {\n",
              "        vertical-align: top;\n",
              "    }\n",
              "\n",
              "    .dataframe thead th {\n",
              "        text-align: right;\n",
              "    }\n",
              "</style>\n",
              "<table border=\"1\" class=\"dataframe\">\n",
              "  <thead>\n",
              "    <tr style=\"text-align: right;\">\n",
              "      <th></th>\n",
              "      <th>title_text</th>\n",
              "      <th>label</th>\n",
              "    </tr>\n",
              "  </thead>\n",
              "  <tbody>\n",
              "    <tr>\n",
              "      <th>0</th>\n",
              "      <td>squirrel financial wellbeing. A Squirrel account makes it easy to stick to your budget and save. Start for free today!</td>\n",
              "      <td>payment-credit-card-balance-euro-dollars-credit-debit-receipt-billing</td>\n",
              "    </tr>\n",
              "    <tr>\n",
              "      <th>1</th>\n",
              "      <td>senior insurance marketing. Welcome to the home page of Senior Insurance Marketing, a full service brokerage specializing in Medicare and senior insurance products.  Located in Lincoln, NE.</td>\n",
              "      <td>payment-credit-card-balance-euro-dollars-credit-debit-receipt-billing</td>\n",
              "    </tr>\n",
              "    <tr>\n",
              "      <th>2</th>\n",
              "      <td>3i financial group inc.. A Small Boutique Firm Dedicated to Achieving Our Clients Goals.#sep#inform.invest.insure Get a Free, No Obligation Quote forAllYour Insurance Needs. 3i Financial offers a wide variety of insurance products to help suit your needs. Choose from individual, family, and group. GET A QUOTE TODAY Travel Insurance Get peace of mind with comprehensive travel insurance. Get a free quote today! Health &amp; Dental Get affordable health  Read more</td>\n",
              "      <td>payment-credit-card-balance-euro-dollars-credit-debit-receipt-billing</td>\n",
              "    </tr>\n",
              "    <tr>\n",
              "      <th>3</th>\n",
              "      <td>brownstone insurance. Brownstone Insurance provides master insurance policies for multi-unit buildings throughout Massachusetts, as well as personal insurance products such as renter's insurance and homeowner's insurance.#sep#Brownstone Insurance provides master insurance policies for multi-unit \\nbuildings throughout Massachusetts, as well as personal insurance products \\nsuch as renter's insurance and homeowner's insurance.</td>\n",
              "      <td>payment-credit-card-balance-euro-dollars-credit-debit-receipt-billing</td>\n",
              "    </tr>\n",
              "    <tr>\n",
              "      <th>4</th>\n",
              "      <td>pacificwide lending. Learn more about Pacificwide Lending and our commercial &amp; residential loan services in California.</td>\n",
              "      <td>payment-credit-card-balance-euro-dollars-credit-debit-receipt-billing</td>\n",
              "    </tr>\n",
              "  </tbody>\n",
              "</table>\n",
              "</div>\n",
              "      <button class=\"colab-df-convert\" onclick=\"convertToInteractive('df-d770541c-0408-4f46-b193-53e725a73025')\"\n",
              "              title=\"Convert this dataframe to an interactive table.\"\n",
              "              style=\"display:none;\">\n",
              "        \n",
              "  <svg xmlns=\"http://www.w3.org/2000/svg\" height=\"24px\"viewBox=\"0 0 24 24\"\n",
              "       width=\"24px\">\n",
              "    <path d=\"M0 0h24v24H0V0z\" fill=\"none\"/>\n",
              "    <path d=\"M18.56 5.44l.94 2.06.94-2.06 2.06-.94-2.06-.94-.94-2.06-.94 2.06-2.06.94zm-11 1L8.5 8.5l.94-2.06 2.06-.94-2.06-.94L8.5 2.5l-.94 2.06-2.06.94zm10 10l.94 2.06.94-2.06 2.06-.94-2.06-.94-.94-2.06-.94 2.06-2.06.94z\"/><path d=\"M17.41 7.96l-1.37-1.37c-.4-.4-.92-.59-1.43-.59-.52 0-1.04.2-1.43.59L10.3 9.45l-7.72 7.72c-.78.78-.78 2.05 0 2.83L4 21.41c.39.39.9.59 1.41.59.51 0 1.02-.2 1.41-.59l7.78-7.78 2.81-2.81c.8-.78.8-2.07 0-2.86zM5.41 20L4 18.59l7.72-7.72 1.47 1.35L5.41 20z\"/>\n",
              "  </svg>\n",
              "      </button>\n",
              "      \n",
              "  <style>\n",
              "    .colab-df-container {\n",
              "      display:flex;\n",
              "      flex-wrap:wrap;\n",
              "      gap: 12px;\n",
              "    }\n",
              "\n",
              "    .colab-df-convert {\n",
              "      background-color: #E8F0FE;\n",
              "      border: none;\n",
              "      border-radius: 50%;\n",
              "      cursor: pointer;\n",
              "      display: none;\n",
              "      fill: #1967D2;\n",
              "      height: 32px;\n",
              "      padding: 0 0 0 0;\n",
              "      width: 32px;\n",
              "    }\n",
              "\n",
              "    .colab-df-convert:hover {\n",
              "      background-color: #E2EBFA;\n",
              "      box-shadow: 0px 1px 2px rgba(60, 64, 67, 0.3), 0px 1px 3px 1px rgba(60, 64, 67, 0.15);\n",
              "      fill: #174EA6;\n",
              "    }\n",
              "\n",
              "    [theme=dark] .colab-df-convert {\n",
              "      background-color: #3B4455;\n",
              "      fill: #D2E3FC;\n",
              "    }\n",
              "\n",
              "    [theme=dark] .colab-df-convert:hover {\n",
              "      background-color: #434B5C;\n",
              "      box-shadow: 0px 1px 3px 1px rgba(0, 0, 0, 0.15);\n",
              "      filter: drop-shadow(0px 1px 2px rgba(0, 0, 0, 0.3));\n",
              "      fill: #FFFFFF;\n",
              "    }\n",
              "  </style>\n",
              "\n",
              "      <script>\n",
              "        const buttonEl =\n",
              "          document.querySelector('#df-d770541c-0408-4f46-b193-53e725a73025 button.colab-df-convert');\n",
              "        buttonEl.style.display =\n",
              "          google.colab.kernel.accessAllowed ? 'block' : 'none';\n",
              "\n",
              "        async function convertToInteractive(key) {\n",
              "          const element = document.querySelector('#df-d770541c-0408-4f46-b193-53e725a73025');\n",
              "          const dataTable =\n",
              "            await google.colab.kernel.invokeFunction('convertToInteractive',\n",
              "                                                     [key], {});\n",
              "          if (!dataTable) return;\n",
              "\n",
              "          const docLinkHtml = 'Like what you see? Visit the ' +\n",
              "            '<a target=\"_blank\" href=https://colab.research.google.com/notebooks/data_table.ipynb>data table notebook</a>'\n",
              "            + ' to learn more about interactive tables.';\n",
              "          element.innerHTML = '';\n",
              "          dataTable['output_type'] = 'display_data';\n",
              "          await google.colab.output.renderOutput(dataTable, element);\n",
              "          const docLink = document.createElement('div');\n",
              "          docLink.innerHTML = docLinkHtml;\n",
              "          element.appendChild(docLink);\n",
              "        }\n",
              "      </script>\n",
              "    </div>\n",
              "  </div>\n",
              "  "
            ],
            "text/plain": [
              "                                                                                                                                                                                                                                                                                                                                                                                                                                                                      title_text  \\\n",
              "0                                                                                                                                                                                                                                                                                                                                                         squirrel financial wellbeing. A Squirrel account makes it easy to stick to your budget and save. Start for free today!   \n",
              "1                                                                                                                                                                                                                                                                                  senior insurance marketing. Welcome to the home page of Senior Insurance Marketing, a full service brokerage specializing in Medicare and senior insurance products.  Located in Lincoln, NE.   \n",
              "2  3i financial group inc.. A Small Boutique Firm Dedicated to Achieving Our Clients Goals.#sep#inform.invest.insure Get a Free, No Obligation Quote forAllYour Insurance Needs. 3i Financial offers a wide variety of insurance products to help suit your needs. Choose from individual, family, and group. GET A QUOTE TODAY Travel Insurance Get peace of mind with comprehensive travel insurance. Get a free quote today! Health & Dental Get affordable health  Read more   \n",
              "3                                  brownstone insurance. Brownstone Insurance provides master insurance policies for multi-unit buildings throughout Massachusetts, as well as personal insurance products such as renter's insurance and homeowner's insurance.#sep#Brownstone Insurance provides master insurance policies for multi-unit \\nbuildings throughout Massachusetts, as well as personal insurance products \\nsuch as renter's insurance and homeowner's insurance.   \n",
              "4                                                                                                                                                                                                                                                                                                                                                        pacificwide lending. Learn more about Pacificwide Lending and our commercial & residential loan services in California.   \n",
              "\n",
              "                                                                   label  \n",
              "0  payment-credit-card-balance-euro-dollars-credit-debit-receipt-billing  \n",
              "1  payment-credit-card-balance-euro-dollars-credit-debit-receipt-billing  \n",
              "2  payment-credit-card-balance-euro-dollars-credit-debit-receipt-billing  \n",
              "3  payment-credit-card-balance-euro-dollars-credit-debit-receipt-billing  \n",
              "4  payment-credit-card-balance-euro-dollars-credit-debit-receipt-billing  "
            ]
          },
          "metadata": {},
          "execution_count": 8
        }
      ],
      "source": [
        "data.head()"
      ]
    },
    {
      "cell_type": "markdown",
      "metadata": {
        "id": "S1-p4caBaXE8"
      },
      "source": [
        "# Preparing our data for modeling "
      ]
    },
    {
      "cell_type": "code",
      "execution_count": 9,
      "metadata": {
        "id": "eavokoSeaVKp"
      },
      "outputs": [],
      "source": [
        "# import re\n",
        "# import nltk\n",
        "# nltk.download('wordnet')\n",
        "# nltk.download('stopwords')\n",
        "# from nltk.corpus import stopwords\n",
        "# from nltk.stem import WordNetLemmatizer"
      ]
    },
    {
      "cell_type": "code",
      "execution_count": 10,
      "metadata": {
        "id": "il1p9GXcab24"
      },
      "outputs": [],
      "source": [
        "# # text\n",
        "# text_corpus = []\n",
        "# lm = WordNetLemmatizer()\n",
        "# words = stopwords.words('english')\n",
        "\n",
        "# for i in range(data.shape[0]):\n",
        "#     row = re.sub('[^a-zA-Z\\s]', '', data.iloc[i, 0]).lower()\n",
        "#     row = row.split()  \n",
        "#     row = [lm.lemmatize(word) for word in row if word not in words]\n",
        "#     row = ' '.join(row)\n",
        "#     text_corpus.append(row)"
      ]
    },
    {
      "cell_type": "code",
      "execution_count": 11,
      "metadata": {
        "id": "sjXi-jDvar0_"
      },
      "outputs": [],
      "source": [
        "# len(text_corpus)"
      ]
    },
    {
      "cell_type": "code",
      "execution_count": 12,
      "metadata": {
        "id": "qGm578wFatbS"
      },
      "outputs": [],
      "source": [
        "# text_corpus[0]"
      ]
    },
    {
      "cell_type": "markdown",
      "metadata": {
        "id": "r4iGwbELrg7h"
      },
      "source": [
        "_Our Bag of Words_"
      ]
    },
    {
      "cell_type": "code",
      "source": [
        "# X = np.array(text_corpus)\n",
        "X = data.iloc[:, 0].values\n",
        "y = data.iloc[:, 1].values"
      ],
      "metadata": {
        "id": "NLKTeIh5diob"
      },
      "execution_count": 13,
      "outputs": []
    },
    {
      "cell_type": "code",
      "source": [
        "X.shape, y.shape"
      ],
      "metadata": {
        "colab": {
          "base_uri": "https://localhost:8080/"
        },
        "id": "Lt9ENji1dj8O",
        "outputId": "49c763c3-3f4e-4897-841c-db3b9fe8bbfd"
      },
      "execution_count": 14,
      "outputs": [
        {
          "output_type": "execute_result",
          "data": {
            "text/plain": [
              "((34911,), (34911,))"
            ]
          },
          "metadata": {},
          "execution_count": 14
        }
      ]
    },
    {
      "cell_type": "code",
      "execution_count": 15,
      "metadata": {
        "id": "tog76JXvtQCL"
      },
      "outputs": [],
      "source": [
        "# LabelEncoder\n",
        "from sklearn.preprocessing import LabelEncoder\n",
        "\n",
        "le = LabelEncoder()\n",
        "y = le.fit_transform(y)"
      ]
    },
    {
      "cell_type": "code",
      "execution_count": 16,
      "metadata": {
        "colab": {
          "base_uri": "https://localhost:8080/"
        },
        "id": "2oGcR5Y7tdwE",
        "outputId": "4be1eb75-433f-4f84-ddd7-6682078ebc20"
      },
      "outputs": [
        {
          "output_type": "execute_result",
          "data": {
            "text/plain": [
              "array([ 0,  1,  2,  3,  4,  5,  6,  7,  8,  9, 10, 11, 12, 13, 14])"
            ]
          },
          "metadata": {},
          "execution_count": 16
        }
      ],
      "source": [
        "np.unique(y)"
      ]
    },
    {
      "cell_type": "markdown",
      "source": [
        "# Preparing for modeling "
      ],
      "metadata": {
        "id": "4gqEol0DLV4A"
      }
    },
    {
      "cell_type": "code",
      "source": [
        "from tqdm import tqdm\n",
        "\n",
        "from keras.preprocessing.text import Tokenizer\n",
        "from keras.preprocessing.sequence import pad_sequences"
      ],
      "metadata": {
        "id": "KRUFz8GELc5Q"
      },
      "execution_count": 17,
      "outputs": []
    },
    {
      "cell_type": "code",
      "source": [
        "token = Tokenizer()"
      ],
      "metadata": {
        "id": "25E8P4W6LT70"
      },
      "execution_count": 18,
      "outputs": []
    },
    {
      "cell_type": "code",
      "source": [
        "token.fit_on_texts(X)\n",
        "seq = token.texts_to_sequences(X)"
      ],
      "metadata": {
        "id": "m65Y2jWFLZB7"
      },
      "execution_count": 19,
      "outputs": []
    },
    {
      "cell_type": "code",
      "source": [
        "len(token.word_index)"
      ],
      "metadata": {
        "colab": {
          "base_uri": "https://localhost:8080/"
        },
        "id": "6dp2lL6TMNZG",
        "outputId": "ca77d203-35f9-426d-ff5d-7a7ac9590fa8"
      },
      "execution_count": 20,
      "outputs": [
        {
          "output_type": "execute_result",
          "data": {
            "text/plain": [
              "58761"
            ]
          },
          "metadata": {},
          "execution_count": 20
        }
      ]
    },
    {
      "cell_type": "code",
      "source": [
        "vocab_size = len(token.word_index)+1    #OOV token"
      ],
      "metadata": {
        "id": "baru0DXpMMVu"
      },
      "execution_count": 21,
      "outputs": []
    },
    {
      "cell_type": "code",
      "source": [
        "l_seq = map(lambda x: len(x), seq)\n",
        "max(l_seq)"
      ],
      "metadata": {
        "colab": {
          "base_uri": "https://localhost:8080/"
        },
        "id": "XZcSQSj5L93g",
        "outputId": "e20bc95f-2e68-4288-bc29-f204a64d619d"
      },
      "execution_count": 22,
      "outputs": [
        {
          "output_type": "execute_result",
          "data": {
            "text/plain": [
              "1791"
            ]
          },
          "metadata": {},
          "execution_count": 22
        }
      ]
    },
    {
      "cell_type": "code",
      "source": [
        "pad_seq = pad_sequences(seq, maxlen=1791)"
      ],
      "metadata": {
        "id": "53LzkPQZMA4Z"
      },
      "execution_count": 23,
      "outputs": []
    },
    {
      "cell_type": "code",
      "execution_count": 24,
      "metadata": {
        "id": "HCdz0m_cspOo"
      },
      "outputs": [],
      "source": [
        "# Splitting the data\n",
        "from sklearn.model_selection import train_test_split\n",
        "\n",
        "X_train, X_val, y_train, y_val = train_test_split(pad_seq, y, test_size = 0.2, random_state = 42)"
      ]
    },
    {
      "cell_type": "code",
      "execution_count": 25,
      "metadata": {
        "colab": {
          "base_uri": "https://localhost:8080/"
        },
        "id": "FC49gEmus2Ql",
        "outputId": "eec037b2-14d1-4358-c18d-5d0bb794b716"
      },
      "outputs": [
        {
          "output_type": "execute_result",
          "data": {
            "text/plain": [
              "((27928, 1791), (6983, 1791))"
            ]
          },
          "metadata": {},
          "execution_count": 25
        }
      ],
      "source": [
        "X_train.shape, X_val.shape"
      ]
    },
    {
      "cell_type": "code",
      "source": [
        "embedding_vector = {}\n",
        "with open('glove.840B.300d/glove.840B.300d.txt') as f:\n",
        "    for line in tqdm(f):\n",
        "        value = line.split(' ')\n",
        "        word = value[0]\n",
        "        coef = np.array(value[1:],dtype = 'float32')\n",
        "        embedding_vector[word] = coef"
      ],
      "metadata": {
        "id": "uTi7BSNpRth5",
        "colab": {
          "base_uri": "https://localhost:8080/"
        },
        "outputId": "dc51e74a-1224-4aec-bd23-8012b39214cb"
      },
      "execution_count": 26,
      "outputs": [
        {
          "output_type": "stream",
          "name": "stderr",
          "text": [
            "2196017it [02:55, 12504.68it/s]\n"
          ]
        }
      ]
    },
    {
      "cell_type": "code",
      "source": [
        "embedding_matrix = np.zeros((vocab_size, 300))\n",
        "for word, idx in tqdm(token.word_index.items()):\n",
        "    embedding_value = embedding_vector.get(word)\n",
        "    if embedding_value is not None:\n",
        "        embedding_matrix[idx] = embedding_value"
      ],
      "metadata": {
        "colab": {
          "base_uri": "https://localhost:8080/"
        },
        "id": "cP-yrRwJVb4B",
        "outputId": "4b169d88-0f47-48f8-b275-75e5a50be3ba"
      },
      "execution_count": 27,
      "outputs": [
        {
          "output_type": "stream",
          "name": "stderr",
          "text": [
            "100%|██████████| 58761/58761 [00:00<00:00, 392022.02it/s]\n"
          ]
        }
      ]
    },
    {
      "cell_type": "markdown",
      "metadata": {
        "id": "bcUUtSEas7iD"
      },
      "source": [
        "# Modeling"
      ]
    },
    {
      "cell_type": "code",
      "execution_count": 28,
      "metadata": {
        "id": "U8ykykQos4Q5"
      },
      "outputs": [],
      "source": [
        "import tensorflow as tf\n",
        "from keras.models import Sequential\n",
        "from keras.layers import Embedding, LSTM, Dense, Dropout, Bidirectional\n",
        "from keras.callbacks import EarlyStopping #ModelCheckpoint, Callback, "
      ]
    },
    {
      "cell_type": "code",
      "source": [
        "model = Sequential()\n",
        "model.add(Embedding(vocab_size, 300, weights=[embedding_matrix], input_length=1791, trainable = False))\n",
        "model.add(Bidirectional(LSTM(128)))\n",
        "model.add(Dense(64,activation = 'relu'))\n",
        "model.add(Dropout(0.2))\n",
        "model.add(Dense(32,activation = 'relu'))\n",
        "model.add(Dropout(0.2))\n",
        "model.add(Dense(15,activation = 'softmax'))"
      ],
      "metadata": {
        "id": "OLmTB0irtxeC"
      },
      "execution_count": 33,
      "outputs": []
    },
    {
      "cell_type": "code",
      "source": [
        "model.compile(optimizer='adam', loss='sparse_categorical_crossentropy', metrics=['accuracy'])"
      ],
      "metadata": {
        "id": "NJxde1sUWrMc"
      },
      "execution_count": 34,
      "outputs": []
    },
    {
      "cell_type": "code",
      "source": [
        "early = EarlyStopping(monitor=\"val_accuracy\", mode='max', patience=5, restore_best_weights=True)"
      ],
      "metadata": {
        "id": "dK6JlhfrbyjE"
      },
      "execution_count": 35,
      "outputs": []
    },
    {
      "cell_type": "code",
      "source": [
        "history = model.fit(X_train, y_train, validation_data=(X_val, y_val), epochs = 50, batch_size=256, callbacks=[early]) "
      ],
      "metadata": {
        "colab": {
          "base_uri": "https://localhost:8080/"
        },
        "id": "GQNhQ9uBW4B7",
        "outputId": "5772527f-0542-4b41-d70a-136360b974ee"
      },
      "execution_count": 36,
      "outputs": [
        {
          "output_type": "stream",
          "name": "stdout",
          "text": [
            "Epoch 1/50\n",
            "110/110 [==============================] - 141s 1s/step - loss: 1.6724 - accuracy: 0.5199 - val_loss: 1.0835 - val_accuracy: 0.7014\n",
            "Epoch 2/50\n",
            "110/110 [==============================] - 132s 1s/step - loss: 1.0108 - accuracy: 0.7297 - val_loss: 0.8629 - val_accuracy: 0.7659\n",
            "Epoch 3/50\n",
            "110/110 [==============================] - 132s 1s/step - loss: 0.8188 - accuracy: 0.7927 - val_loss: 0.6857 - val_accuracy: 0.8157\n",
            "Epoch 4/50\n",
            "110/110 [==============================] - 132s 1s/step - loss: 0.7107 - accuracy: 0.8192 - val_loss: 0.6372 - val_accuracy: 0.8296\n",
            "Epoch 5/50\n",
            "110/110 [==============================] - 131s 1s/step - loss: 0.6944 - accuracy: 0.8163 - val_loss: 0.6192 - val_accuracy: 0.8317\n",
            "Epoch 6/50\n",
            "110/110 [==============================] - 131s 1s/step - loss: 0.6037 - accuracy: 0.8398 - val_loss: 0.5651 - val_accuracy: 0.8448\n",
            "Epoch 7/50\n",
            "110/110 [==============================] - 131s 1s/step - loss: 0.5664 - accuracy: 0.8482 - val_loss: 0.5216 - val_accuracy: 0.8555\n",
            "Epoch 8/50\n",
            "110/110 [==============================] - 131s 1s/step - loss: 0.5068 - accuracy: 0.8614 - val_loss: 0.5017 - val_accuracy: 0.8621\n",
            "Epoch 9/50\n",
            "110/110 [==============================] - 131s 1s/step - loss: 0.4539 - accuracy: 0.8761 - val_loss: 0.4600 - val_accuracy: 0.8725\n",
            "Epoch 10/50\n",
            "110/110 [==============================] - 131s 1s/step - loss: 0.4209 - accuracy: 0.8843 - val_loss: 0.4606 - val_accuracy: 0.8776\n",
            "Epoch 11/50\n",
            "110/110 [==============================] - 131s 1s/step - loss: 0.4005 - accuracy: 0.8913 - val_loss: 0.4243 - val_accuracy: 0.8831\n",
            "Epoch 12/50\n",
            "110/110 [==============================] - 131s 1s/step - loss: 0.3643 - accuracy: 0.8989 - val_loss: 0.4113 - val_accuracy: 0.8880\n",
            "Epoch 13/50\n",
            "110/110 [==============================] - 131s 1s/step - loss: 0.3428 - accuracy: 0.9044 - val_loss: 0.4109 - val_accuracy: 0.8919\n",
            "Epoch 14/50\n",
            "110/110 [==============================] - 131s 1s/step - loss: 0.3245 - accuracy: 0.9082 - val_loss: 0.3961 - val_accuracy: 0.8950\n",
            "Epoch 15/50\n",
            "110/110 [==============================] - 131s 1s/step - loss: 0.2949 - accuracy: 0.9195 - val_loss: 0.4031 - val_accuracy: 0.8906\n",
            "Epoch 16/50\n",
            "110/110 [==============================] - 131s 1s/step - loss: 0.2586 - accuracy: 0.9270 - val_loss: 0.3926 - val_accuracy: 0.8969\n",
            "Epoch 17/50\n",
            "110/110 [==============================] - 131s 1s/step - loss: 0.2411 - accuracy: 0.9314 - val_loss: 0.3711 - val_accuracy: 0.9045\n",
            "Epoch 18/50\n",
            "110/110 [==============================] - 131s 1s/step - loss: 0.2087 - accuracy: 0.9415 - val_loss: 0.3673 - val_accuracy: 0.9072\n",
            "Epoch 19/50\n",
            "110/110 [==============================] - 131s 1s/step - loss: 0.2040 - accuracy: 0.9413 - val_loss: 0.3869 - val_accuracy: 0.9002\n",
            "Epoch 20/50\n",
            "110/110 [==============================] - 131s 1s/step - loss: 0.1926 - accuracy: 0.9459 - val_loss: 0.3717 - val_accuracy: 0.9023\n",
            "Epoch 21/50\n",
            "110/110 [==============================] - 131s 1s/step - loss: 0.1681 - accuracy: 0.9520 - val_loss: 0.3843 - val_accuracy: 0.9086\n",
            "Epoch 22/50\n",
            "110/110 [==============================] - 131s 1s/step - loss: 0.1554 - accuracy: 0.9556 - val_loss: 0.3745 - val_accuracy: 0.9068\n",
            "Epoch 23/50\n",
            "110/110 [==============================] - 131s 1s/step - loss: 0.1424 - accuracy: 0.9593 - val_loss: 0.3794 - val_accuracy: 0.9072\n",
            "Epoch 24/50\n",
            "110/110 [==============================] - 131s 1s/step - loss: 0.1359 - accuracy: 0.9604 - val_loss: 0.3892 - val_accuracy: 0.9132\n",
            "Epoch 25/50\n",
            "110/110 [==============================] - 131s 1s/step - loss: 0.1162 - accuracy: 0.9671 - val_loss: 0.4164 - val_accuracy: 0.9112\n",
            "Epoch 26/50\n",
            "110/110 [==============================] - 131s 1s/step - loss: 0.1001 - accuracy: 0.9716 - val_loss: 0.3999 - val_accuracy: 0.9116\n",
            "Epoch 27/50\n",
            "110/110 [==============================] - 131s 1s/step - loss: 0.1039 - accuracy: 0.9692 - val_loss: 0.4202 - val_accuracy: 0.9122\n",
            "Epoch 28/50\n",
            "110/110 [==============================] - 131s 1s/step - loss: 0.1012 - accuracy: 0.9711 - val_loss: 0.3787 - val_accuracy: 0.9155\n",
            "Epoch 29/50\n",
            "110/110 [==============================] - 131s 1s/step - loss: 0.0934 - accuracy: 0.9735 - val_loss: 0.4149 - val_accuracy: 0.9088\n",
            "Epoch 30/50\n",
            "110/110 [==============================] - 131s 1s/step - loss: 0.0818 - accuracy: 0.9760 - val_loss: 0.4237 - val_accuracy: 0.9145\n",
            "Epoch 31/50\n",
            "110/110 [==============================] - 131s 1s/step - loss: 0.0600 - accuracy: 0.9828 - val_loss: 0.4304 - val_accuracy: 0.9208\n",
            "Epoch 32/50\n",
            "110/110 [==============================] - 131s 1s/step - loss: 0.0547 - accuracy: 0.9837 - val_loss: 0.4432 - val_accuracy: 0.9181\n",
            "Epoch 33/50\n",
            "110/110 [==============================] - 131s 1s/step - loss: 0.0534 - accuracy: 0.9842 - val_loss: 0.4653 - val_accuracy: 0.9162\n",
            "Epoch 34/50\n",
            "110/110 [==============================] - 131s 1s/step - loss: 0.0442 - accuracy: 0.9872 - val_loss: 0.4446 - val_accuracy: 0.9214\n",
            "Epoch 35/50\n",
            "110/110 [==============================] - 131s 1s/step - loss: 0.0553 - accuracy: 0.9833 - val_loss: 0.4797 - val_accuracy: 0.9189\n",
            "Epoch 36/50\n",
            "110/110 [==============================] - 131s 1s/step - loss: 0.0539 - accuracy: 0.9850 - val_loss: 0.4534 - val_accuracy: 0.9092\n",
            "Epoch 37/50\n",
            "110/110 [==============================] - 131s 1s/step - loss: 0.0551 - accuracy: 0.9837 - val_loss: 0.4471 - val_accuracy: 0.9225\n",
            "Epoch 38/50\n",
            "110/110 [==============================] - 131s 1s/step - loss: 0.0430 - accuracy: 0.9876 - val_loss: 0.4838 - val_accuracy: 0.9227\n",
            "Epoch 39/50\n",
            "110/110 [==============================] - 131s 1s/step - loss: 0.0309 - accuracy: 0.9911 - val_loss: 0.4826 - val_accuracy: 0.9234\n",
            "Epoch 40/50\n",
            "110/110 [==============================] - 131s 1s/step - loss: 0.0258 - accuracy: 0.9924 - val_loss: 0.5147 - val_accuracy: 0.9258\n",
            "Epoch 41/50\n",
            "110/110 [==============================] - 131s 1s/step - loss: 0.0362 - accuracy: 0.9902 - val_loss: 0.5135 - val_accuracy: 0.9179\n",
            "Epoch 42/50\n",
            "110/110 [==============================] - 131s 1s/step - loss: 0.0276 - accuracy: 0.9922 - val_loss: 0.5329 - val_accuracy: 0.9215\n",
            "Epoch 43/50\n",
            "110/110 [==============================] - 131s 1s/step - loss: 0.0266 - accuracy: 0.9920 - val_loss: 0.5281 - val_accuracy: 0.9257\n",
            "Epoch 44/50\n",
            "110/110 [==============================] - 131s 1s/step - loss: 0.0310 - accuracy: 0.9913 - val_loss: 0.5424 - val_accuracy: 0.9224\n",
            "Epoch 45/50\n",
            "110/110 [==============================] - 131s 1s/step - loss: 0.0544 - accuracy: 0.9850 - val_loss: 0.4913 - val_accuracy: 0.9182\n"
          ]
        }
      ]
    },
    {
      "cell_type": "code",
      "execution_count": 37,
      "metadata": {
        "id": "odcPwx0rtmER"
      },
      "outputs": [],
      "source": [
        "from sklearn.metrics import accuracy_score, roc_auc_score, precision_score, recall_score, f1_score\n",
        "\n",
        "columns = ['Accuracy', 'Precision-MacroAVG', 'Precision-WeightedAVG', 'Recall-MacroAVG', 'Recall-WeightedAVG', \n",
        "           'F1_score-MacroAVG','F1_score-WeightedAVG']\n",
        "\n",
        "y_pred = model.predict(X_val)\n",
        "y_pred = np.argmax(y_pred, axis=1)\n",
        "\n",
        "record = {}\n",
        "record['Accuracy'] = accuracy_score(y_val, y_pred)*100\n",
        "record['Precision-MacroAVG'] = precision_score(y_val, y_pred, average='macro')*100\n",
        "record['Precision-WeightedAVG'] = precision_score(y_val, y_pred, average='weighted')*100\n",
        "record['Recall-MacroAVG'] = recall_score(y_val, y_pred, average='macro')*100\n",
        "record['Recall-WeightedAVG'] = recall_score(y_val, y_pred, average='weighted')*100\n",
        "record['F1_score-MacroAVG'] = f1_score(y_val, y_pred, average='macro')*100\n",
        "record['F1_score-WeightedAVG'] = f1_score(y_val, y_pred, average='weighted')*100\n",
        "\n",
        "results = pd.Series(record, index=columns)"
      ]
    },
    {
      "cell_type": "code",
      "execution_count": 38,
      "metadata": {
        "colab": {
          "base_uri": "https://localhost:8080/"
        },
        "id": "50aMbsKHHT1R",
        "outputId": "9c3251ac-d7ee-4518-d069-823e6fa35a69"
      },
      "outputs": [
        {
          "output_type": "execute_result",
          "data": {
            "text/plain": [
              "Accuracy                 92.581985\n",
              "Precision-MacroAVG       87.568073\n",
              "Precision-WeightedAVG    92.731386\n",
              "Recall-MacroAVG          87.792831\n",
              "Recall-WeightedAVG       92.581985\n",
              "F1_score-MacroAVG        87.577422\n",
              "F1_score-WeightedAVG     92.596061\n",
              "dtype: float64"
            ]
          },
          "metadata": {},
          "execution_count": 38
        }
      ],
      "source": [
        "results"
      ]
    },
    {
      "cell_type": "code",
      "execution_count": 39,
      "metadata": {
        "id": "Vj80xhQ8ICSh"
      },
      "outputs": [],
      "source": [
        "model.save('DeepApproach.h5')"
      ]
    },
    {
      "cell_type": "markdown",
      "metadata": {
        "id": "6iRF9wHh8isg"
      },
      "source": [
        "# Testing on test_data"
      ]
    },
    {
      "cell_type": "code",
      "execution_count": 40,
      "metadata": {
        "id": "dj9_KHpbbkFY"
      },
      "outputs": [],
      "source": [
        "test_data = pd.read_csv('test_in_kag_org.csv')"
      ]
    },
    {
      "cell_type": "code",
      "execution_count": 41,
      "metadata": {
        "colab": {
          "base_uri": "https://localhost:8080/"
        },
        "id": "yj9X0ocpbyXD",
        "outputId": "c029a3e2-d670-4e60-894c-fcbfd35c6b99"
      },
      "outputs": [
        {
          "output_type": "execute_result",
          "data": {
            "text/plain": [
              "(6501, 4)"
            ]
          },
          "metadata": {},
          "execution_count": 41
        }
      ],
      "source": [
        "test_data.shape"
      ]
    },
    {
      "cell_type": "code",
      "execution_count": 42,
      "metadata": {
        "colab": {
          "base_uri": "https://localhost:8080/"
        },
        "id": "wk8Fmr0lbyXE",
        "outputId": "89326e76-38d8-4b7e-d331-c756698bd238"
      },
      "outputs": [
        {
          "output_type": "execute_result",
          "data": {
            "text/plain": [
              "title         0\n",
              "text          0\n",
              "title_text    0\n",
              "label         0\n",
              "dtype: int64"
            ]
          },
          "metadata": {},
          "execution_count": 42
        }
      ],
      "source": [
        "test_data.isnull().sum()"
      ]
    },
    {
      "cell_type": "code",
      "execution_count": 43,
      "metadata": {
        "id": "Rv1JGvYbbyXH"
      },
      "outputs": [],
      "source": [
        "test_data.drop(columns=['title', 'text'], inplace=True)"
      ]
    },
    {
      "cell_type": "markdown",
      "metadata": {
        "id": "MpBjhsx8byXI"
      },
      "source": [
        "# Preparing our data for modeling "
      ]
    },
    {
      "cell_type": "code",
      "execution_count": 44,
      "metadata": {
        "id": "ZwBgz1hjbyXK"
      },
      "outputs": [],
      "source": [
        "# # text\n",
        "# text_corpus_test = []\n",
        "# lm = WordNetLemmatizer()\n",
        "# words = stopwords.words('english')\n",
        "\n",
        "# for i in range(test_data.shape[0]):\n",
        "#     row = re.sub('[^a-zA-Z\\s]', '', test_data.iloc[i, 0]).lower()\n",
        "#     row = row.split()  \n",
        "#     row = [lm.lemmatize(word) for word in row if word not in words]\n",
        "#     row = ' '.join(row)\n",
        "#     text_corpus_test.append(row)"
      ]
    },
    {
      "cell_type": "code",
      "execution_count": 45,
      "metadata": {
        "id": "KwUAV1BkbyXK"
      },
      "outputs": [],
      "source": [
        "# len(text_corpus_test)"
      ]
    },
    {
      "cell_type": "code",
      "execution_count": 46,
      "metadata": {
        "id": "4d2-H7uXbyXK"
      },
      "outputs": [],
      "source": [
        "# text_corpus_test[0]"
      ]
    },
    {
      "cell_type": "markdown",
      "metadata": {
        "id": "aeW6wftSbyXK"
      },
      "source": [
        "_Our Bag of Words_"
      ]
    },
    {
      "cell_type": "code",
      "execution_count": 54,
      "metadata": {
        "id": "11nCp5SmbyXL"
      },
      "outputs": [],
      "source": [
        "# X_text_test = token.texts_to_sequences(text_corpus_test)\n",
        "X_text_test = token.texts_to_sequences(test_data.iloc[:, 0].values)\n",
        "pad_seq_test = pad_sequences(X_text_test, maxlen=1791)"
      ]
    },
    {
      "cell_type": "code",
      "execution_count": 55,
      "metadata": {
        "id": "VbmRqR09byXM"
      },
      "outputs": [],
      "source": [
        "X_test = pad_seq_test.copy()\n",
        "y_test = test_data.iloc[:, 1].values"
      ]
    },
    {
      "cell_type": "code",
      "execution_count": 56,
      "metadata": {
        "colab": {
          "base_uri": "https://localhost:8080/"
        },
        "id": "VG0yGQSbbyXM",
        "outputId": "34febf8c-e335-4812-8e7d-80b94d4f958f"
      },
      "outputs": [
        {
          "output_type": "execute_result",
          "data": {
            "text/plain": [
              "((6501, 1791), (6501,))"
            ]
          },
          "metadata": {},
          "execution_count": 56
        }
      ],
      "source": [
        "X_test.shape, y_test.shape"
      ]
    },
    {
      "cell_type": "code",
      "execution_count": 57,
      "metadata": {
        "id": "xpeUXOpmbyXM"
      },
      "outputs": [],
      "source": [
        "y_test = le.transform(y_test)"
      ]
    },
    {
      "cell_type": "code",
      "execution_count": 58,
      "metadata": {
        "colab": {
          "base_uri": "https://localhost:8080/"
        },
        "id": "lmCHJOIgbyXM",
        "outputId": "06145596-636f-4399-a1e8-e1520687e990"
      },
      "outputs": [
        {
          "output_type": "execute_result",
          "data": {
            "text/plain": [
              "array([ 0,  1,  2,  3,  4,  5,  6,  7,  8,  9, 10, 11, 12, 13, 14])"
            ]
          },
          "metadata": {},
          "execution_count": 58
        }
      ],
      "source": [
        "np.unique(y_test)"
      ]
    },
    {
      "cell_type": "code",
      "execution_count": 59,
      "metadata": {
        "id": "Ld8slHDRc7XJ",
        "colab": {
          "base_uri": "https://localhost:8080/"
        },
        "outputId": "6bea7a19-b4a1-4f79-8044-a9765ba7b23b"
      },
      "outputs": [
        {
          "output_type": "execute_result",
          "data": {
            "text/plain": [
              "<keras.engine.sequential.Sequential at 0x7f364fbcef90>"
            ]
          },
          "metadata": {},
          "execution_count": 59
        }
      ],
      "source": [
        "tf.keras.models.load_model('DeepApproach.h5')"
      ]
    },
    {
      "cell_type": "code",
      "execution_count": 60,
      "metadata": {
        "colab": {
          "base_uri": "https://localhost:8080/"
        },
        "id": "kJ7917FybyXO",
        "outputId": "65f50d29-a141-4201-bd44-a54c14b9cc3a"
      },
      "outputs": [
        {
          "output_type": "execute_result",
          "data": {
            "text/plain": [
              "Accuracy                 90.416859\n",
              "Precision-MacroAVG       67.099412\n",
              "Precision-WeightedAVG    90.813350\n",
              "Recall-MacroAVG          70.025822\n",
              "Recall-WeightedAVG       90.416859\n",
              "F1_score-MacroAVG        68.169415\n",
              "F1_score-WeightedAVG     90.523898\n",
              "dtype: float64"
            ]
          },
          "metadata": {},
          "execution_count": 60
        }
      ],
      "source": [
        "y_pred = model.predict(X_test)\n",
        "y_pred = np.argmax(y_pred, axis=1)\n",
        "\n",
        "record = {}\n",
        "record['Accuracy'] = accuracy_score(y_test, y_pred)*100\n",
        "record['Precision-MacroAVG'] = precision_score(y_test, y_pred, average='macro')*100\n",
        "record['Precision-WeightedAVG'] = precision_score(y_test, y_pred, average='weighted')*100\n",
        "record['Recall-MacroAVG'] = recall_score(y_test, y_pred, average='macro')*100\n",
        "record['Recall-WeightedAVG'] = recall_score(y_test, y_pred, average='weighted')*100\n",
        "record['F1_score-MacroAVG'] = f1_score(y_test, y_pred, average='macro')*100\n",
        "record['F1_score-WeightedAVG'] = f1_score(y_test, y_pred, average='weighted')*100\n",
        "\n",
        "results = pd.Series(record, index=columns)\n",
        "results"
      ]
    },
    {
      "cell_type": "code",
      "source": [
        ""
      ],
      "metadata": {
        "id": "sRPT57FngQF_"
      },
      "execution_count": null,
      "outputs": []
    }
  ],
  "metadata": {
    "colab": {
      "name": "DeepCode_v4.ipynb",
      "provenance": []
    },
    "kernelspec": {
      "display_name": "Python 3",
      "language": "python",
      "name": "python3"
    },
    "language_info": {
      "codemirror_mode": {
        "name": "ipython",
        "version": 3
      },
      "file_extension": ".py",
      "mimetype": "text/x-python",
      "name": "python",
      "nbconvert_exporter": "python",
      "pygments_lexer": "ipython3",
      "version": "3.8.8"
    },
    "accelerator": "GPU"
  },
  "nbformat": 4,
  "nbformat_minor": 0
}