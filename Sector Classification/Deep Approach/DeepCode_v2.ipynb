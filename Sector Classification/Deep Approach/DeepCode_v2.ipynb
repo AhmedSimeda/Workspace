{
  "cells": [
    {
      "cell_type": "code",
      "source": [
        "!pip install kaggle\n",
        "!mkdir ~/.kaggle\n",
        "!cp kaggle.json ~/.kaggle/\n",
        "!chmod 600 ~/.kaggle/kaggle.json"
      ],
      "metadata": {
        "colab": {
          "base_uri": "https://localhost:8080/"
        },
        "id": "a1HhHMCWTWff",
        "outputId": "a516907a-7074-4ca3-a60f-8cad2aac80d4"
      },
      "execution_count": 1,
      "outputs": [
        {
          "output_type": "stream",
          "name": "stdout",
          "text": [
            "Requirement already satisfied: kaggle in /usr/local/lib/python3.7/dist-packages (1.5.12)\n",
            "Requirement already satisfied: six>=1.10 in /usr/local/lib/python3.7/dist-packages (from kaggle) (1.15.0)\n",
            "Requirement already satisfied: python-slugify in /usr/local/lib/python3.7/dist-packages (from kaggle) (6.1.0)\n",
            "Requirement already satisfied: requests in /usr/local/lib/python3.7/dist-packages (from kaggle) (2.23.0)\n",
            "Requirement already satisfied: python-dateutil in /usr/local/lib/python3.7/dist-packages (from kaggle) (2.8.2)\n",
            "Requirement already satisfied: certifi in /usr/local/lib/python3.7/dist-packages (from kaggle) (2021.10.8)\n",
            "Requirement already satisfied: tqdm in /usr/local/lib/python3.7/dist-packages (from kaggle) (4.62.3)\n",
            "Requirement already satisfied: urllib3 in /usr/local/lib/python3.7/dist-packages (from kaggle) (1.24.3)\n",
            "Requirement already satisfied: text-unidecode>=1.3 in /usr/local/lib/python3.7/dist-packages (from python-slugify->kaggle) (1.3)\n",
            "Requirement already satisfied: chardet<4,>=3.0.2 in /usr/local/lib/python3.7/dist-packages (from requests->kaggle) (3.0.4)\n",
            "Requirement already satisfied: idna<3,>=2.5 in /usr/local/lib/python3.7/dist-packages (from requests->kaggle) (2.10)\n"
          ]
        }
      ]
    },
    {
      "cell_type": "code",
      "source": [
        "# glove embedding\n",
        "!kaggle competitions download -c quora-insincere-questions-classification"
      ],
      "metadata": {
        "colab": {
          "base_uri": "https://localhost:8080/"
        },
        "id": "BYQ5GKUtTY8t",
        "outputId": "13562157-aa43-46b8-f8d3-616300cb1aad"
      },
      "execution_count": 2,
      "outputs": [
        {
          "output_type": "stream",
          "name": "stdout",
          "text": [
            "Warning: Looks like you're using an outdated API Version, please consider updating (server 1.5.12 / client 1.5.4)\n",
            "Downloading train.csv.zip to /content\n",
            " 75% 41.0M/54.9M [00:00<00:00, 54.9MB/s]\n",
            "100% 54.9M/54.9M [00:00<00:00, 139MB/s] \n",
            "Downloading sample_submission.csv.zip to /content\n",
            "100% 4.09M/4.09M [00:00<00:00, 41.9MB/s]\n",
            "\n",
            "Downloading embeddings.zip to /content\n",
            "100% 5.94G/5.96G [00:49<00:00, 163MB/s]\n",
            "100% 5.96G/5.96G [00:49<00:00, 130MB/s]\n",
            "Downloading test.csv.zip to /content\n",
            " 32% 5.00M/15.8M [00:00<00:00, 24.7MB/s]\n",
            "100% 15.8M/15.8M [00:00<00:00, 60.3MB/s]\n"
          ]
        }
      ]
    },
    {
      "cell_type": "code",
      "source": [
        "!unzip /content/embeddings.zip > /dev/null"
      ],
      "metadata": {
        "id": "nXFW-8z4UFro"
      },
      "execution_count": 3,
      "outputs": []
    },
    {
      "cell_type": "markdown",
      "metadata": {
        "id": "uT7OEo0sZbwm"
      },
      "source": [
        "# Exploring and Cleaning the data"
      ]
    },
    {
      "cell_type": "code",
      "execution_count": 4,
      "metadata": {
        "id": "t8-UEaOYSQ0p"
      },
      "outputs": [],
      "source": [
        "import pandas as pd\n",
        "import numpy as np\n",
        "\n",
        "import matplotlib.pyplot as plt\n",
        "import seaborn as sns\n",
        "\n",
        "pd.set_option('display.max_colwidth', None)\n",
        "\n",
        "import warnings\n",
        "warnings.filterwarnings(\"ignore\")"
      ]
    },
    {
      "cell_type": "code",
      "execution_count": 5,
      "metadata": {
        "id": "tUALIVo2ZfYR"
      },
      "outputs": [],
      "source": [
        "data = pd.read_csv('train_aug_in_kag_org.csv')"
      ]
    },
    {
      "cell_type": "code",
      "execution_count": 6,
      "metadata": {
        "colab": {
          "base_uri": "https://localhost:8080/",
          "height": 1000
        },
        "id": "UTp9GwGaaCDg",
        "outputId": "932a8e5a-3818-46d8-aec3-c143181f522b"
      },
      "outputs": [
        {
          "output_type": "execute_result",
          "data": {
            "text/html": [
              "\n",
              "  <div id=\"df-e290a3d6-0117-4fe2-aa17-0d5dfbc8593c\">\n",
              "    <div class=\"colab-df-container\">\n",
              "      <div>\n",
              "<style scoped>\n",
              "    .dataframe tbody tr th:only-of-type {\n",
              "        vertical-align: middle;\n",
              "    }\n",
              "\n",
              "    .dataframe tbody tr th {\n",
              "        vertical-align: top;\n",
              "    }\n",
              "\n",
              "    .dataframe thead th {\n",
              "        text-align: right;\n",
              "    }\n",
              "</style>\n",
              "<table border=\"1\" class=\"dataframe\">\n",
              "  <thead>\n",
              "    <tr style=\"text-align: right;\">\n",
              "      <th></th>\n",
              "      <th>title</th>\n",
              "      <th>text</th>\n",
              "      <th>title_text</th>\n",
              "      <th>label</th>\n",
              "    </tr>\n",
              "  </thead>\n",
              "  <tbody>\n",
              "    <tr>\n",
              "      <th>0</th>\n",
              "      <td>squirrel financial wellbeing</td>\n",
              "      <td>A Squirrel account makes it easy to stick to your budget and save. Start for free today!</td>\n",
              "      <td>squirrel financial wellbeing. A Squirrel account makes it easy to stick to your budget and save. Start for free today!</td>\n",
              "      <td>payment-credit-card-balance-euro-dollars-credit-debit-receipt-billing</td>\n",
              "    </tr>\n",
              "    <tr>\n",
              "      <th>1</th>\n",
              "      <td>senior insurance marketing</td>\n",
              "      <td>Welcome to the home page of Senior Insurance Marketing, a full service brokerage specializing in Medicare and senior insurance products.  Located in Lincoln, NE.</td>\n",
              "      <td>senior insurance marketing. Welcome to the home page of Senior Insurance Marketing, a full service brokerage specializing in Medicare and senior insurance products.  Located in Lincoln, NE.</td>\n",
              "      <td>payment-credit-card-balance-euro-dollars-credit-debit-receipt-billing</td>\n",
              "    </tr>\n",
              "    <tr>\n",
              "      <th>2</th>\n",
              "      <td>3i financial group inc.</td>\n",
              "      <td>A Small Boutique Firm Dedicated to Achieving Our Clients Goals.#sep#inform.invest.insure Get a Free, No Obligation Quote forAllYour Insurance Needs. 3i Financial offers a wide variety of insurance products to help suit your needs. Choose from individual, family, and group. GET A QUOTE TODAY Travel Insurance Get peace of mind with comprehensive travel insurance. Get a free quote today! Health &amp; Dental Get affordable health  Read more</td>\n",
              "      <td>3i financial group inc.. A Small Boutique Firm Dedicated to Achieving Our Clients Goals.#sep#inform.invest.insure Get a Free, No Obligation Quote forAllYour Insurance Needs. 3i Financial offers a wide variety of insurance products to help suit your needs. Choose from individual, family, and group. GET A QUOTE TODAY Travel Insurance Get peace of mind with comprehensive travel insurance. Get a free quote today! Health &amp; Dental Get affordable health  Read more</td>\n",
              "      <td>payment-credit-card-balance-euro-dollars-credit-debit-receipt-billing</td>\n",
              "    </tr>\n",
              "    <tr>\n",
              "      <th>3</th>\n",
              "      <td>brownstone insurance</td>\n",
              "      <td>Brownstone Insurance provides master insurance policies for multi-unit buildings throughout Massachusetts, as well as personal insurance products such as renter's insurance and homeowner's insurance.#sep#Brownstone Insurance provides master insurance policies for multi-unit \\nbuildings throughout Massachusetts, as well as personal insurance products \\nsuch as renter's insurance and homeowner's insurance.</td>\n",
              "      <td>brownstone insurance. Brownstone Insurance provides master insurance policies for multi-unit buildings throughout Massachusetts, as well as personal insurance products such as renter's insurance and homeowner's insurance.#sep#Brownstone Insurance provides master insurance policies for multi-unit \\nbuildings throughout Massachusetts, as well as personal insurance products \\nsuch as renter's insurance and homeowner's insurance.</td>\n",
              "      <td>payment-credit-card-balance-euro-dollars-credit-debit-receipt-billing</td>\n",
              "    </tr>\n",
              "    <tr>\n",
              "      <th>4</th>\n",
              "      <td>pacificwide lending</td>\n",
              "      <td>Learn more about Pacificwide Lending and our commercial &amp; residential loan services in California.</td>\n",
              "      <td>pacificwide lending. Learn more about Pacificwide Lending and our commercial &amp; residential loan services in California.</td>\n",
              "      <td>payment-credit-card-balance-euro-dollars-credit-debit-receipt-billing</td>\n",
              "    </tr>\n",
              "    <tr>\n",
              "      <th>5</th>\n",
              "      <td>city auto finance</td>\n",
              "      <td>City Auto Finance is the Southeast's most trusted used-car floor plan financing company with locations in Memphis, TN; Mobile, AL; Huntsville, AL and Murfreesboro, TN. We provide you with competitive rates and the capability to make payments online.</td>\n",
              "      <td>city auto finance. City Auto Finance is the Southeast's most trusted used-car floor plan financing company with locations in Memphis, TN; Mobile, AL; Huntsville, AL and Murfreesboro, TN. We provide you with competitive rates and the capability to make payments online.</td>\n",
              "      <td>payment-credit-card-balance-euro-dollars-credit-debit-receipt-billing</td>\n",
              "    </tr>\n",
              "    <tr>\n",
              "      <th>6</th>\n",
              "      <td>veterans financial, inc.</td>\n",
              "      <td>VA Aid and Attendance benefit can help pay for assisted living, home care or nursing home. Veterans Financial Inc can advise you at no cost about benefits</td>\n",
              "      <td>veterans financial, inc.. VA Aid and Attendance benefit can help pay for assisted living, home care or nursing home. Veterans Financial Inc can advise you at no cost about benefits</td>\n",
              "      <td>payment-credit-card-balance-euro-dollars-credit-debit-receipt-billing</td>\n",
              "    </tr>\n",
              "    <tr>\n",
              "      <th>7</th>\n",
              "      <td>keystart country home loans</td>\n",
              "      <td>Make your home ownership dream a reality. Keystart's low-deposit, no LMI home loans lower the entry barriers so you can get into a home of your own sooner.</td>\n",
              "      <td>keystart country home loans. Make your home ownership dream a reality. Keystart's low-deposit, no LMI home loans lower the entry barriers so you can get into a home of your own sooner.</td>\n",
              "      <td>payment-credit-card-balance-euro-dollars-credit-debit-receipt-billing</td>\n",
              "    </tr>\n",
              "    <tr>\n",
              "      <th>8</th>\n",
              "      <td>united insurance</td>\n",
              "      <td>United Insurance provides personal insurance, commercial insurance, and group benefits with 16 location in Maine and New Hampshire since 1976.</td>\n",
              "      <td>united insurance. United Insurance provides personal insurance, commercial insurance, and group benefits with 16 location in Maine and New Hampshire since 1976.</td>\n",
              "      <td>payment-credit-card-balance-euro-dollars-credit-debit-receipt-billing</td>\n",
              "    </tr>\n",
              "    <tr>\n",
              "      <th>9</th>\n",
              "      <td>insurance brokers co., inc.</td>\n",
              "      <td>Auto Insurance, Home Insurance, Business Insurance, Life &amp; Health Insurance in Rockville, Gaithersburg, Potomac, Bethesda, Germantown and Silver Spring.</td>\n",
              "      <td>insurance brokers co., inc.. Auto Insurance, Home Insurance, Business Insurance, Life &amp; Health Insurance in Rockville, Gaithersburg, Potomac, Bethesda, Germantown and Silver Spring.</td>\n",
              "      <td>payment-credit-card-balance-euro-dollars-credit-debit-receipt-billing</td>\n",
              "    </tr>\n",
              "  </tbody>\n",
              "</table>\n",
              "</div>\n",
              "      <button class=\"colab-df-convert\" onclick=\"convertToInteractive('df-e290a3d6-0117-4fe2-aa17-0d5dfbc8593c')\"\n",
              "              title=\"Convert this dataframe to an interactive table.\"\n",
              "              style=\"display:none;\">\n",
              "        \n",
              "  <svg xmlns=\"http://www.w3.org/2000/svg\" height=\"24px\"viewBox=\"0 0 24 24\"\n",
              "       width=\"24px\">\n",
              "    <path d=\"M0 0h24v24H0V0z\" fill=\"none\"/>\n",
              "    <path d=\"M18.56 5.44l.94 2.06.94-2.06 2.06-.94-2.06-.94-.94-2.06-.94 2.06-2.06.94zm-11 1L8.5 8.5l.94-2.06 2.06-.94-2.06-.94L8.5 2.5l-.94 2.06-2.06.94zm10 10l.94 2.06.94-2.06 2.06-.94-2.06-.94-.94-2.06-.94 2.06-2.06.94z\"/><path d=\"M17.41 7.96l-1.37-1.37c-.4-.4-.92-.59-1.43-.59-.52 0-1.04.2-1.43.59L10.3 9.45l-7.72 7.72c-.78.78-.78 2.05 0 2.83L4 21.41c.39.39.9.59 1.41.59.51 0 1.02-.2 1.41-.59l7.78-7.78 2.81-2.81c.8-.78.8-2.07 0-2.86zM5.41 20L4 18.59l7.72-7.72 1.47 1.35L5.41 20z\"/>\n",
              "  </svg>\n",
              "      </button>\n",
              "      \n",
              "  <style>\n",
              "    .colab-df-container {\n",
              "      display:flex;\n",
              "      flex-wrap:wrap;\n",
              "      gap: 12px;\n",
              "    }\n",
              "\n",
              "    .colab-df-convert {\n",
              "      background-color: #E8F0FE;\n",
              "      border: none;\n",
              "      border-radius: 50%;\n",
              "      cursor: pointer;\n",
              "      display: none;\n",
              "      fill: #1967D2;\n",
              "      height: 32px;\n",
              "      padding: 0 0 0 0;\n",
              "      width: 32px;\n",
              "    }\n",
              "\n",
              "    .colab-df-convert:hover {\n",
              "      background-color: #E2EBFA;\n",
              "      box-shadow: 0px 1px 2px rgba(60, 64, 67, 0.3), 0px 1px 3px 1px rgba(60, 64, 67, 0.15);\n",
              "      fill: #174EA6;\n",
              "    }\n",
              "\n",
              "    [theme=dark] .colab-df-convert {\n",
              "      background-color: #3B4455;\n",
              "      fill: #D2E3FC;\n",
              "    }\n",
              "\n",
              "    [theme=dark] .colab-df-convert:hover {\n",
              "      background-color: #434B5C;\n",
              "      box-shadow: 0px 1px 3px 1px rgba(0, 0, 0, 0.15);\n",
              "      filter: drop-shadow(0px 1px 2px rgba(0, 0, 0, 0.3));\n",
              "      fill: #FFFFFF;\n",
              "    }\n",
              "  </style>\n",
              "\n",
              "      <script>\n",
              "        const buttonEl =\n",
              "          document.querySelector('#df-e290a3d6-0117-4fe2-aa17-0d5dfbc8593c button.colab-df-convert');\n",
              "        buttonEl.style.display =\n",
              "          google.colab.kernel.accessAllowed ? 'block' : 'none';\n",
              "\n",
              "        async function convertToInteractive(key) {\n",
              "          const element = document.querySelector('#df-e290a3d6-0117-4fe2-aa17-0d5dfbc8593c');\n",
              "          const dataTable =\n",
              "            await google.colab.kernel.invokeFunction('convertToInteractive',\n",
              "                                                     [key], {});\n",
              "          if (!dataTable) return;\n",
              "\n",
              "          const docLinkHtml = 'Like what you see? Visit the ' +\n",
              "            '<a target=\"_blank\" href=https://colab.research.google.com/notebooks/data_table.ipynb>data table notebook</a>'\n",
              "            + ' to learn more about interactive tables.';\n",
              "          element.innerHTML = '';\n",
              "          dataTable['output_type'] = 'display_data';\n",
              "          await google.colab.output.renderOutput(dataTable, element);\n",
              "          const docLink = document.createElement('div');\n",
              "          docLink.innerHTML = docLinkHtml;\n",
              "          element.appendChild(docLink);\n",
              "        }\n",
              "      </script>\n",
              "    </div>\n",
              "  </div>\n",
              "  "
            ],
            "text/plain": [
              "                          title  ...                                                                  label\n",
              "0  squirrel financial wellbeing  ...  payment-credit-card-balance-euro-dollars-credit-debit-receipt-billing\n",
              "1    senior insurance marketing  ...  payment-credit-card-balance-euro-dollars-credit-debit-receipt-billing\n",
              "2       3i financial group inc.  ...  payment-credit-card-balance-euro-dollars-credit-debit-receipt-billing\n",
              "3          brownstone insurance  ...  payment-credit-card-balance-euro-dollars-credit-debit-receipt-billing\n",
              "4           pacificwide lending  ...  payment-credit-card-balance-euro-dollars-credit-debit-receipt-billing\n",
              "5             city auto finance  ...  payment-credit-card-balance-euro-dollars-credit-debit-receipt-billing\n",
              "6      veterans financial, inc.  ...  payment-credit-card-balance-euro-dollars-credit-debit-receipt-billing\n",
              "7   keystart country home loans  ...  payment-credit-card-balance-euro-dollars-credit-debit-receipt-billing\n",
              "8              united insurance  ...  payment-credit-card-balance-euro-dollars-credit-debit-receipt-billing\n",
              "9   insurance brokers co., inc.  ...  payment-credit-card-balance-euro-dollars-credit-debit-receipt-billing\n",
              "\n",
              "[10 rows x 4 columns]"
            ]
          },
          "metadata": {},
          "execution_count": 6
        }
      ],
      "source": [
        "data.head(10)"
      ]
    },
    {
      "cell_type": "code",
      "execution_count": 7,
      "metadata": {
        "colab": {
          "base_uri": "https://localhost:8080/"
        },
        "id": "9O8GdDjMaDYC",
        "outputId": "9c3887b4-95eb-46cb-c130-12b276e19576"
      },
      "outputs": [
        {
          "output_type": "execute_result",
          "data": {
            "text/plain": [
              "(34953, 4)"
            ]
          },
          "metadata": {},
          "execution_count": 7
        }
      ],
      "source": [
        "data.shape"
      ]
    },
    {
      "cell_type": "code",
      "execution_count": 8,
      "metadata": {
        "colab": {
          "base_uri": "https://localhost:8080/"
        },
        "id": "pSjePuz1aEuc",
        "outputId": "f070a079-b97a-4305-d022-d05ba2bcbbc0"
      },
      "outputs": [
        {
          "output_type": "execute_result",
          "data": {
            "text/plain": [
              "title         42\n",
              "text           0\n",
              "title_text     0\n",
              "label          0\n",
              "dtype: int64"
            ]
          },
          "metadata": {},
          "execution_count": 8
        }
      ],
      "source": [
        "data.isnull().sum()"
      ]
    },
    {
      "cell_type": "code",
      "execution_count": 9,
      "metadata": {
        "id": "WEVoPlBSaFzQ"
      },
      "outputs": [],
      "source": [
        "data.dropna(inplace=True)"
      ]
    },
    {
      "cell_type": "code",
      "execution_count": 10,
      "metadata": {
        "id": "qYM2MS4kaSx1"
      },
      "outputs": [],
      "source": [
        "data.drop(columns=['title', 'text'], inplace=True)"
      ]
    },
    {
      "cell_type": "code",
      "execution_count": 11,
      "metadata": {
        "colab": {
          "base_uri": "https://localhost:8080/",
          "height": 510
        },
        "id": "Vit6MnU0aUC2",
        "outputId": "cda4c64e-5d52-4579-cc60-f684648d53a5"
      },
      "outputs": [
        {
          "output_type": "execute_result",
          "data": {
            "text/html": [
              "\n",
              "  <div id=\"df-bbd0e151-f206-4886-a51e-6475d34647c4\">\n",
              "    <div class=\"colab-df-container\">\n",
              "      <div>\n",
              "<style scoped>\n",
              "    .dataframe tbody tr th:only-of-type {\n",
              "        vertical-align: middle;\n",
              "    }\n",
              "\n",
              "    .dataframe tbody tr th {\n",
              "        vertical-align: top;\n",
              "    }\n",
              "\n",
              "    .dataframe thead th {\n",
              "        text-align: right;\n",
              "    }\n",
              "</style>\n",
              "<table border=\"1\" class=\"dataframe\">\n",
              "  <thead>\n",
              "    <tr style=\"text-align: right;\">\n",
              "      <th></th>\n",
              "      <th>title_text</th>\n",
              "      <th>label</th>\n",
              "    </tr>\n",
              "  </thead>\n",
              "  <tbody>\n",
              "    <tr>\n",
              "      <th>0</th>\n",
              "      <td>squirrel financial wellbeing. A Squirrel account makes it easy to stick to your budget and save. Start for free today!</td>\n",
              "      <td>payment-credit-card-balance-euro-dollars-credit-debit-receipt-billing</td>\n",
              "    </tr>\n",
              "    <tr>\n",
              "      <th>1</th>\n",
              "      <td>senior insurance marketing. Welcome to the home page of Senior Insurance Marketing, a full service brokerage specializing in Medicare and senior insurance products.  Located in Lincoln, NE.</td>\n",
              "      <td>payment-credit-card-balance-euro-dollars-credit-debit-receipt-billing</td>\n",
              "    </tr>\n",
              "    <tr>\n",
              "      <th>2</th>\n",
              "      <td>3i financial group inc.. A Small Boutique Firm Dedicated to Achieving Our Clients Goals.#sep#inform.invest.insure Get a Free, No Obligation Quote forAllYour Insurance Needs. 3i Financial offers a wide variety of insurance products to help suit your needs. Choose from individual, family, and group. GET A QUOTE TODAY Travel Insurance Get peace of mind with comprehensive travel insurance. Get a free quote today! Health &amp; Dental Get affordable health  Read more</td>\n",
              "      <td>payment-credit-card-balance-euro-dollars-credit-debit-receipt-billing</td>\n",
              "    </tr>\n",
              "    <tr>\n",
              "      <th>3</th>\n",
              "      <td>brownstone insurance. Brownstone Insurance provides master insurance policies for multi-unit buildings throughout Massachusetts, as well as personal insurance products such as renter's insurance and homeowner's insurance.#sep#Brownstone Insurance provides master insurance policies for multi-unit \\nbuildings throughout Massachusetts, as well as personal insurance products \\nsuch as renter's insurance and homeowner's insurance.</td>\n",
              "      <td>payment-credit-card-balance-euro-dollars-credit-debit-receipt-billing</td>\n",
              "    </tr>\n",
              "    <tr>\n",
              "      <th>4</th>\n",
              "      <td>pacificwide lending. Learn more about Pacificwide Lending and our commercial &amp; residential loan services in California.</td>\n",
              "      <td>payment-credit-card-balance-euro-dollars-credit-debit-receipt-billing</td>\n",
              "    </tr>\n",
              "  </tbody>\n",
              "</table>\n",
              "</div>\n",
              "      <button class=\"colab-df-convert\" onclick=\"convertToInteractive('df-bbd0e151-f206-4886-a51e-6475d34647c4')\"\n",
              "              title=\"Convert this dataframe to an interactive table.\"\n",
              "              style=\"display:none;\">\n",
              "        \n",
              "  <svg xmlns=\"http://www.w3.org/2000/svg\" height=\"24px\"viewBox=\"0 0 24 24\"\n",
              "       width=\"24px\">\n",
              "    <path d=\"M0 0h24v24H0V0z\" fill=\"none\"/>\n",
              "    <path d=\"M18.56 5.44l.94 2.06.94-2.06 2.06-.94-2.06-.94-.94-2.06-.94 2.06-2.06.94zm-11 1L8.5 8.5l.94-2.06 2.06-.94-2.06-.94L8.5 2.5l-.94 2.06-2.06.94zm10 10l.94 2.06.94-2.06 2.06-.94-2.06-.94-.94-2.06-.94 2.06-2.06.94z\"/><path d=\"M17.41 7.96l-1.37-1.37c-.4-.4-.92-.59-1.43-.59-.52 0-1.04.2-1.43.59L10.3 9.45l-7.72 7.72c-.78.78-.78 2.05 0 2.83L4 21.41c.39.39.9.59 1.41.59.51 0 1.02-.2 1.41-.59l7.78-7.78 2.81-2.81c.8-.78.8-2.07 0-2.86zM5.41 20L4 18.59l7.72-7.72 1.47 1.35L5.41 20z\"/>\n",
              "  </svg>\n",
              "      </button>\n",
              "      \n",
              "  <style>\n",
              "    .colab-df-container {\n",
              "      display:flex;\n",
              "      flex-wrap:wrap;\n",
              "      gap: 12px;\n",
              "    }\n",
              "\n",
              "    .colab-df-convert {\n",
              "      background-color: #E8F0FE;\n",
              "      border: none;\n",
              "      border-radius: 50%;\n",
              "      cursor: pointer;\n",
              "      display: none;\n",
              "      fill: #1967D2;\n",
              "      height: 32px;\n",
              "      padding: 0 0 0 0;\n",
              "      width: 32px;\n",
              "    }\n",
              "\n",
              "    .colab-df-convert:hover {\n",
              "      background-color: #E2EBFA;\n",
              "      box-shadow: 0px 1px 2px rgba(60, 64, 67, 0.3), 0px 1px 3px 1px rgba(60, 64, 67, 0.15);\n",
              "      fill: #174EA6;\n",
              "    }\n",
              "\n",
              "    [theme=dark] .colab-df-convert {\n",
              "      background-color: #3B4455;\n",
              "      fill: #D2E3FC;\n",
              "    }\n",
              "\n",
              "    [theme=dark] .colab-df-convert:hover {\n",
              "      background-color: #434B5C;\n",
              "      box-shadow: 0px 1px 3px 1px rgba(0, 0, 0, 0.15);\n",
              "      filter: drop-shadow(0px 1px 2px rgba(0, 0, 0, 0.3));\n",
              "      fill: #FFFFFF;\n",
              "    }\n",
              "  </style>\n",
              "\n",
              "      <script>\n",
              "        const buttonEl =\n",
              "          document.querySelector('#df-bbd0e151-f206-4886-a51e-6475d34647c4 button.colab-df-convert');\n",
              "        buttonEl.style.display =\n",
              "          google.colab.kernel.accessAllowed ? 'block' : 'none';\n",
              "\n",
              "        async function convertToInteractive(key) {\n",
              "          const element = document.querySelector('#df-bbd0e151-f206-4886-a51e-6475d34647c4');\n",
              "          const dataTable =\n",
              "            await google.colab.kernel.invokeFunction('convertToInteractive',\n",
              "                                                     [key], {});\n",
              "          if (!dataTable) return;\n",
              "\n",
              "          const docLinkHtml = 'Like what you see? Visit the ' +\n",
              "            '<a target=\"_blank\" href=https://colab.research.google.com/notebooks/data_table.ipynb>data table notebook</a>'\n",
              "            + ' to learn more about interactive tables.';\n",
              "          element.innerHTML = '';\n",
              "          dataTable['output_type'] = 'display_data';\n",
              "          await google.colab.output.renderOutput(dataTable, element);\n",
              "          const docLink = document.createElement('div');\n",
              "          docLink.innerHTML = docLinkHtml;\n",
              "          element.appendChild(docLink);\n",
              "        }\n",
              "      </script>\n",
              "    </div>\n",
              "  </div>\n",
              "  "
            ],
            "text/plain": [
              "                                                                                                                                                                                                                                                                                                                                                                                                                                                                      title_text                                                                  label\n",
              "0                                                                                                                                                                                                                                                                                                                                                         squirrel financial wellbeing. A Squirrel account makes it easy to stick to your budget and save. Start for free today!  payment-credit-card-balance-euro-dollars-credit-debit-receipt-billing\n",
              "1                                                                                                                                                                                                                                                                                  senior insurance marketing. Welcome to the home page of Senior Insurance Marketing, a full service brokerage specializing in Medicare and senior insurance products.  Located in Lincoln, NE.  payment-credit-card-balance-euro-dollars-credit-debit-receipt-billing\n",
              "2  3i financial group inc.. A Small Boutique Firm Dedicated to Achieving Our Clients Goals.#sep#inform.invest.insure Get a Free, No Obligation Quote forAllYour Insurance Needs. 3i Financial offers a wide variety of insurance products to help suit your needs. Choose from individual, family, and group. GET A QUOTE TODAY Travel Insurance Get peace of mind with comprehensive travel insurance. Get a free quote today! Health & Dental Get affordable health  Read more  payment-credit-card-balance-euro-dollars-credit-debit-receipt-billing\n",
              "3                                  brownstone insurance. Brownstone Insurance provides master insurance policies for multi-unit buildings throughout Massachusetts, as well as personal insurance products such as renter's insurance and homeowner's insurance.#sep#Brownstone Insurance provides master insurance policies for multi-unit \\nbuildings throughout Massachusetts, as well as personal insurance products \\nsuch as renter's insurance and homeowner's insurance.  payment-credit-card-balance-euro-dollars-credit-debit-receipt-billing\n",
              "4                                                                                                                                                                                                                                                                                                                                                        pacificwide lending. Learn more about Pacificwide Lending and our commercial & residential loan services in California.  payment-credit-card-balance-euro-dollars-credit-debit-receipt-billing"
            ]
          },
          "metadata": {},
          "execution_count": 11
        }
      ],
      "source": [
        "data.head()"
      ]
    },
    {
      "cell_type": "markdown",
      "metadata": {
        "id": "S1-p4caBaXE8"
      },
      "source": [
        "# Preparing our data for modeling "
      ]
    },
    {
      "cell_type": "code",
      "execution_count": 12,
      "metadata": {
        "colab": {
          "base_uri": "https://localhost:8080/"
        },
        "id": "eavokoSeaVKp",
        "outputId": "9798ca46-87b4-4bd4-bb40-927f95c22d05"
      },
      "outputs": [
        {
          "output_type": "stream",
          "name": "stdout",
          "text": [
            "[nltk_data] Downloading package wordnet to /root/nltk_data...\n",
            "[nltk_data]   Unzipping corpora/wordnet.zip.\n",
            "[nltk_data] Downloading package stopwords to /root/nltk_data...\n",
            "[nltk_data]   Unzipping corpora/stopwords.zip.\n"
          ]
        }
      ],
      "source": [
        "import re\n",
        "import nltk\n",
        "nltk.download('wordnet')\n",
        "nltk.download('stopwords')\n",
        "from nltk.corpus import stopwords\n",
        "from nltk.stem import WordNetLemmatizer"
      ]
    },
    {
      "cell_type": "code",
      "execution_count": 13,
      "metadata": {
        "id": "il1p9GXcab24"
      },
      "outputs": [],
      "source": [
        "# text\n",
        "text_corpus = []\n",
        "lm = WordNetLemmatizer()\n",
        "words = stopwords.words('english')\n",
        "\n",
        "for i in range(data.shape[0]):\n",
        "    row = re.sub('[^a-zA-Z\\s]', '', data.iloc[i, 0]).lower()\n",
        "    row = row.split()  \n",
        "    row = [lm.lemmatize(word) for word in row if word not in words]\n",
        "    row = ' '.join(row)\n",
        "    text_corpus.append(row)"
      ]
    },
    {
      "cell_type": "code",
      "execution_count": 14,
      "metadata": {
        "colab": {
          "base_uri": "https://localhost:8080/"
        },
        "id": "sjXi-jDvar0_",
        "outputId": "6db5b218-efef-400e-ed4c-0b920f9421c0"
      },
      "outputs": [
        {
          "output_type": "execute_result",
          "data": {
            "text/plain": [
              "34911"
            ]
          },
          "metadata": {},
          "execution_count": 14
        }
      ],
      "source": [
        "len(text_corpus)"
      ]
    },
    {
      "cell_type": "code",
      "execution_count": 15,
      "metadata": {
        "colab": {
          "base_uri": "https://localhost:8080/",
          "height": 35
        },
        "id": "qGm578wFatbS",
        "outputId": "7a62ebe4-69cd-4744-c3c2-96ccee5fbfdd"
      },
      "outputs": [
        {
          "output_type": "execute_result",
          "data": {
            "application/vnd.google.colaboratory.intrinsic+json": {
              "type": "string"
            },
            "text/plain": [
              "'squirrel financial wellbeing squirrel account make easy stick budget save start free today'"
            ]
          },
          "metadata": {},
          "execution_count": 15
        }
      ],
      "source": [
        "text_corpus[0]"
      ]
    },
    {
      "cell_type": "markdown",
      "metadata": {
        "id": "r4iGwbELrg7h"
      },
      "source": [
        "_Our Bag of Words_"
      ]
    },
    {
      "cell_type": "code",
      "source": [
        "X = np.array(text_corpus)\n",
        "y = data.iloc[:, 1].values"
      ],
      "metadata": {
        "id": "NLKTeIh5diob"
      },
      "execution_count": 16,
      "outputs": []
    },
    {
      "cell_type": "code",
      "source": [
        "X.shape, y.shape"
      ],
      "metadata": {
        "colab": {
          "base_uri": "https://localhost:8080/"
        },
        "id": "Lt9ENji1dj8O",
        "outputId": "a5da5cca-0779-4996-fd3f-e25d4c12a118"
      },
      "execution_count": 17,
      "outputs": [
        {
          "output_type": "execute_result",
          "data": {
            "text/plain": [
              "((34911,), (34911,))"
            ]
          },
          "metadata": {},
          "execution_count": 17
        }
      ]
    },
    {
      "cell_type": "code",
      "execution_count": 18,
      "metadata": {
        "id": "tog76JXvtQCL"
      },
      "outputs": [],
      "source": [
        "# LabelEncoder\n",
        "from sklearn.preprocessing import LabelEncoder\n",
        "\n",
        "le = LabelEncoder()\n",
        "y = le.fit_transform(y)"
      ]
    },
    {
      "cell_type": "code",
      "execution_count": 19,
      "metadata": {
        "colab": {
          "base_uri": "https://localhost:8080/"
        },
        "id": "2oGcR5Y7tdwE",
        "outputId": "9c7fab04-8a5a-4ab9-ee83-50246e934daf"
      },
      "outputs": [
        {
          "output_type": "execute_result",
          "data": {
            "text/plain": [
              "array([ 0,  1,  2,  3,  4,  5,  6,  7,  8,  9, 10, 11, 12, 13, 14])"
            ]
          },
          "metadata": {},
          "execution_count": 19
        }
      ],
      "source": [
        "np.unique(y)"
      ]
    },
    {
      "cell_type": "markdown",
      "source": [
        "# Preparing for modeling "
      ],
      "metadata": {
        "id": "4gqEol0DLV4A"
      }
    },
    {
      "cell_type": "code",
      "source": [
        "from tqdm import tqdm\n",
        "\n",
        "from keras.preprocessing.text import Tokenizer\n",
        "from keras.preprocessing.sequence import pad_sequences"
      ],
      "metadata": {
        "id": "KRUFz8GELc5Q"
      },
      "execution_count": 20,
      "outputs": []
    },
    {
      "cell_type": "code",
      "source": [
        "token = Tokenizer()"
      ],
      "metadata": {
        "id": "25E8P4W6LT70"
      },
      "execution_count": 21,
      "outputs": []
    },
    {
      "cell_type": "code",
      "source": [
        "token.fit_on_texts(X)\n",
        "seq = token.texts_to_sequences(X)"
      ],
      "metadata": {
        "id": "m65Y2jWFLZB7"
      },
      "execution_count": 22,
      "outputs": []
    },
    {
      "cell_type": "code",
      "source": [
        "len(token.word_index)"
      ],
      "metadata": {
        "colab": {
          "base_uri": "https://localhost:8080/"
        },
        "id": "6dp2lL6TMNZG",
        "outputId": "7ed88190-0631-4e8a-bdf6-1803724e9c52"
      },
      "execution_count": 23,
      "outputs": [
        {
          "output_type": "execute_result",
          "data": {
            "text/plain": [
              "70178"
            ]
          },
          "metadata": {},
          "execution_count": 23
        }
      ]
    },
    {
      "cell_type": "code",
      "source": [
        "vocab_size = len(token.word_index)+1    #OOV token"
      ],
      "metadata": {
        "id": "baru0DXpMMVu"
      },
      "execution_count": 24,
      "outputs": []
    },
    {
      "cell_type": "code",
      "source": [
        "l_seq = map(lambda x: len(x), seq)\n",
        "max(l_seq)"
      ],
      "metadata": {
        "colab": {
          "base_uri": "https://localhost:8080/"
        },
        "id": "XZcSQSj5L93g",
        "outputId": "45cbc9f0-caeb-40c9-88f9-53daaa52bd90"
      },
      "execution_count": 25,
      "outputs": [
        {
          "output_type": "execute_result",
          "data": {
            "text/plain": [
              "1766"
            ]
          },
          "metadata": {},
          "execution_count": 25
        }
      ]
    },
    {
      "cell_type": "code",
      "source": [
        "pad_seq = pad_sequences(seq, maxlen=1000)"
      ],
      "metadata": {
        "id": "53LzkPQZMA4Z"
      },
      "execution_count": 26,
      "outputs": []
    },
    {
      "cell_type": "code",
      "execution_count": 27,
      "metadata": {
        "id": "HCdz0m_cspOo"
      },
      "outputs": [],
      "source": [
        "# Splitting the data\n",
        "from sklearn.model_selection import train_test_split\n",
        "\n",
        "X_train, X_val, y_train, y_val = train_test_split(pad_seq, y, test_size = 0.2, random_state = 42)"
      ]
    },
    {
      "cell_type": "code",
      "execution_count": 28,
      "metadata": {
        "colab": {
          "base_uri": "https://localhost:8080/"
        },
        "id": "FC49gEmus2Ql",
        "outputId": "b0e59183-d0df-4691-f0ab-02c8ce41f223"
      },
      "outputs": [
        {
          "output_type": "execute_result",
          "data": {
            "text/plain": [
              "((27928, 1000), (6983, 1000))"
            ]
          },
          "metadata": {},
          "execution_count": 28
        }
      ],
      "source": [
        "X_train.shape, X_val.shape"
      ]
    },
    {
      "cell_type": "code",
      "source": [
        "embedding_vector = {}\n",
        "with open('glove.840B.300d/glove.840B.300d.txt') as f:\n",
        "    for line in tqdm(f):\n",
        "        value = line.split(' ')\n",
        "        word = value[0]\n",
        "        coef = np.array(value[1:],dtype = 'float32')\n",
        "        embedding_vector[word] = coef"
      ],
      "metadata": {
        "id": "uTi7BSNpRth5",
        "colab": {
          "base_uri": "https://localhost:8080/"
        },
        "outputId": "e8360489-c62f-4ef5-a023-5450b68602e5"
      },
      "execution_count": 29,
      "outputs": [
        {
          "output_type": "stream",
          "name": "stderr",
          "text": [
            "2196017it [02:08, 17123.87it/s]\n"
          ]
        }
      ]
    },
    {
      "cell_type": "code",
      "source": [
        "embedding_matrix = np.zeros((vocab_size, 300))\n",
        "for word, idx in tqdm(token.word_index.items()):\n",
        "    embedding_value = embedding_vector.get(word)\n",
        "    if embedding_value is not None:\n",
        "        embedding_matrix[idx] = embedding_value"
      ],
      "metadata": {
        "colab": {
          "base_uri": "https://localhost:8080/"
        },
        "id": "cP-yrRwJVb4B",
        "outputId": "99ba8b96-1844-47a1-8636-46e66a6dd87c"
      },
      "execution_count": 30,
      "outputs": [
        {
          "output_type": "stream",
          "name": "stderr",
          "text": [
            "100%|██████████| 70178/70178 [00:00<00:00, 513411.17it/s]\n"
          ]
        }
      ]
    },
    {
      "cell_type": "markdown",
      "metadata": {
        "id": "bcUUtSEas7iD"
      },
      "source": [
        "# Modeling"
      ]
    },
    {
      "cell_type": "code",
      "execution_count": 31,
      "metadata": {
        "id": "U8ykykQos4Q5"
      },
      "outputs": [],
      "source": [
        "import tensorflow as tf\n",
        "from keras.models import Sequential\n",
        "from keras.layers import Embedding, LSTM, Dense, Dropout, CuDNNLSTM, Bidirectional\n",
        "from keras.callbacks import EarlyStopping #ModelCheckpoint, Callback, "
      ]
    },
    {
      "cell_type": "code",
      "source": [
        "model = Sequential()\n",
        "model.add(Embedding(vocab_size, 300, weights=[embedding_matrix], input_length=1000, trainable = False))\n",
        "model.add(LSTM(128))\n",
        "model.add(Dense(64,activation = 'relu'))\n",
        "model.add(Dropout(0.2))\n",
        "model.add(Dense(32,activation = 'relu'))\n",
        "model.add(Dropout(0.2))\n",
        "model.add(Dense(15,activation = 'softmax'))"
      ],
      "metadata": {
        "id": "SJsLuTo0luwg"
      },
      "execution_count": 33,
      "outputs": []
    },
    {
      "cell_type": "code",
      "source": [
        "model.compile(optimizer='adam', loss='sparse_categorical_crossentropy', metrics=['accuracy'])"
      ],
      "metadata": {
        "id": "NJxde1sUWrMc"
      },
      "execution_count": 34,
      "outputs": []
    },
    {
      "cell_type": "code",
      "source": [
        "early = EarlyStopping(monitor=\"val_accuracy\", mode='max', patience=5, restore_best_weights=True)"
      ],
      "metadata": {
        "id": "dK6JlhfrbyjE"
      },
      "execution_count": 35,
      "outputs": []
    },
    {
      "cell_type": "code",
      "source": [
        "history = model.fit(X_train, y_train, validation_data=(X_val, y_val), epochs = 50, batch_size=256, callbacks=[early]) "
      ],
      "metadata": {
        "colab": {
          "base_uri": "https://localhost:8080/"
        },
        "id": "GQNhQ9uBW4B7",
        "outputId": "661cc24b-2783-4578-bdd7-ac8a3de41c78"
      },
      "execution_count": 36,
      "outputs": [
        {
          "output_type": "stream",
          "name": "stdout",
          "text": [
            "Epoch 1/50\n",
            "110/110 [==============================] - 23s 154ms/step - loss: 1.3820 - accuracy: 0.6016 - val_loss: 0.8063 - val_accuracy: 0.7873\n",
            "Epoch 2/50\n",
            "110/110 [==============================] - 17s 150ms/step - loss: 0.7976 - accuracy: 0.7962 - val_loss: 0.6666 - val_accuracy: 0.8213\n",
            "Epoch 3/50\n",
            "110/110 [==============================] - 17s 151ms/step - loss: 0.6761 - accuracy: 0.8224 - val_loss: 0.5997 - val_accuracy: 0.8383\n",
            "Epoch 4/50\n",
            "110/110 [==============================] - 17s 152ms/step - loss: 0.6005 - accuracy: 0.8395 - val_loss: 0.5475 - val_accuracy: 0.8465\n",
            "Epoch 5/50\n",
            "110/110 [==============================] - 17s 154ms/step - loss: 0.5259 - accuracy: 0.8576 - val_loss: 0.4991 - val_accuracy: 0.8617\n",
            "Epoch 6/50\n",
            "110/110 [==============================] - 17s 155ms/step - loss: 0.4695 - accuracy: 0.8709 - val_loss: 0.4947 - val_accuracy: 0.8621\n",
            "Epoch 7/50\n",
            "110/110 [==============================] - 17s 155ms/step - loss: 0.4236 - accuracy: 0.8836 - val_loss: 0.4631 - val_accuracy: 0.8747\n",
            "Epoch 8/50\n",
            "110/110 [==============================] - 17s 158ms/step - loss: 0.3832 - accuracy: 0.8946 - val_loss: 0.4667 - val_accuracy: 0.8760\n",
            "Epoch 9/50\n",
            "110/110 [==============================] - 18s 159ms/step - loss: 0.3570 - accuracy: 0.9002 - val_loss: 0.4251 - val_accuracy: 0.8829\n",
            "Epoch 10/50\n",
            "110/110 [==============================] - 18s 159ms/step - loss: 0.3212 - accuracy: 0.9092 - val_loss: 0.4030 - val_accuracy: 0.8922\n",
            "Epoch 11/50\n",
            "110/110 [==============================] - 18s 159ms/step - loss: 0.2935 - accuracy: 0.9185 - val_loss: 0.3853 - val_accuracy: 0.8973\n",
            "Epoch 12/50\n",
            "110/110 [==============================] - 17s 158ms/step - loss: 0.2719 - accuracy: 0.9237 - val_loss: 0.3834 - val_accuracy: 0.8980\n",
            "Epoch 13/50\n",
            "110/110 [==============================] - 17s 158ms/step - loss: 0.2274 - accuracy: 0.9366 - val_loss: 0.4085 - val_accuracy: 0.8993\n",
            "Epoch 14/50\n",
            "110/110 [==============================] - 17s 158ms/step - loss: 0.2187 - accuracy: 0.9386 - val_loss: 0.3799 - val_accuracy: 0.9045\n",
            "Epoch 15/50\n",
            "110/110 [==============================] - 17s 158ms/step - loss: 0.1927 - accuracy: 0.9451 - val_loss: 0.4229 - val_accuracy: 0.8933\n",
            "Epoch 16/50\n",
            "110/110 [==============================] - 17s 159ms/step - loss: 0.2218 - accuracy: 0.9373 - val_loss: 0.4018 - val_accuracy: 0.9042\n",
            "Epoch 17/50\n",
            "110/110 [==============================] - 17s 158ms/step - loss: 0.1657 - accuracy: 0.9548 - val_loss: 0.3910 - val_accuracy: 0.9069\n",
            "Epoch 18/50\n",
            "110/110 [==============================] - 17s 159ms/step - loss: 0.1512 - accuracy: 0.9581 - val_loss: 0.3952 - val_accuracy: 0.9099\n",
            "Epoch 19/50\n",
            "110/110 [==============================] - 17s 159ms/step - loss: 0.1339 - accuracy: 0.9625 - val_loss: 0.4032 - val_accuracy: 0.9092\n",
            "Epoch 20/50\n",
            "110/110 [==============================] - 17s 159ms/step - loss: 0.1137 - accuracy: 0.9680 - val_loss: 0.3799 - val_accuracy: 0.9126\n",
            "Epoch 21/50\n",
            "110/110 [==============================] - 17s 159ms/step - loss: 0.0919 - accuracy: 0.9729 - val_loss: 0.4747 - val_accuracy: 0.9088\n",
            "Epoch 22/50\n",
            "110/110 [==============================] - 17s 159ms/step - loss: 0.0978 - accuracy: 0.9716 - val_loss: 0.4510 - val_accuracy: 0.9089\n",
            "Epoch 23/50\n",
            "110/110 [==============================] - 17s 158ms/step - loss: 0.1243 - accuracy: 0.9639 - val_loss: 0.4592 - val_accuracy: 0.8963\n",
            "Epoch 24/50\n",
            "110/110 [==============================] - 17s 158ms/step - loss: 0.1211 - accuracy: 0.9655 - val_loss: 0.4221 - val_accuracy: 0.9081\n",
            "Epoch 25/50\n",
            "110/110 [==============================] - 18s 159ms/step - loss: 0.0967 - accuracy: 0.9719 - val_loss: 0.4664 - val_accuracy: 0.9099\n"
          ]
        }
      ]
    },
    {
      "cell_type": "code",
      "execution_count": 37,
      "metadata": {
        "id": "odcPwx0rtmER"
      },
      "outputs": [],
      "source": [
        "from sklearn.metrics import accuracy_score, roc_auc_score, precision_score, recall_score, f1_score\n",
        "\n",
        "columns = ['Accuracy', 'Precision-MacroAVG', 'Precision-WeightedAVG', 'Recall-MacroAVG', 'Recall-WeightedAVG', \n",
        "           'F1_score-MacroAVG','F1_score-WeightedAVG']\n",
        "\n",
        "y_pred = model.predict(X_val)\n",
        "y_pred = np.argmax(y_pred, axis=1)\n",
        "\n",
        "record = {}\n",
        "record['Accuracy'] = accuracy_score(y_val, y_pred)*100\n",
        "record['Precision-MacroAVG'] = precision_score(y_val, y_pred, average='macro')*100\n",
        "record['Precision-WeightedAVG'] = precision_score(y_val, y_pred, average='weighted')*100\n",
        "record['Recall-MacroAVG'] = recall_score(y_val, y_pred, average='macro')*100\n",
        "record['Recall-WeightedAVG'] = recall_score(y_val, y_pred, average='weighted')*100\n",
        "record['F1_score-MacroAVG'] = f1_score(y_val, y_pred, average='macro')*100\n",
        "record['F1_score-WeightedAVG'] = f1_score(y_val, y_pred, average='weighted')*100\n",
        "\n",
        "results = pd.Series(record, index=columns)"
      ]
    },
    {
      "cell_type": "code",
      "execution_count": 38,
      "metadata": {
        "colab": {
          "base_uri": "https://localhost:8080/"
        },
        "id": "50aMbsKHHT1R",
        "outputId": "087f70ef-0515-4f76-d179-8c547c795019"
      },
      "outputs": [
        {
          "output_type": "execute_result",
          "data": {
            "text/plain": [
              "Accuracy                 91.264499\n",
              "Precision-MacroAVG       84.868629\n",
              "Precision-WeightedAVG    91.242120\n",
              "Recall-MacroAVG          81.948529\n",
              "Recall-WeightedAVG       91.264499\n",
              "F1_score-MacroAVG        82.341465\n",
              "F1_score-WeightedAVG     91.185461\n",
              "dtype: float64"
            ]
          },
          "metadata": {},
          "execution_count": 38
        }
      ],
      "source": [
        "results"
      ]
    },
    {
      "cell_type": "code",
      "execution_count": 39,
      "metadata": {
        "id": "Vj80xhQ8ICSh"
      },
      "outputs": [],
      "source": [
        "model.save('DeepApproach.h5')"
      ]
    },
    {
      "cell_type": "markdown",
      "metadata": {
        "id": "6iRF9wHh8isg"
      },
      "source": [
        "# Testing on test_data"
      ]
    },
    {
      "cell_type": "code",
      "execution_count": 40,
      "metadata": {
        "id": "dj9_KHpbbkFY"
      },
      "outputs": [],
      "source": [
        "test_data = pd.read_csv('test_in_kag_org.csv')"
      ]
    },
    {
      "cell_type": "code",
      "execution_count": 41,
      "metadata": {
        "colab": {
          "base_uri": "https://localhost:8080/"
        },
        "id": "yj9X0ocpbyXD",
        "outputId": "0f71af5e-0b1e-41b6-bf87-b90d90f7ed17"
      },
      "outputs": [
        {
          "output_type": "execute_result",
          "data": {
            "text/plain": [
              "(6501, 4)"
            ]
          },
          "metadata": {},
          "execution_count": 41
        }
      ],
      "source": [
        "test_data.shape"
      ]
    },
    {
      "cell_type": "code",
      "execution_count": 42,
      "metadata": {
        "colab": {
          "base_uri": "https://localhost:8080/"
        },
        "id": "wk8Fmr0lbyXE",
        "outputId": "631d18e2-f522-4153-d5e9-4194d04d8eba"
      },
      "outputs": [
        {
          "output_type": "execute_result",
          "data": {
            "text/plain": [
              "title         0\n",
              "text          0\n",
              "title_text    0\n",
              "label         0\n",
              "dtype: int64"
            ]
          },
          "metadata": {},
          "execution_count": 42
        }
      ],
      "source": [
        "test_data.isnull().sum()"
      ]
    },
    {
      "cell_type": "code",
      "execution_count": 43,
      "metadata": {
        "id": "Rv1JGvYbbyXH"
      },
      "outputs": [],
      "source": [
        "test_data.drop(columns=['title', 'text'], inplace=True)"
      ]
    },
    {
      "cell_type": "markdown",
      "metadata": {
        "id": "MpBjhsx8byXI"
      },
      "source": [
        "# Preparing our data for modeling "
      ]
    },
    {
      "cell_type": "code",
      "execution_count": 44,
      "metadata": {
        "id": "ZwBgz1hjbyXK"
      },
      "outputs": [],
      "source": [
        "# text\n",
        "text_corpus_test = []\n",
        "lm = WordNetLemmatizer()\n",
        "words = stopwords.words('english')\n",
        "\n",
        "for i in range(test_data.shape[0]):\n",
        "    row = re.sub('[^a-zA-Z\\s]', '', test_data.iloc[i, 0]).lower()\n",
        "    row = row.split()  \n",
        "    row = [lm.lemmatize(word) for word in row if word not in words]\n",
        "    row = ' '.join(row)\n",
        "    text_corpus_test.append(row)"
      ]
    },
    {
      "cell_type": "code",
      "execution_count": 45,
      "metadata": {
        "colab": {
          "base_uri": "https://localhost:8080/"
        },
        "id": "KwUAV1BkbyXK",
        "outputId": "71eb21b1-fa8b-4b48-876e-11e0f44d177d"
      },
      "outputs": [
        {
          "output_type": "execute_result",
          "data": {
            "text/plain": [
              "6501"
            ]
          },
          "metadata": {},
          "execution_count": 45
        }
      ],
      "source": [
        "len(text_corpus_test)"
      ]
    },
    {
      "cell_type": "code",
      "execution_count": 46,
      "metadata": {
        "colab": {
          "base_uri": "https://localhost:8080/",
          "height": 35
        },
        "id": "4d2-H7uXbyXK",
        "outputId": "0f48d7a3-a297-4fc9-c7dd-f4230e82947c"
      },
      "outputs": [
        {
          "output_type": "execute_result",
          "data": {
            "application/vnd.google.colaboratory.intrinsic+json": {
              "type": "string"
            },
            "text/plain": [
              "'centralized hub procore offer ability communicate team get full view project one place assign task stay connected google map google doc'"
            ]
          },
          "metadata": {},
          "execution_count": 46
        }
      ],
      "source": [
        "text_corpus_test[0]"
      ]
    },
    {
      "cell_type": "markdown",
      "metadata": {
        "id": "aeW6wftSbyXK"
      },
      "source": [
        "_Our Bag of Words_"
      ]
    },
    {
      "cell_type": "code",
      "execution_count": 47,
      "metadata": {
        "id": "11nCp5SmbyXL"
      },
      "outputs": [],
      "source": [
        "X_text_test = token.texts_to_sequences(text_corpus_test)\n",
        "pad_seq_test = pad_sequences(X_text_test, maxlen=1000)"
      ]
    },
    {
      "cell_type": "code",
      "execution_count": 48,
      "metadata": {
        "id": "VbmRqR09byXM"
      },
      "outputs": [],
      "source": [
        "X_test = pad_seq_test.copy()\n",
        "y_test = test_data.iloc[:, 1].values"
      ]
    },
    {
      "cell_type": "code",
      "execution_count": 49,
      "metadata": {
        "colab": {
          "base_uri": "https://localhost:8080/"
        },
        "id": "VG0yGQSbbyXM",
        "outputId": "e6efbbbf-8031-4b84-9712-be6bdc0b2631"
      },
      "outputs": [
        {
          "output_type": "execute_result",
          "data": {
            "text/plain": [
              "((6501, 1000), (6501,))"
            ]
          },
          "metadata": {},
          "execution_count": 49
        }
      ],
      "source": [
        "X_test.shape, y_test.shape"
      ]
    },
    {
      "cell_type": "code",
      "execution_count": 50,
      "metadata": {
        "id": "xpeUXOpmbyXM"
      },
      "outputs": [],
      "source": [
        "y_test = le.transform(y_test)"
      ]
    },
    {
      "cell_type": "code",
      "execution_count": 51,
      "metadata": {
        "colab": {
          "base_uri": "https://localhost:8080/"
        },
        "id": "lmCHJOIgbyXM",
        "outputId": "8a5fd6d3-d35b-4b2b-baec-12433e46dd9c"
      },
      "outputs": [
        {
          "output_type": "execute_result",
          "data": {
            "text/plain": [
              "array([ 0,  1,  2,  3,  4,  5,  6,  7,  8,  9, 10, 11, 12, 13, 14])"
            ]
          },
          "metadata": {},
          "execution_count": 51
        }
      ],
      "source": [
        "np.unique(y_test)"
      ]
    },
    {
      "cell_type": "code",
      "execution_count": 52,
      "metadata": {
        "id": "Ld8slHDRc7XJ",
        "colab": {
          "base_uri": "https://localhost:8080/"
        },
        "outputId": "b17a53eb-ec47-4748-d3a2-2c52846d614e"
      },
      "outputs": [
        {
          "output_type": "execute_result",
          "data": {
            "text/plain": [
              "<keras.engine.sequential.Sequential at 0x7fde3806ea50>"
            ]
          },
          "metadata": {},
          "execution_count": 52
        }
      ],
      "source": [
        "tf.keras.models.load_model('DeepApproach.h5')"
      ]
    },
    {
      "cell_type": "code",
      "execution_count": 53,
      "metadata": {
        "colab": {
          "base_uri": "https://localhost:8080/"
        },
        "id": "kJ7917FybyXO",
        "outputId": "59c529d0-4384-4b54-de13-9f10582c3e3a"
      },
      "outputs": [
        {
          "output_type": "execute_result",
          "data": {
            "text/plain": [
              "Accuracy                 91.124442\n",
              "Precision-MacroAVG       70.267597\n",
              "Precision-WeightedAVG    90.944077\n",
              "Recall-MacroAVG          69.371517\n",
              "Recall-WeightedAVG       91.124442\n",
              "F1_score-MacroAVG        69.212405\n",
              "F1_score-WeightedAVG     90.956851\n",
              "dtype: float64"
            ]
          },
          "metadata": {},
          "execution_count": 53
        }
      ],
      "source": [
        "y_pred = model.predict(X_test)\n",
        "y_pred = np.argmax(y_pred, axis=1)\n",
        "\n",
        "record = {}\n",
        "record['Accuracy'] = accuracy_score(y_test, y_pred)*100\n",
        "record['Precision-MacroAVG'] = precision_score(y_test, y_pred, average='macro')*100\n",
        "record['Precision-WeightedAVG'] = precision_score(y_test, y_pred, average='weighted')*100\n",
        "record['Recall-MacroAVG'] = recall_score(y_test, y_pred, average='macro')*100\n",
        "record['Recall-WeightedAVG'] = recall_score(y_test, y_pred, average='weighted')*100\n",
        "record['F1_score-MacroAVG'] = f1_score(y_test, y_pred, average='macro')*100\n",
        "record['F1_score-WeightedAVG'] = f1_score(y_test, y_pred, average='weighted')*100\n",
        "\n",
        "results = pd.Series(record, index=columns)\n",
        "results"
      ]
    },
    {
      "cell_type": "code",
      "source": [
        ""
      ],
      "metadata": {
        "id": "sRPT57FngQF_"
      },
      "execution_count": null,
      "outputs": []
    }
  ],
  "metadata": {
    "colab": {
      "name": "DeepCode_v3.ipynb",
      "provenance": []
    },
    "kernelspec": {
      "display_name": "Python 3",
      "language": "python",
      "name": "python3"
    },
    "language_info": {
      "codemirror_mode": {
        "name": "ipython",
        "version": 3
      },
      "file_extension": ".py",
      "mimetype": "text/x-python",
      "name": "python",
      "nbconvert_exporter": "python",
      "pygments_lexer": "ipython3",
      "version": "3.8.8"
    },
    "accelerator": "GPU"
  },
  "nbformat": 4,
  "nbformat_minor": 0
}